{
 "cells": [
  {
   "cell_type": "code",
   "execution_count": 1,
   "metadata": {},
   "outputs": [],
   "source": [
    "import os\n",
    "import numpy as np\n",
    "import pandas as pd\n",
    "import matplotlib.pyplot as plt\n",
    "import plotly.graph_objects as go\n",
    "\n",
    "from scipy.stats import chi2"
   ]
  },
  {
   "cell_type": "code",
   "execution_count": 2,
   "metadata": {},
   "outputs": [],
   "source": [
    "def check_outlier(data, low_th, high_th):\n",
    "   Q3 = np.percentile(data, high_th, method='midpoint')\n",
    "   Q1 = np.percentile(data, low_th, method='midpoint')\n",
    "   IQR = Q3 - Q1\n",
    "   lower = Q1 - 1.5*IQR\n",
    "   upper = Q3 + 1.5*IQR\n",
    "   mask = (data > upper) | (data < lower)\n",
    "   return mask\n",
    "\n",
    "\n",
    "def remove_outlier(df, labels, low_th, high_th):\n",
    "   result = df.copy()\n",
    "   for l in labels:\n",
    "      name_new_col = f'ol_{l}'\n",
    "      data_new = check_outlier(result[l], low_th, high_th)\n",
    "      result[name_new_col] = data_new\n",
    "      result = result[result[name_new_col] != True]\n",
    "      result = result.drop(labels=name_new_col, axis=1)\n",
    "   return result\n",
    "\n",
    "\n",
    "def bootstrap(data, total_size=10000):\n",
    "    vnd_population = []\n",
    "    demand_population = []\n",
    "    supply_population = []\n",
    "    \n",
    "    size = len(data)\n",
    "    \n",
    "    while len(vnd_population) < total_size:\n",
    "        try:\n",
    "            indices = np.random.randint(low=0, high=size, size=size)\n",
    "            vnd_sample = data['VND'].iloc[indices]\n",
    "            demand_sample = data['demand'].iloc[indices]\n",
    "            supply_sample = data['supply'].iloc[indices]\n",
    "            vnd_population.append(np.mean(vnd_sample))\n",
    "            demand_population.append(np.mean(demand_sample))\n",
    "            supply_population.append(np.mean(supply_sample))\n",
    "\n",
    "        except IndexError:\n",
    "            continue\n",
    "    \n",
    "    df = pd.DataFrame({\n",
    "            'VND': vnd_population,\n",
    "            'demand': demand_population,\n",
    "            'supply': supply_population\n",
    "        })\n",
    "\n",
    "    df = remove_outlier(df, labels=['VND'], low_th=5, high_th=95)\n",
    "\n",
    "    return df\n",
    "\n",
    "\n",
    "def mid_data(df):\n",
    "\n",
    "    df = bootstrap(df)\n",
    "\n",
    "    y = df['VND'].values\n",
    "    x_d = df['demand'].values\n",
    "    x_s = df['supply'].values\n",
    "    \n",
    "    max_ = max(np.max(x_d), np.max(x_s))\n",
    "    x_sm = np.linspace(0, max_, int(max_*1000))\n",
    "    \n",
    "    # procesing demand\n",
    "    z_d = np.polyfit(x_d, y, 1)\n",
    "    y_hat_d = z_d[1] + z_d[0]*x_sm\n",
    "    y_hat_d = np.round(y_hat_d, 2)\n",
    "\n",
    "    # procesing demand\n",
    "    z_s = np.polyfit(x_s, y, 1)\n",
    "    y_hat_s = z_s[1] + z_s[0]*x_sm\n",
    "    y_hat_s = np.round(y_hat_s, 2)\n",
    "\n",
    "    index_equal = np.where(y_hat_d == y_hat_s)[0]\n",
    "\n",
    "    return np.median(y_hat_d[index_equal])\n",
    "\n",
    "\n",
    "def estimation_sigma(data):\n",
    "    n = len(data)\n",
    "    S = data.std()\n",
    "    up = ( (n-1)*S**2 ) / ( chi2.isf(1-0.05/2, n-1) )\n",
    "    down = ( (n-1)*S**2 ) / ( chi2.isf(0.05/2, n-1) )\n",
    "    return np.sqrt(down), np.sqrt(up)"
   ]
  },
  {
   "cell_type": "code",
   "execution_count": 3,
   "metadata": {},
   "outputs": [
    {
     "name": "stderr",
     "output_type": "stream",
     "text": [
      "/home/dang/.local/lib/python3.10/site-packages/numpy/core/fromnumeric.py:3504: RuntimeWarning: Mean of empty slice.\n",
      "  return _methods._mean(a, axis=axis, dtype=dtype,\n",
      "/home/dang/.local/lib/python3.10/site-packages/numpy/core/_methods.py:129: RuntimeWarning: invalid value encountered in scalar divide\n",
      "  ret = ret.dtype.type(ret / rcount)\n",
      "/home/dang/.local/lib/python3.10/site-packages/numpy/core/fromnumeric.py:3504: RuntimeWarning: Mean of empty slice.\n",
      "  return _methods._mean(a, axis=axis, dtype=dtype,\n",
      "/home/dang/.local/lib/python3.10/site-packages/numpy/core/_methods.py:129: RuntimeWarning: invalid value encountered in scalar divide\n",
      "  ret = ret.dtype.type(ret / rcount)\n",
      "/home/dang/.local/lib/python3.10/site-packages/numpy/core/fromnumeric.py:3504: RuntimeWarning: Mean of empty slice.\n",
      "  return _methods._mean(a, axis=axis, dtype=dtype,\n",
      "/home/dang/.local/lib/python3.10/site-packages/numpy/core/_methods.py:129: RuntimeWarning: invalid value encountered in scalar divide\n",
      "  ret = ret.dtype.type(ret / rcount)\n",
      "/home/dang/.local/lib/python3.10/site-packages/numpy/core/fromnumeric.py:3504: RuntimeWarning: Mean of empty slice.\n",
      "  return _methods._mean(a, axis=axis, dtype=dtype,\n",
      "/home/dang/.local/lib/python3.10/site-packages/numpy/core/_methods.py:129: RuntimeWarning: invalid value encountered in scalar divide\n",
      "  ret = ret.dtype.type(ret / rcount)\n",
      "/home/dang/.local/lib/python3.10/site-packages/numpy/core/fromnumeric.py:3504: RuntimeWarning: Mean of empty slice.\n",
      "  return _methods._mean(a, axis=axis, dtype=dtype,\n",
      "/home/dang/.local/lib/python3.10/site-packages/numpy/core/_methods.py:129: RuntimeWarning: invalid value encountered in scalar divide\n",
      "  ret = ret.dtype.type(ret / rcount)\n",
      "/home/dang/.local/lib/python3.10/site-packages/numpy/core/fromnumeric.py:3504: RuntimeWarning: Mean of empty slice.\n",
      "  return _methods._mean(a, axis=axis, dtype=dtype,\n",
      "/home/dang/.local/lib/python3.10/site-packages/numpy/core/_methods.py:129: RuntimeWarning: invalid value encountered in scalar divide\n",
      "  ret = ret.dtype.type(ret / rcount)\n",
      "/home/dang/.local/lib/python3.10/site-packages/numpy/core/fromnumeric.py:3504: RuntimeWarning: Mean of empty slice.\n",
      "  return _methods._mean(a, axis=axis, dtype=dtype,\n",
      "/home/dang/.local/lib/python3.10/site-packages/numpy/core/_methods.py:129: RuntimeWarning: invalid value encountered in scalar divide\n",
      "  ret = ret.dtype.type(ret / rcount)\n",
      "/home/dang/.local/lib/python3.10/site-packages/numpy/core/fromnumeric.py:3504: RuntimeWarning: Mean of empty slice.\n",
      "  return _methods._mean(a, axis=axis, dtype=dtype,\n",
      "/home/dang/.local/lib/python3.10/site-packages/numpy/core/_methods.py:129: RuntimeWarning: invalid value encountered in scalar divide\n",
      "  ret = ret.dtype.type(ret / rcount)\n",
      "/home/dang/.local/lib/python3.10/site-packages/numpy/core/fromnumeric.py:3504: RuntimeWarning: Mean of empty slice.\n",
      "  return _methods._mean(a, axis=axis, dtype=dtype,\n",
      "/home/dang/.local/lib/python3.10/site-packages/numpy/core/_methods.py:129: RuntimeWarning: invalid value encountered in scalar divide\n",
      "  ret = ret.dtype.type(ret / rcount)\n",
      "/home/dang/.local/lib/python3.10/site-packages/numpy/core/fromnumeric.py:3504: RuntimeWarning: Mean of empty slice.\n",
      "  return _methods._mean(a, axis=axis, dtype=dtype,\n",
      "/home/dang/.local/lib/python3.10/site-packages/numpy/core/_methods.py:129: RuntimeWarning: invalid value encountered in scalar divide\n",
      "  ret = ret.dtype.type(ret / rcount)\n",
      "/home/dang/.local/lib/python3.10/site-packages/numpy/core/fromnumeric.py:3504: RuntimeWarning: Mean of empty slice.\n",
      "  return _methods._mean(a, axis=axis, dtype=dtype,\n",
      "/home/dang/.local/lib/python3.10/site-packages/numpy/core/_methods.py:129: RuntimeWarning: invalid value encountered in scalar divide\n",
      "  ret = ret.dtype.type(ret / rcount)\n"
     ]
    }
   ],
   "source": [
    "path = 'data/'\n",
    "files = os.listdir(path)\n",
    "\n",
    "ID = []\n",
    "Balance_prices = []\n",
    "Present_prices = []\n",
    "Compares = []\n",
    "Percents = []\n",
    "Lower_sigma = []\n",
    "Upper_sigma = []\n",
    "\n",
    "for file in files:\n",
    "    df = pd.read_csv(f'{path}{file}')\n",
    "    \n",
    "    # Skip files with less than or equal to 30 rows\n",
    "    if len(df) <= 30:\n",
    "        continue\n",
    "\n",
    "    # Extract ID from file name\n",
    "    id = file.replace('.csv', '').split('_')[1]\n",
    "    \n",
    "    # Calculate balance price, present price, and sigma\n",
    "    balance_price = mid_data(df)\n",
    "    present_price = df['VND'].values[0]\n",
    "    compare = present_price - balance_price\n",
    "    percent = np.round(np.abs(compare)/balance_price * 100, 2)\n",
    "    sigma_low, sigma_high = estimation_sigma(df['VND'].values)\n",
    "\n",
    "    # Append data to lists\n",
    "    ID.append(id)\n",
    "    Balance_prices.append(balance_price)\n",
    "    Present_prices.append(present_price)\n",
    "    Compares.append(compare)\n",
    "    Percents.append(percent)\n",
    "    Lower_sigma.append(sigma_low)\n",
    "    Upper_sigma.append(sigma_high)\n",
    "\n",
    "# Create DataFrame from collected data\n",
    "data = pd.DataFrame({\n",
    "    'ID': ID,\n",
    "    'Balance Price': Balance_prices,\n",
    "    'Present Price': Present_prices,\n",
    "    'Present - Balance': Compares,\n",
    "    'Percent': Percents,\n",
    "    'Lower Sigma': Lower_sigma,\n",
    "    'Upper Sigma': Upper_sigma\n",
    "})"
   ]
  },
  {
   "cell_type": "code",
   "execution_count": 4,
   "metadata": {},
   "outputs": [
    {
     "data": {
      "text/html": [
       "<div>\n",
       "<style scoped>\n",
       "    .dataframe tbody tr th:only-of-type {\n",
       "        vertical-align: middle;\n",
       "    }\n",
       "\n",
       "    .dataframe tbody tr th {\n",
       "        vertical-align: top;\n",
       "    }\n",
       "\n",
       "    .dataframe thead th {\n",
       "        text-align: right;\n",
       "    }\n",
       "</style>\n",
       "<table border=\"1\" class=\"dataframe\">\n",
       "  <thead>\n",
       "    <tr style=\"text-align: right;\">\n",
       "      <th></th>\n",
       "      <th>ID</th>\n",
       "      <th>Balance Price</th>\n",
       "      <th>Present Price</th>\n",
       "      <th>Present - Balance</th>\n",
       "      <th>Percent</th>\n",
       "      <th>Lower Sigma</th>\n",
       "      <th>Upper Sigma</th>\n",
       "    </tr>\n",
       "  </thead>\n",
       "  <tbody>\n",
       "    <tr>\n",
       "      <th>0</th>\n",
       "      <td>VNM</td>\n",
       "      <td>87.31</td>\n",
       "      <td>67.70</td>\n",
       "      <td>-19.61</td>\n",
       "      <td>22.46</td>\n",
       "      <td>15.930499</td>\n",
       "      <td>17.348936</td>\n",
       "    </tr>\n",
       "    <tr>\n",
       "      <th>1</th>\n",
       "      <td>HPG</td>\n",
       "      <td>26.37</td>\n",
       "      <td>30.55</td>\n",
       "      <td>4.18</td>\n",
       "      <td>15.85</td>\n",
       "      <td>11.863004</td>\n",
       "      <td>12.919275</td>\n",
       "    </tr>\n",
       "    <tr>\n",
       "      <th>2</th>\n",
       "      <td>BCM</td>\n",
       "      <td>63.92</td>\n",
       "      <td>65.30</td>\n",
       "      <td>1.38</td>\n",
       "      <td>2.16</td>\n",
       "      <td>14.202445</td>\n",
       "      <td>15.583617</td>\n",
       "    </tr>\n",
       "    <tr>\n",
       "      <th>8</th>\n",
       "      <td>TPB</td>\n",
       "      <td>26.13</td>\n",
       "      <td>19.10</td>\n",
       "      <td>-7.03</td>\n",
       "      <td>26.90</td>\n",
       "      <td>7.875109</td>\n",
       "      <td>8.576302</td>\n",
       "    </tr>\n",
       "    <tr>\n",
       "      <th>10</th>\n",
       "      <td>VIC</td>\n",
       "      <td>82.18</td>\n",
       "      <td>47.60</td>\n",
       "      <td>-34.58</td>\n",
       "      <td>42.08</td>\n",
       "      <td>24.022249</td>\n",
       "      <td>26.161169</td>\n",
       "    </tr>\n",
       "    <tr>\n",
       "      <th>12</th>\n",
       "      <td>SHB</td>\n",
       "      <td>14.35</td>\n",
       "      <td>11.60</td>\n",
       "      <td>-2.75</td>\n",
       "      <td>19.16</td>\n",
       "      <td>4.685689</td>\n",
       "      <td>5.240266</td>\n",
       "    </tr>\n",
       "    <tr>\n",
       "      <th>13</th>\n",
       "      <td>GAS</td>\n",
       "      <td>92.65</td>\n",
       "      <td>80.30</td>\n",
       "      <td>-12.35</td>\n",
       "      <td>13.33</td>\n",
       "      <td>14.970336</td>\n",
       "      <td>16.303281</td>\n",
       "    </tr>\n",
       "    <tr>\n",
       "      <th>14</th>\n",
       "      <td>FPT</td>\n",
       "      <td>77.75</td>\n",
       "      <td>117.10</td>\n",
       "      <td>39.35</td>\n",
       "      <td>50.61</td>\n",
       "      <td>17.750152</td>\n",
       "      <td>19.330609</td>\n",
       "    </tr>\n",
       "    <tr>\n",
       "      <th>15</th>\n",
       "      <td>TCB</td>\n",
       "      <td>29.37</td>\n",
       "      <td>48.00</td>\n",
       "      <td>18.63</td>\n",
       "      <td>63.43</td>\n",
       "      <td>10.473641</td>\n",
       "      <td>11.408516</td>\n",
       "    </tr>\n",
       "    <tr>\n",
       "      <th>16</th>\n",
       "      <td>BID</td>\n",
       "      <td>41.49</td>\n",
       "      <td>52.60</td>\n",
       "      <td>11.11</td>\n",
       "      <td>26.78</td>\n",
       "      <td>4.565470</td>\n",
       "      <td>4.971976</td>\n",
       "    </tr>\n",
       "    <tr>\n",
       "      <th>17</th>\n",
       "      <td>VCB</td>\n",
       "      <td>88.21</td>\n",
       "      <td>95.70</td>\n",
       "      <td>7.49</td>\n",
       "      <td>8.49</td>\n",
       "      <td>9.431657</td>\n",
       "      <td>10.271444</td>\n",
       "    </tr>\n",
       "    <tr>\n",
       "      <th>18</th>\n",
       "      <td>CTG</td>\n",
       "      <td>26.91</td>\n",
       "      <td>35.75</td>\n",
       "      <td>8.84</td>\n",
       "      <td>32.85</td>\n",
       "      <td>6.121031</td>\n",
       "      <td>6.666043</td>\n",
       "    </tr>\n",
       "    <tr>\n",
       "      <th>20</th>\n",
       "      <td>PLX</td>\n",
       "      <td>43.65</td>\n",
       "      <td>37.55</td>\n",
       "      <td>-6.10</td>\n",
       "      <td>13.97</td>\n",
       "      <td>8.298566</td>\n",
       "      <td>9.037462</td>\n",
       "    </tr>\n",
       "    <tr>\n",
       "      <th>22</th>\n",
       "      <td>VRE</td>\n",
       "      <td>28.32</td>\n",
       "      <td>25.65</td>\n",
       "      <td>-2.67</td>\n",
       "      <td>9.43</td>\n",
       "      <td>3.119125</td>\n",
       "      <td>3.397676</td>\n",
       "    </tr>\n",
       "    <tr>\n",
       "      <th>23</th>\n",
       "      <td>VHM</td>\n",
       "      <td>69.42</td>\n",
       "      <td>43.30</td>\n",
       "      <td>-26.12</td>\n",
       "      <td>37.63</td>\n",
       "      <td>19.768260</td>\n",
       "      <td>21.528408</td>\n",
       "    </tr>\n",
       "    <tr>\n",
       "      <th>24</th>\n",
       "      <td>MWG</td>\n",
       "      <td>101.05</td>\n",
       "      <td>51.00</td>\n",
       "      <td>-50.05</td>\n",
       "      <td>49.53</td>\n",
       "      <td>39.530101</td>\n",
       "      <td>43.049826</td>\n",
       "    </tr>\n",
       "    <tr>\n",
       "      <th>25</th>\n",
       "      <td>ACB</td>\n",
       "      <td>26.73</td>\n",
       "      <td>28.35</td>\n",
       "      <td>1.62</td>\n",
       "      <td>6.06</td>\n",
       "      <td>4.970817</td>\n",
       "      <td>5.475698</td>\n",
       "    </tr>\n",
       "    <tr>\n",
       "      <th>27</th>\n",
       "      <td>HDB</td>\n",
       "      <td>22.36</td>\n",
       "      <td>24.25</td>\n",
       "      <td>1.89</td>\n",
       "      <td>8.45</td>\n",
       "      <td>4.922129</td>\n",
       "      <td>5.360391</td>\n",
       "    </tr>\n",
       "    <tr>\n",
       "      <th>29</th>\n",
       "      <td>SSB</td>\n",
       "      <td>32.64</td>\n",
       "      <td>22.20</td>\n",
       "      <td>-10.44</td>\n",
       "      <td>31.99</td>\n",
       "      <td>5.202710</td>\n",
       "      <td>5.756075</td>\n",
       "    </tr>\n",
       "  </tbody>\n",
       "</table>\n",
       "</div>"
      ],
      "text/plain": [
       "     ID  Balance Price  Present Price  Present - Balance  Percent  \\\n",
       "0   VNM          87.31          67.70             -19.61    22.46   \n",
       "1   HPG          26.37          30.55               4.18    15.85   \n",
       "2   BCM          63.92          65.30               1.38     2.16   \n",
       "8   TPB          26.13          19.10              -7.03    26.90   \n",
       "10  VIC          82.18          47.60             -34.58    42.08   \n",
       "12  SHB          14.35          11.60              -2.75    19.16   \n",
       "13  GAS          92.65          80.30             -12.35    13.33   \n",
       "14  FPT          77.75         117.10              39.35    50.61   \n",
       "15  TCB          29.37          48.00              18.63    63.43   \n",
       "16  BID          41.49          52.60              11.11    26.78   \n",
       "17  VCB          88.21          95.70               7.49     8.49   \n",
       "18  CTG          26.91          35.75               8.84    32.85   \n",
       "20  PLX          43.65          37.55              -6.10    13.97   \n",
       "22  VRE          28.32          25.65              -2.67     9.43   \n",
       "23  VHM          69.42          43.30             -26.12    37.63   \n",
       "24  MWG         101.05          51.00             -50.05    49.53   \n",
       "25  ACB          26.73          28.35               1.62     6.06   \n",
       "27  HDB          22.36          24.25               1.89     8.45   \n",
       "29  SSB          32.64          22.20             -10.44    31.99   \n",
       "\n",
       "    Lower Sigma  Upper Sigma  \n",
       "0     15.930499    17.348936  \n",
       "1     11.863004    12.919275  \n",
       "2     14.202445    15.583617  \n",
       "8      7.875109     8.576302  \n",
       "10    24.022249    26.161169  \n",
       "12     4.685689     5.240266  \n",
       "13    14.970336    16.303281  \n",
       "14    17.750152    19.330609  \n",
       "15    10.473641    11.408516  \n",
       "16     4.565470     4.971976  \n",
       "17     9.431657    10.271444  \n",
       "18     6.121031     6.666043  \n",
       "20     8.298566     9.037462  \n",
       "22     3.119125     3.397676  \n",
       "23    19.768260    21.528408  \n",
       "24    39.530101    43.049826  \n",
       "25     4.970817     5.475698  \n",
       "27     4.922129     5.360391  \n",
       "29     5.202710     5.756075  "
      ]
     },
     "execution_count": 4,
     "metadata": {},
     "output_type": "execute_result"
    }
   ],
   "source": [
    "data = data.dropna()\n",
    "data"
   ]
  },
  {
   "cell_type": "code",
   "execution_count": 5,
   "metadata": {},
   "outputs": [
    {
     "data": {
      "text/html": [
       "<div>\n",
       "<style scoped>\n",
       "    .dataframe tbody tr th:only-of-type {\n",
       "        vertical-align: middle;\n",
       "    }\n",
       "\n",
       "    .dataframe tbody tr th {\n",
       "        vertical-align: top;\n",
       "    }\n",
       "\n",
       "    .dataframe thead th {\n",
       "        text-align: right;\n",
       "    }\n",
       "</style>\n",
       "<table border=\"1\" class=\"dataframe\">\n",
       "  <thead>\n",
       "    <tr style=\"text-align: right;\">\n",
       "      <th></th>\n",
       "      <th>ID</th>\n",
       "      <th>Balance Price</th>\n",
       "      <th>Present Price</th>\n",
       "      <th>Present - Balance</th>\n",
       "      <th>Percent</th>\n",
       "      <th>Lower Sigma</th>\n",
       "      <th>Upper Sigma</th>\n",
       "    </tr>\n",
       "  </thead>\n",
       "  <tbody>\n",
       "    <tr>\n",
       "      <th>0</th>\n",
       "      <td>VNM</td>\n",
       "      <td>87.31</td>\n",
       "      <td>67.70</td>\n",
       "      <td>-19.61</td>\n",
       "      <td>22.46</td>\n",
       "      <td>15.930499</td>\n",
       "      <td>17.348936</td>\n",
       "    </tr>\n",
       "    <tr>\n",
       "      <th>8</th>\n",
       "      <td>TPB</td>\n",
       "      <td>26.13</td>\n",
       "      <td>19.10</td>\n",
       "      <td>-7.03</td>\n",
       "      <td>26.90</td>\n",
       "      <td>7.875109</td>\n",
       "      <td>8.576302</td>\n",
       "    </tr>\n",
       "    <tr>\n",
       "      <th>10</th>\n",
       "      <td>VIC</td>\n",
       "      <td>82.18</td>\n",
       "      <td>47.60</td>\n",
       "      <td>-34.58</td>\n",
       "      <td>42.08</td>\n",
       "      <td>24.022249</td>\n",
       "      <td>26.161169</td>\n",
       "    </tr>\n",
       "    <tr>\n",
       "      <th>12</th>\n",
       "      <td>SHB</td>\n",
       "      <td>14.35</td>\n",
       "      <td>11.60</td>\n",
       "      <td>-2.75</td>\n",
       "      <td>19.16</td>\n",
       "      <td>4.685689</td>\n",
       "      <td>5.240266</td>\n",
       "    </tr>\n",
       "    <tr>\n",
       "      <th>13</th>\n",
       "      <td>GAS</td>\n",
       "      <td>92.65</td>\n",
       "      <td>80.30</td>\n",
       "      <td>-12.35</td>\n",
       "      <td>13.33</td>\n",
       "      <td>14.970336</td>\n",
       "      <td>16.303281</td>\n",
       "    </tr>\n",
       "    <tr>\n",
       "      <th>20</th>\n",
       "      <td>PLX</td>\n",
       "      <td>43.65</td>\n",
       "      <td>37.55</td>\n",
       "      <td>-6.10</td>\n",
       "      <td>13.97</td>\n",
       "      <td>8.298566</td>\n",
       "      <td>9.037462</td>\n",
       "    </tr>\n",
       "    <tr>\n",
       "      <th>22</th>\n",
       "      <td>VRE</td>\n",
       "      <td>28.32</td>\n",
       "      <td>25.65</td>\n",
       "      <td>-2.67</td>\n",
       "      <td>9.43</td>\n",
       "      <td>3.119125</td>\n",
       "      <td>3.397676</td>\n",
       "    </tr>\n",
       "    <tr>\n",
       "      <th>23</th>\n",
       "      <td>VHM</td>\n",
       "      <td>69.42</td>\n",
       "      <td>43.30</td>\n",
       "      <td>-26.12</td>\n",
       "      <td>37.63</td>\n",
       "      <td>19.768260</td>\n",
       "      <td>21.528408</td>\n",
       "    </tr>\n",
       "    <tr>\n",
       "      <th>24</th>\n",
       "      <td>MWG</td>\n",
       "      <td>101.05</td>\n",
       "      <td>51.00</td>\n",
       "      <td>-50.05</td>\n",
       "      <td>49.53</td>\n",
       "      <td>39.530101</td>\n",
       "      <td>43.049826</td>\n",
       "    </tr>\n",
       "    <tr>\n",
       "      <th>29</th>\n",
       "      <td>SSB</td>\n",
       "      <td>32.64</td>\n",
       "      <td>22.20</td>\n",
       "      <td>-10.44</td>\n",
       "      <td>31.99</td>\n",
       "      <td>5.202710</td>\n",
       "      <td>5.756075</td>\n",
       "    </tr>\n",
       "  </tbody>\n",
       "</table>\n",
       "</div>"
      ],
      "text/plain": [
       "     ID  Balance Price  Present Price  Present - Balance  Percent  \\\n",
       "0   VNM          87.31          67.70             -19.61    22.46   \n",
       "8   TPB          26.13          19.10              -7.03    26.90   \n",
       "10  VIC          82.18          47.60             -34.58    42.08   \n",
       "12  SHB          14.35          11.60              -2.75    19.16   \n",
       "13  GAS          92.65          80.30             -12.35    13.33   \n",
       "20  PLX          43.65          37.55              -6.10    13.97   \n",
       "22  VRE          28.32          25.65              -2.67     9.43   \n",
       "23  VHM          69.42          43.30             -26.12    37.63   \n",
       "24  MWG         101.05          51.00             -50.05    49.53   \n",
       "29  SSB          32.64          22.20             -10.44    31.99   \n",
       "\n",
       "    Lower Sigma  Upper Sigma  \n",
       "0     15.930499    17.348936  \n",
       "8      7.875109     8.576302  \n",
       "10    24.022249    26.161169  \n",
       "12     4.685689     5.240266  \n",
       "13    14.970336    16.303281  \n",
       "20     8.298566     9.037462  \n",
       "22     3.119125     3.397676  \n",
       "23    19.768260    21.528408  \n",
       "24    39.530101    43.049826  \n",
       "29     5.202710     5.756075  "
      ]
     },
     "execution_count": 5,
     "metadata": {},
     "output_type": "execute_result"
    }
   ],
   "source": [
    "data_clear = data.where(data['Present - Balance'] < 0).dropna()\n",
    "data_clear"
   ]
  },
  {
   "cell_type": "code",
   "execution_count": 6,
   "metadata": {},
   "outputs": [
    {
     "name": "stdout",
     "output_type": "stream",
     "text": [
      "VNM 67.7 69.96 3.3398\n",
      "TPB 19.1 17.55 8.0958\n",
      "VIC 47.6 56.02 17.6866\n",
      "SHB 11.6 9.11 21.4678\n",
      "GAS 80.3 76.35 4.9231\n",
      "PLX 37.55 34.61 7.8228\n",
      "VRE 25.65 24.92 2.8369\n",
      "VHM 43.3 47.89 10.6041\n",
      "MWG 51.0 58.0 13.7258\n",
      "SSB 22.2 26.88 21.0988\n"
     ]
    }
   ],
   "source": [
    "for i in range(len(data_clear)):\n",
    "    ID = data_clear['ID'].values[i]\n",
    "    Present = data_clear[\"Present Price\"].values[i]\n",
    "    Shift = data_clear[\"Balance Price\"].values[i] - data_clear['Upper Sigma'].values[i]\n",
    "    percent = np.abs(Shift - Present) / Present * 100\n",
    "\n",
    "    print(ID, Present, np.round(Shift, 2), np.round(percent, 4))"
   ]
  },
  {
   "cell_type": "markdown",
   "metadata": {},
   "source": [
    "VNM, SAB, VIC, VHM, MWG, SSB"
   ]
  },
  {
   "cell_type": "markdown",
   "metadata": {},
   "source": [
    "# MWG\n",
    "\n",
    "Công ty Cổ phần Đầu tư Thế Giới Di Động.\n",
    "\n",
    "Co the tang 100% nhung rui ro cuc cao.\n",
    "\n",
    "Thoi gian cho lau."
   ]
  },
  {
   "cell_type": "code",
   "execution_count": 7,
   "metadata": {},
   "outputs": [
    {
     "data": {
      "application/vnd.plotly.v1+json": {
       "config": {
        "plotlyServerURL": "https://plot.ly"
       },
       "data": [
        {
         "mode": "lines",
         "name": "lines",
         "type": "scatter",
         "y": [
          117,
          115.3,
          114.7,
          115.6,
          112.8,
          114.5,
          115.1,
          114.5,
          113.9,
          114,
          115.4,
          116.1,
          118.6,
          120,
          119.2,
          114,
          110.8,
          108.8,
          107.9,
          108,
          109.5,
          108.7,
          105.8,
          106.5,
          109,
          108,
          107.1,
          107.5,
          108.9,
          110.5,
          110.6,
          110.6,
          106.2,
          107,
          106.2,
          108.4,
          106.5,
          106.5,
          106.4,
          106,
          105.5,
          103.1,
          95.9,
          93.9,
          87.4,
          81.3,
          79,
          76,
          77.3,
          78.8,
          75.6,
          77.2,
          71.8,
          68.8,
          73,
          68,
          63.3,
          59.5,
          58.9,
          61.2,
          65.4,
          69.9,
          74.6,
          74,
          73,
          71.7,
          75,
          74.8,
          76.8,
          76.9,
          82,
          84.3,
          79.4,
          82,
          83.5,
          83,
          82.2,
          80.9,
          81.7,
          79.4,
          79.3,
          81.2,
          82.6,
          83.8,
          85,
          83.3,
          83.9,
          83,
          82.1,
          85.5,
          87.2,
          86.5,
          87,
          85,
          86.1,
          86.5,
          84.8,
          84.7,
          84.6,
          86,
          85.3,
          85.4,
          85.5,
          86.1,
          90.1,
          88.7,
          89.4,
          83.2,
          86,
          82.5,
          84.4,
          83.8,
          83.8,
          84.5,
          85.9,
          85.3,
          85,
          83.6,
          84.2,
          81.5,
          80.8,
          82,
          81.8,
          81.7,
          83.5,
          83.7,
          83.6,
          84,
          82.9,
          82.8,
          82.9,
          84.6,
          84.8,
          84,
          83.3,
          83.7,
          83.2,
          83,
          79.2,
          73.7,
          76,
          73,
          74.3,
          74.5,
          76,
          77,
          79.2,
          79.3,
          78.6,
          79,
          79.5,
          79.8,
          82.2,
          83.1,
          82.2,
          81.4,
          81.8,
          81.7,
          82,
          84.1,
          87.6,
          87.3,
          88.9,
          92.8,
          93.4,
          93.8,
          94.8,
          94.1,
          90.3,
          93.1,
          93.4,
          93.9,
          93.4,
          93,
          92.9,
          94.6,
          94.2,
          94.5,
          98.4,
          99.6,
          101.9,
          101.2,
          100.5,
          103,
          103.5,
          104.3,
          105,
          104,
          104,
          105.2,
          107.6,
          109.5,
          109,
          107.5,
          106.2,
          109,
          109.4,
          108.4,
          106.8,
          106.8,
          105.8,
          108.5,
          110,
          110,
          110,
          105,
          102.3,
          104.7,
          106.4,
          107.2,
          106.8,
          106.8,
          105,
          105.7,
          106,
          108,
          111.1,
          111.1,
          109.7,
          112,
          110.6,
          112,
          110.8,
          113.2,
          112,
          112,
          112.8,
          115.5,
          116,
          116,
          114,
          114.7,
          113.9,
          114.3,
          114.5,
          115,
          113.8,
          114.3,
          115.7,
          115.3,
          115.5,
          113.5,
          115,
          116.2,
          119.9,
          118.1,
          116.7,
          118.5,
          117.3,
          117.2,
          117.3,
          118.9,
          120.6,
          121.9,
          121.3,
          120.8,
          121.8,
          126.2,
          126.2,
          126.2,
          127.9,
          127.8,
          126.4,
          120,
          122.8,
          125,
          127.2,
          132,
          132,
          133.5,
          124.2,
          132.7,
          123.7,
          128,
          127.5,
          128.5,
          130.5,
          128.5,
          129.5,
          138,
          139.5,
          137.6,
          137,
          136.2,
          133.8,
          135.7,
          135,
          134.8,
          135.8,
          136.2,
          132.8,
          132.2,
          130.8,
          128.1,
          130.5,
          132.5,
          131.1,
          132.7,
          133.2,
          132.8,
          133.6,
          133,
          131.9,
          131,
          129.9,
          128.8,
          130,
          130.1,
          129.4,
          129.7,
          134.3,
          134.8,
          134.1,
          133.3,
          134.5,
          134,
          133.3,
          134.9,
          134.9,
          135.4,
          133.7,
          134,
          137.4,
          142.5,
          142.5,
          147.5,
          142.5,
          141.9,
          140,
          140.9,
          139.4,
          140.9,
          142,
          140.2,
          138.1,
          137.5,
          139.5,
          140,
          142.5,
          141.5,
          141.7,
          141.7,
          150,
          145.4,
          146,
          146,
          144.9,
          142.4,
          142.7,
          138.5,
          136.5,
          138.8,
          139,
          137.5,
          136.1,
          136,
          136.4,
          135.3,
          137,
          138.1,
          137.9,
          137,
          139,
          141,
          145.8,
          146,
          144,
          144,
          143.7,
          145.5,
          147,
          152,
          151.1,
          156.8,
          166.5,
          155,
          165.8,
          172.5,
          176.5,
          176.6,
          175,
          166.5,
          167.1,
          168.1,
          156.5,
          164.6,
          163.4,
          165.2,
          161.7,
          160.3,
          158,
          157.1,
          162.8,
          164.1,
          169.9,
          169.9,
          170,
          173,
          171.5,
          173.8,
          173.9,
          175,
          170,
          171,
          170.1,
          169.9,
          172.5,
          172.5,
          164,
          158.1,
          160.5,
          161.5,
          162,
          164.5,
          110.6,
          111,
          110.2,
          111,
          110.3,
          111.4,
          118.9,
          118.9,
          125,
          124.5,
          124.6,
          123.6,
          123,
          123,
          123.8,
          125.7,
          132,
          130.5,
          126,
          126.7,
          127.8,
          127.8,
          126.2,
          126.2,
          126.8,
          128.3,
          128,
          128.8,
          129.5,
          132.1,
          133.9,
          133.5,
          132.4,
          130.7,
          129.7,
          129.2,
          127,
          127.6,
          128.4,
          128,
          132,
          132,
          131.4,
          130,
          128.9,
          128.8,
          129.9,
          132,
          131.6,
          130,
          131.5,
          135,
          136,
          139.4,
          137.9,
          137.9,
          139,
          139,
          138.6,
          143,
          144,
          145,
          141.5,
          137.5,
          138.9,
          138.9,
          137,
          133.5,
          131.4,
          133.5,
          133.9,
          134,
          134.1,
          134.9,
          135.4,
          135.9,
          133.6,
          134.5,
          133,
          133,
          134.8,
          133.6,
          134.6,
          134.9,
          135.8,
          134.4,
          134.3,
          135.9,
          137.8,
          137.1,
          137.5,
          135.5,
          133,
          131.8,
          136,
          135.5,
          134,
          130,
          130.1,
          133.5,
          134,
          133.2,
          129.9,
          131,
          131.9,
          131.5,
          132.5,
          133.9,
          136.3,
          137,
          136.3,
          135.3,
          132,
          133.3,
          132.9,
          134.5,
          134,
          133.9,
          137.7,
          137.8,
          136.8,
          137.6,
          136,
          136,
          134.5,
          136.5,
          135.8,
          134.2,
          134.2,
          133.8,
          133.5,
          133,
          131.7,
          131.4,
          131.4,
          130.8,
          131.6,
          134.9,
          135.2,
          135,
          134,
          138.9,
          144,
          146.5,
          144.4,
          145.8,
          156,
          155,
          155.2,
          158.8,
          155,
          150,
          152.7,
          156.2,
          159.5,
          160.2,
          160.2,
          156,
          156,
          155.5,
          155.8,
          144.9,
          148.8,
          147.2,
          145,
          149.2,
          149.5,
          149.4,
          146.6,
          136.4,
          140.1,
          141,
          134.4,
          125.1,
          123,
          131.6,
          133.5,
          133,
          134,
          130.8,
          133,
          139,
          139,
          146.7,
          145.2,
          144.9,
          145.5,
          147.7,
          153.2,
          154.7,
          153,
          153.4,
          152.8,
          150,
          140,
          143.5,
          147.7,
          79,
          77.7,
          73.9,
          73.5,
          69.8,
          72.5,
          71.9,
          71.5,
          72.8,
          73,
          71.5,
          70.3,
          67.8,
          65.5,
          64,
          64,
          65,
          64.5,
          64.4,
          63.6,
          62.6,
          61.5,
          61,
          60,
          61.2,
          64.1,
          64.5,
          63.3,
          63,
          62.1,
          62,
          61,
          61.3,
          62,
          61.8,
          62.7,
          62.7,
          62.9,
          63.3,
          63.6,
          63,
          63,
          65,
          66,
          65,
          64.5,
          64.1,
          66.5,
          66.9,
          66.8,
          68.4,
          72.2,
          74,
          73.3,
          74,
          72.5,
          72.9,
          70.7,
          71.5,
          72,
          74,
          74.1,
          73.7,
          73.9,
          72,
          70.5,
          71.7,
          70,
          70.1,
          69.4,
          68,
          67.1,
          65,
          64,
          64,
          59.6,
          61,
          62.2,
          58,
          54,
          57.1,
          55.4,
          57.5,
          57.6,
          59.9,
          58.9,
          59,
          59,
          58.4,
          54.4,
          50.6,
          52,
          51.9,
          53.3,
          53.2,
          51.6,
          50.1,
          48,
          49.5,
          46.05,
          42.85,
          44.6,
          45.5,
          42.35,
          43,
          40.65,
          37.85,
          40.45,
          41.8,
          42.15,
          40.65,
          40.2,
          40.5,
          37.7,
          37.8,
          40.15,
          42.8,
          44.1,
          44.05,
          47,
          47.6,
          44.35,
          44.85,
          46,
          46.2,
          45.9,
          46.4,
          46.45,
          47,
          47.85,
          47.15,
          46.5,
          46.4,
          46.5,
          45.8,
          42.6,
          43.8,
          43,
          42.9,
          42.9,
          43.95,
          43.5,
          43.6,
          43.15,
          42,
          42.2,
          42.55,
          42.1,
          42.05,
          41.9,
          43.05,
          44.95,
          45.6,
          45.9,
          46.2,
          46.5,
          47.1,
          49.9,
          47.8,
          47.15,
          45.7,
          44.5,
          44,
          42.1,
          42.5,
          42.5,
          42.75,
          43.3,
          43.25,
          44.3,
          44.5,
          43,
          43,
          42.1,
          40.5,
          40,
          40.8,
          40.3,
          39.4,
          39.4,
          39.7,
          39.4,
          40,
          39.75,
          39.4,
          38.6,
          40,
          39.4,
          39.4,
          38.1,
          38.5,
          37.95,
          37.8,
          37.95,
          38.1,
          39.1,
          38.7,
          38.6,
          38.55,
          39,
          39.8,
          39.75,
          39.1,
          39,
          41,
          40.7,
          40.75,
          41.05,
          40,
          39.85,
          39.95,
          40.5,
          40.4,
          39.3,
          38.4,
          37.7,
          38.4,
          38.65,
          39.2,
          37.9,
          37.8,
          37.85,
          37.95,
          39,
          38.7,
          39,
          38.9,
          38.45,
          38.15,
          38.1,
          38.3,
          38.55,
          38.25,
          37.95,
          38,
          38.2,
          38.7,
          39.4,
          39.2,
          39.3,
          40.8,
          41.2,
          41.8,
          41.8,
          40.65,
          41.4,
          43,
          43,
          42.05,
          41.7,
          41.35,
          41.5,
          42.5,
          42.7,
          43.05,
          42.9,
          44.35,
          44.2,
          43.9,
          42.7,
          43.3,
          43,
          43.25,
          43.35,
          43.2,
          45.5,
          47.75,
          48.8,
          49.15,
          49.35,
          49.45,
          48.65,
          48.05,
          48.5,
          49.1,
          52.5,
          54.5,
          53.6,
          52.6,
          54.1,
          54.5,
          53.7,
          51.7,
          51.7,
          52.7,
          53,
          53.8,
          53.6,
          52.6,
          52,
          53.3,
          54.2,
          54,
          53.8,
          53.9,
          50.2,
          49,
          50,
          49.7,
          50.3,
          50.5,
          51.7,
          52.9,
          53.8,
          53.8,
          54.3,
          55,
          55,
          55.5,
          54.5,
          55.8,
          57.5,
          57.3,
          55.9,
          55,
          55.5,
          55.8,
          54.2,
          52.1,
          51,
          51.5,
          52,
          53,
          52.6,
          51.9,
          49,
          49.2,
          47,
          48.3,
          47.95,
          48.85,
          49.3,
          48.4,
          49.5,
          48.6,
          46.3,
          44.7,
          43,
          44.7,
          43,
          43,
          43.5,
          42,
          42,
          40.5,
          37.7,
          35.1,
          37,
          38.95,
          38.05,
          38.2,
          39.6,
          40.3,
          39.4,
          40,
          41.5,
          41.9,
          41.5,
          41.4,
          40.55,
          40.9,
          39.8,
          37.3,
          38.55,
          38,
          38,
          38.8,
          38.5,
          38.75,
          39.95,
          40,
          40.95,
          40.85,
          42.6,
          42.5,
          42.5,
          41.7,
          41.6,
          40.75,
          39.6,
          40.65,
          42.4,
          42.65,
          42.35,
          42.65,
          42.7,
          42.85,
          43.05,
          42.8,
          42.45,
          43.2,
          43.2,
          43.85,
          43.2,
          42.7,
          42.25,
          42.45,
          41.9,
          42.9,
          44.3,
          44.9,
          45.85,
          46.05,
          46.15,
          45.4,
          44.4,
          45.2,
          44.9,
          44.6,
          45.4,
          45,
          46.2,
          47.4,
          47.4,
          47,
          46.6,
          45.85,
          46.3,
          46.8,
          46.8,
          46.1,
          45.3,
          44,
          44.35,
          44.75,
          45.3,
          46.2,
          46.6,
          47.4,
          50,
          48.7,
          49,
          47.75,
          46.4,
          46.75,
          48.55,
          47.25,
          47.35,
          45.9,
          45.5,
          48,
          48.5,
          49.1,
          48.3,
          48.65,
          50.7,
          51
         ]
        },
        {
         "mode": "lines",
         "name": "Balance",
         "type": "scatter",
         "x": [
          0,
          1058
         ],
         "y": [
          101.74,
          101.74
         ]
        },
        {
         "mode": "lines",
         "name": "Balance - HightSigma",
         "type": "scatter",
         "x": [
          0,
          1058
         ],
         "y": [
          58.25,
          58.25
         ]
        }
       ],
       "layout": {
        "template": {
         "data": {
          "bar": [
           {
            "error_x": {
             "color": "#2a3f5f"
            },
            "error_y": {
             "color": "#2a3f5f"
            },
            "marker": {
             "line": {
              "color": "#E5ECF6",
              "width": 0.5
             },
             "pattern": {
              "fillmode": "overlay",
              "size": 10,
              "solidity": 0.2
             }
            },
            "type": "bar"
           }
          ],
          "barpolar": [
           {
            "marker": {
             "line": {
              "color": "#E5ECF6",
              "width": 0.5
             },
             "pattern": {
              "fillmode": "overlay",
              "size": 10,
              "solidity": 0.2
             }
            },
            "type": "barpolar"
           }
          ],
          "carpet": [
           {
            "aaxis": {
             "endlinecolor": "#2a3f5f",
             "gridcolor": "white",
             "linecolor": "white",
             "minorgridcolor": "white",
             "startlinecolor": "#2a3f5f"
            },
            "baxis": {
             "endlinecolor": "#2a3f5f",
             "gridcolor": "white",
             "linecolor": "white",
             "minorgridcolor": "white",
             "startlinecolor": "#2a3f5f"
            },
            "type": "carpet"
           }
          ],
          "choropleth": [
           {
            "colorbar": {
             "outlinewidth": 0,
             "ticks": ""
            },
            "type": "choropleth"
           }
          ],
          "contour": [
           {
            "colorbar": {
             "outlinewidth": 0,
             "ticks": ""
            },
            "colorscale": [
             [
              0,
              "#0d0887"
             ],
             [
              0.1111111111111111,
              "#46039f"
             ],
             [
              0.2222222222222222,
              "#7201a8"
             ],
             [
              0.3333333333333333,
              "#9c179e"
             ],
             [
              0.4444444444444444,
              "#bd3786"
             ],
             [
              0.5555555555555556,
              "#d8576b"
             ],
             [
              0.6666666666666666,
              "#ed7953"
             ],
             [
              0.7777777777777778,
              "#fb9f3a"
             ],
             [
              0.8888888888888888,
              "#fdca26"
             ],
             [
              1,
              "#f0f921"
             ]
            ],
            "type": "contour"
           }
          ],
          "contourcarpet": [
           {
            "colorbar": {
             "outlinewidth": 0,
             "ticks": ""
            },
            "type": "contourcarpet"
           }
          ],
          "heatmap": [
           {
            "colorbar": {
             "outlinewidth": 0,
             "ticks": ""
            },
            "colorscale": [
             [
              0,
              "#0d0887"
             ],
             [
              0.1111111111111111,
              "#46039f"
             ],
             [
              0.2222222222222222,
              "#7201a8"
             ],
             [
              0.3333333333333333,
              "#9c179e"
             ],
             [
              0.4444444444444444,
              "#bd3786"
             ],
             [
              0.5555555555555556,
              "#d8576b"
             ],
             [
              0.6666666666666666,
              "#ed7953"
             ],
             [
              0.7777777777777778,
              "#fb9f3a"
             ],
             [
              0.8888888888888888,
              "#fdca26"
             ],
             [
              1,
              "#f0f921"
             ]
            ],
            "type": "heatmap"
           }
          ],
          "heatmapgl": [
           {
            "colorbar": {
             "outlinewidth": 0,
             "ticks": ""
            },
            "colorscale": [
             [
              0,
              "#0d0887"
             ],
             [
              0.1111111111111111,
              "#46039f"
             ],
             [
              0.2222222222222222,
              "#7201a8"
             ],
             [
              0.3333333333333333,
              "#9c179e"
             ],
             [
              0.4444444444444444,
              "#bd3786"
             ],
             [
              0.5555555555555556,
              "#d8576b"
             ],
             [
              0.6666666666666666,
              "#ed7953"
             ],
             [
              0.7777777777777778,
              "#fb9f3a"
             ],
             [
              0.8888888888888888,
              "#fdca26"
             ],
             [
              1,
              "#f0f921"
             ]
            ],
            "type": "heatmapgl"
           }
          ],
          "histogram": [
           {
            "marker": {
             "pattern": {
              "fillmode": "overlay",
              "size": 10,
              "solidity": 0.2
             }
            },
            "type": "histogram"
           }
          ],
          "histogram2d": [
           {
            "colorbar": {
             "outlinewidth": 0,
             "ticks": ""
            },
            "colorscale": [
             [
              0,
              "#0d0887"
             ],
             [
              0.1111111111111111,
              "#46039f"
             ],
             [
              0.2222222222222222,
              "#7201a8"
             ],
             [
              0.3333333333333333,
              "#9c179e"
             ],
             [
              0.4444444444444444,
              "#bd3786"
             ],
             [
              0.5555555555555556,
              "#d8576b"
             ],
             [
              0.6666666666666666,
              "#ed7953"
             ],
             [
              0.7777777777777778,
              "#fb9f3a"
             ],
             [
              0.8888888888888888,
              "#fdca26"
             ],
             [
              1,
              "#f0f921"
             ]
            ],
            "type": "histogram2d"
           }
          ],
          "histogram2dcontour": [
           {
            "colorbar": {
             "outlinewidth": 0,
             "ticks": ""
            },
            "colorscale": [
             [
              0,
              "#0d0887"
             ],
             [
              0.1111111111111111,
              "#46039f"
             ],
             [
              0.2222222222222222,
              "#7201a8"
             ],
             [
              0.3333333333333333,
              "#9c179e"
             ],
             [
              0.4444444444444444,
              "#bd3786"
             ],
             [
              0.5555555555555556,
              "#d8576b"
             ],
             [
              0.6666666666666666,
              "#ed7953"
             ],
             [
              0.7777777777777778,
              "#fb9f3a"
             ],
             [
              0.8888888888888888,
              "#fdca26"
             ],
             [
              1,
              "#f0f921"
             ]
            ],
            "type": "histogram2dcontour"
           }
          ],
          "mesh3d": [
           {
            "colorbar": {
             "outlinewidth": 0,
             "ticks": ""
            },
            "type": "mesh3d"
           }
          ],
          "parcoords": [
           {
            "line": {
             "colorbar": {
              "outlinewidth": 0,
              "ticks": ""
             }
            },
            "type": "parcoords"
           }
          ],
          "pie": [
           {
            "automargin": true,
            "type": "pie"
           }
          ],
          "scatter": [
           {
            "fillpattern": {
             "fillmode": "overlay",
             "size": 10,
             "solidity": 0.2
            },
            "type": "scatter"
           }
          ],
          "scatter3d": [
           {
            "line": {
             "colorbar": {
              "outlinewidth": 0,
              "ticks": ""
             }
            },
            "marker": {
             "colorbar": {
              "outlinewidth": 0,
              "ticks": ""
             }
            },
            "type": "scatter3d"
           }
          ],
          "scattercarpet": [
           {
            "marker": {
             "colorbar": {
              "outlinewidth": 0,
              "ticks": ""
             }
            },
            "type": "scattercarpet"
           }
          ],
          "scattergeo": [
           {
            "marker": {
             "colorbar": {
              "outlinewidth": 0,
              "ticks": ""
             }
            },
            "type": "scattergeo"
           }
          ],
          "scattergl": [
           {
            "marker": {
             "colorbar": {
              "outlinewidth": 0,
              "ticks": ""
             }
            },
            "type": "scattergl"
           }
          ],
          "scattermapbox": [
           {
            "marker": {
             "colorbar": {
              "outlinewidth": 0,
              "ticks": ""
             }
            },
            "type": "scattermapbox"
           }
          ],
          "scatterpolar": [
           {
            "marker": {
             "colorbar": {
              "outlinewidth": 0,
              "ticks": ""
             }
            },
            "type": "scatterpolar"
           }
          ],
          "scatterpolargl": [
           {
            "marker": {
             "colorbar": {
              "outlinewidth": 0,
              "ticks": ""
             }
            },
            "type": "scatterpolargl"
           }
          ],
          "scatterternary": [
           {
            "marker": {
             "colorbar": {
              "outlinewidth": 0,
              "ticks": ""
             }
            },
            "type": "scatterternary"
           }
          ],
          "surface": [
           {
            "colorbar": {
             "outlinewidth": 0,
             "ticks": ""
            },
            "colorscale": [
             [
              0,
              "#0d0887"
             ],
             [
              0.1111111111111111,
              "#46039f"
             ],
             [
              0.2222222222222222,
              "#7201a8"
             ],
             [
              0.3333333333333333,
              "#9c179e"
             ],
             [
              0.4444444444444444,
              "#bd3786"
             ],
             [
              0.5555555555555556,
              "#d8576b"
             ],
             [
              0.6666666666666666,
              "#ed7953"
             ],
             [
              0.7777777777777778,
              "#fb9f3a"
             ],
             [
              0.8888888888888888,
              "#fdca26"
             ],
             [
              1,
              "#f0f921"
             ]
            ],
            "type": "surface"
           }
          ],
          "table": [
           {
            "cells": {
             "fill": {
              "color": "#EBF0F8"
             },
             "line": {
              "color": "white"
             }
            },
            "header": {
             "fill": {
              "color": "#C8D4E3"
             },
             "line": {
              "color": "white"
             }
            },
            "type": "table"
           }
          ]
         },
         "layout": {
          "annotationdefaults": {
           "arrowcolor": "#2a3f5f",
           "arrowhead": 0,
           "arrowwidth": 1
          },
          "autotypenumbers": "strict",
          "coloraxis": {
           "colorbar": {
            "outlinewidth": 0,
            "ticks": ""
           }
          },
          "colorscale": {
           "diverging": [
            [
             0,
             "#8e0152"
            ],
            [
             0.1,
             "#c51b7d"
            ],
            [
             0.2,
             "#de77ae"
            ],
            [
             0.3,
             "#f1b6da"
            ],
            [
             0.4,
             "#fde0ef"
            ],
            [
             0.5,
             "#f7f7f7"
            ],
            [
             0.6,
             "#e6f5d0"
            ],
            [
             0.7,
             "#b8e186"
            ],
            [
             0.8,
             "#7fbc41"
            ],
            [
             0.9,
             "#4d9221"
            ],
            [
             1,
             "#276419"
            ]
           ],
           "sequential": [
            [
             0,
             "#0d0887"
            ],
            [
             0.1111111111111111,
             "#46039f"
            ],
            [
             0.2222222222222222,
             "#7201a8"
            ],
            [
             0.3333333333333333,
             "#9c179e"
            ],
            [
             0.4444444444444444,
             "#bd3786"
            ],
            [
             0.5555555555555556,
             "#d8576b"
            ],
            [
             0.6666666666666666,
             "#ed7953"
            ],
            [
             0.7777777777777778,
             "#fb9f3a"
            ],
            [
             0.8888888888888888,
             "#fdca26"
            ],
            [
             1,
             "#f0f921"
            ]
           ],
           "sequentialminus": [
            [
             0,
             "#0d0887"
            ],
            [
             0.1111111111111111,
             "#46039f"
            ],
            [
             0.2222222222222222,
             "#7201a8"
            ],
            [
             0.3333333333333333,
             "#9c179e"
            ],
            [
             0.4444444444444444,
             "#bd3786"
            ],
            [
             0.5555555555555556,
             "#d8576b"
            ],
            [
             0.6666666666666666,
             "#ed7953"
            ],
            [
             0.7777777777777778,
             "#fb9f3a"
            ],
            [
             0.8888888888888888,
             "#fdca26"
            ],
            [
             1,
             "#f0f921"
            ]
           ]
          },
          "colorway": [
           "#636efa",
           "#EF553B",
           "#00cc96",
           "#ab63fa",
           "#FFA15A",
           "#19d3f3",
           "#FF6692",
           "#B6E880",
           "#FF97FF",
           "#FECB52"
          ],
          "font": {
           "color": "#2a3f5f"
          },
          "geo": {
           "bgcolor": "white",
           "lakecolor": "white",
           "landcolor": "#E5ECF6",
           "showlakes": true,
           "showland": true,
           "subunitcolor": "white"
          },
          "hoverlabel": {
           "align": "left"
          },
          "hovermode": "closest",
          "mapbox": {
           "style": "light"
          },
          "paper_bgcolor": "white",
          "plot_bgcolor": "#E5ECF6",
          "polar": {
           "angularaxis": {
            "gridcolor": "white",
            "linecolor": "white",
            "ticks": ""
           },
           "bgcolor": "#E5ECF6",
           "radialaxis": {
            "gridcolor": "white",
            "linecolor": "white",
            "ticks": ""
           }
          },
          "scene": {
           "xaxis": {
            "backgroundcolor": "#E5ECF6",
            "gridcolor": "white",
            "gridwidth": 2,
            "linecolor": "white",
            "showbackground": true,
            "ticks": "",
            "zerolinecolor": "white"
           },
           "yaxis": {
            "backgroundcolor": "#E5ECF6",
            "gridcolor": "white",
            "gridwidth": 2,
            "linecolor": "white",
            "showbackground": true,
            "ticks": "",
            "zerolinecolor": "white"
           },
           "zaxis": {
            "backgroundcolor": "#E5ECF6",
            "gridcolor": "white",
            "gridwidth": 2,
            "linecolor": "white",
            "showbackground": true,
            "ticks": "",
            "zerolinecolor": "white"
           }
          },
          "shapedefaults": {
           "line": {
            "color": "#2a3f5f"
           }
          },
          "ternary": {
           "aaxis": {
            "gridcolor": "white",
            "linecolor": "white",
            "ticks": ""
           },
           "baxis": {
            "gridcolor": "white",
            "linecolor": "white",
            "ticks": ""
           },
           "bgcolor": "#E5ECF6",
           "caxis": {
            "gridcolor": "white",
            "linecolor": "white",
            "ticks": ""
           }
          },
          "title": {
           "x": 0.05
          },
          "xaxis": {
           "automargin": true,
           "gridcolor": "white",
           "linecolor": "white",
           "ticks": "",
           "title": {
            "standoff": 15
           },
           "zerolinecolor": "white",
           "zerolinewidth": 2
          },
          "yaxis": {
           "automargin": true,
           "gridcolor": "white",
           "linecolor": "white",
           "ticks": "",
           "title": {
            "standoff": 15
           },
           "zerolinecolor": "white",
           "zerolinewidth": 2
          }
         }
        }
       }
      }
     },
     "metadata": {},
     "output_type": "display_data"
    }
   ],
   "source": [
    "MWG = pd.read_csv('data/2024-03-28_MWG.csv')[::-1].reset_index(drop=True)\n",
    "\n",
    "fig_mwg = go.Figure()\n",
    "\n",
    "fig_mwg.add_trace(go.Scatter(y=MWG['VND'],\n",
    "                    mode='lines',\n",
    "                    name='lines'))\n",
    "\n",
    "fig_mwg.add_trace(go.Scatter(x=[0, len(MWG)], y=[101.74\t, 101.74],\n",
    "                    mode='lines',\n",
    "                    name='Balance'))\n",
    "\n",
    "fig_mwg.add_trace(go.Scatter(x=[0, len(MWG)], y=[58.25\t, 58.25],\n",
    "                    mode='lines',\n",
    "                    name='Balance - HightSigma'))\n",
    "\n",
    "fig_mwg.show()"
   ]
  },
  {
   "cell_type": "code",
   "execution_count": 55,
   "metadata": {},
   "outputs": [
    {
     "data": {
      "text/plain": [
       "[<matplotlib.lines.Line2D at 0x78356fcd76d0>]"
      ]
     },
     "execution_count": 55,
     "metadata": {},
     "output_type": "execute_result"
    },
    {
     "data": {
      "image/png": "[encoded data removed]",
      "text/plain": [
       "<Figure size 640x480 with 1 Axes>"
      ]
     },
     "metadata": {},
     "output_type": "display_data"
    }
   ],
   "source": [
    "total_MWG = 12*30\n",
    "data_short_MWG = MWG['VND'][len(MWG)-total_MWG:].reset_index(drop=True)\n",
    "\n",
    "plt.plot(data_short_MWG)"
   ]
  },
  {
   "cell_type": "code",
   "execution_count": 56,
   "metadata": {},
   "outputs": [
    {
     "data": {
      "text/plain": [
       "[<matplotlib.lines.Line2D at 0x78356fb4f790>]"
      ]
     },
     "execution_count": 56,
     "metadata": {},
     "output_type": "execute_result"
    },
    {
     "data": {
      "image/png": "[encoded data removed]",
      "text/plain": [
       "<Figure size 640x480 with 1 Axes>"
      ]
     },
     "metadata": {},
     "output_type": "display_data"
    }
   ],
   "source": [
    "delta_MWG = []\n",
    "for i in range(len(data_short_MWG)-1):\n",
    "    delta_MWG.append(np.abs(data_short_MWG[i+1] - data_short_MWG[i]))\n",
    "\n",
    "plt.plot(delta_MWG)\n",
    "plt.plot(data_short_MWG)"
   ]
  },
  {
   "cell_type": "code",
   "execution_count": 57,
   "metadata": {},
   "outputs": [],
   "source": [
    "def check_outlier(data, low_th, high_th):\n",
    "   Q3 = np.percentile(data, high_th, method='midpoint')\n",
    "   Q1 = np.percentile(data, low_th, method='midpoint')\n",
    "   IQR = Q3 - Q1\n",
    "   lower = Q1 - 1.5*IQR\n",
    "   upper = Q3 + 1.5*IQR\n",
    "   mask = (data > upper) | (data < lower)\n",
    "   return mask\n",
    "\n",
    "def resample(data, total_size=50000):\n",
    "    result = []\n",
    "    while len(result) < total_size:\n",
    "        indices = np.random.randint(low=0, high=len(data), size=len(data))\n",
    "        sample = data[indices]\n",
    "        result.append(np.mean(sample))\n",
    "    mask = check_outlier(result, 5, 95)\n",
    "    result = np.delete(result, np.where(mask))\n",
    "    return result\n",
    "\n",
    "delta_resample_MWG = resample(np.array(delta_MWG))"
   ]
  },
  {
   "cell_type": "code",
   "execution_count": 58,
   "metadata": {},
   "outputs": [
    {
     "data": {
      "image/png": "[encoded data removed]",
      "text/plain": [
       "<Figure size 640x480 with 1 Axes>"
      ]
     },
     "metadata": {},
     "output_type": "display_data"
    },
    {
     "name": "stdout",
     "output_type": "stream",
     "text": [
      "0.8821727019498603\n"
     ]
    }
   ],
   "source": [
    "plt.hist(delta_resample_MWG, bins=50)\n",
    "plt.title('Delta MWG')\n",
    "plt.show()\n",
    "print(np.percentile(delta_resample_MWG, 90, method='midpoint'))"
   ]
  },
  {
   "cell_type": "markdown",
   "metadata": {},
   "source": [
    "# VIC CO THE XEM XET\n",
    "\n",
    "Tập đoàn VINGROUP - CTCP (HOSE: VIC)"
   ]
  },
  {
   "cell_type": "code",
   "execution_count": 8,
   "metadata": {},
   "outputs": [
    {
     "data": {
      "application/vnd.plotly.v1+json": {
       "config": {
        "plotlyServerURL": "https://plot.ly"
       },
       "data": [
        {
         "mode": "lines",
         "name": "lines",
         "type": "scatter",
         "y": [
          115,
          115.3,
          114.5,
          114.7,
          114.3,
          114.7,
          114.8,
          114.9,
          115,
          115,
          115,
          114.9,
          114.9,
          114.9,
          114.9,
          114.9,
          114.8,
          114.8,
          114.8,
          114.5,
          114.4,
          114.4,
          113.7,
          113.4,
          112,
          112.4,
          110,
          108,
          104.5,
          105,
          110,
          109.9,
          107.3,
          107,
          105.9,
          105.6,
          105.4,
          105.4,
          105.5,
          105.5,
          105.6,
          105,
          97.7,
          97.7,
          97,
          91.8,
          92.5,
          92.5,
          88.5,
          89,
          88.7,
          82.5,
          76.8,
          71.5,
          76.5,
          81.8,
          86.8,
          81.4,
          83.4,
          86,
          91,
          97.3,
          97.3,
          94,
          96,
          95,
          96,
          95.6,
          96,
          95.9,
          96.1,
          96.2,
          93,
          92.5,
          93,
          93,
          92,
          92,
          91.9,
          91.8,
          92.7,
          95,
          96,
          97.5,
          97.5,
          97,
          95,
          96,
          97,
          96.5,
          96.5,
          96.6,
          98,
          96.4,
          97.1,
          96.9,
          96.9,
          97,
          97,
          97.2,
          96.7,
          96.8,
          96,
          95,
          96,
          96.2,
          95.6,
          93,
          91.8,
          89,
          93.4,
          91.9,
          91,
          97.3,
          96.9,
          94.2,
          94.7,
          93.4,
          91.5,
          89,
          89,
          91,
          89.9,
          90.2,
          91.4,
          91,
          90.8,
          91,
          91.4,
          91.3,
          91.3,
          90.5,
          93,
          91.5,
          90.2,
          90.2,
          89.8,
          90,
          88,
          85,
          85.2,
          83.5,
          85.1,
          87.5,
          87.6,
          88,
          87,
          87.5,
          87.5,
          88.2,
          87.5,
          87.4,
          88,
          87.4,
          87.7,
          86.5,
          86.5,
          86,
          86.1,
          89,
          91,
          91,
          91,
          89.9,
          90,
          92.7,
          94.5,
          94,
          91.5,
          90.5,
          90.5,
          90.5,
          91.1,
          93.1,
          95,
          95.5,
          94,
          94,
          96,
          94.6,
          94.5,
          93,
          92.8,
          92.8,
          91.5,
          91.5,
          92.5,
          94,
          93.3,
          91.8,
          92.5,
          92.3,
          93.6,
          93.9,
          94.1,
          95,
          97.5,
          97.6,
          97.7,
          97.8,
          97.3,
          100.1,
          104,
          105.1,
          105.7,
          100.2,
          100.7,
          106.5,
          106.5,
          104.4,
          103.5,
          104.5,
          105.1,
          106.1,
          105.6,
          105.8,
          106.8,
          107.4,
          102,
          106,
          104.9,
          104,
          103.8,
          103.8,
          104,
          105.6,
          106.1,
          105.2,
          103.9,
          105,
          105,
          105.8,
          105.8,
          105.8,
          105,
          106,
          104.9,
          106.8,
          108.9,
          107,
          107,
          104.7,
          104.7,
          106.4,
          105.7,
          105.7,
          105.7,
          105.9,
          105.9,
          106.5,
          108.5,
          108.2,
          108,
          109.7,
          110.2,
          110.1,
          111.8,
          113.8,
          114.4,
          111.1,
          110.4,
          111.2,
          110.3,
          102.7,
          103.3,
          105.1,
          105,
          104.8,
          101.5,
          100,
          93,
          99.4,
          99,
          105.9,
          107.5,
          105,
          107.5,
          101,
          106.2,
          108,
          110,
          109,
          109.7,
          110,
          108.2,
          108.9,
          109,
          108.5,
          108.2,
          106.9,
          106.9,
          106.3,
          106,
          104.3,
          106,
          105.9,
          105.9,
          106,
          105.4,
          104.7,
          106.6,
          108.4,
          107.3,
          106.5,
          107.9,
          110.4,
          112.4,
          112.8,
          117,
          117.9,
          123,
          123,
          124.3,
          127,
          127.7,
          125.4,
          124.9,
          132,
          140.7,
          140,
          140.9,
          143,
          144,
          143.1,
          138.8,
          138.3,
          131.5,
          132.1,
          131.5,
          131,
          133.6,
          133.7,
          132.5,
          132,
          132.5,
          131,
          129.8,
          126.5,
          125.3,
          124,
          121,
          120.1,
          122.9,
          122.5,
          122.1,
          122.3,
          121.7,
          120.3,
          119.8,
          117.5,
          120,
          117.5,
          118.5,
          121,
          123,
          119.8,
          118.8,
          116.5,
          118,
          120,
          121.7,
          119.1,
          117,
          117.4,
          117.4,
          117.5,
          116.9,
          117.5,
          117.5,
          116.7,
          118,
          119,
          118.6,
          117.5,
          115,
          112,
          114,
          111,
          108.6,
          104,
          103,
          103,
          102,
          105.8,
          102.9,
          103,
          104,
          106.2,
          104,
          104.2,
          104.3,
          105.2,
          105.1,
          107.2,
          107.5,
          114.5,
          114,
          114,
          113.3,
          113.1,
          113,
          111,
          111.1,
          110.9,
          110.6,
          98.9,
          97.9,
          104,
          97.7,
          96.2,
          95.4,
          94.6,
          93.1,
          94.8,
          94.1,
          94.1,
          94.1,
          95,
          93.9,
          92,
          91.3,
          91.3,
          92,
          92,
          91.4,
          87.8,
          86.8,
          86.7,
          85.6,
          86.1,
          87.1,
          87,
          86.1,
          86.5,
          86.7,
          88,
          87.7,
          87.8,
          88.6,
          88.6,
          88.8,
          89.3,
          91.9,
          92.9,
          93.1,
          92.5,
          92.6,
          92.6,
          92.4,
          92.3,
          91,
          91.8,
          92.1,
          92.2,
          95,
          95,
          95.8,
          95.8,
          95.8,
          95.3,
          95,
          95,
          94.9,
          94.9,
          94.9,
          94.8,
          94.5,
          95,
          94.8,
          96.3,
          94.5,
          94.8,
          94.8,
          94.8,
          94.1,
          94,
          98.5,
          105.3,
          105,
          106,
          107.2,
          105.5,
          105.6,
          106.7,
          105.9,
          107,
          103.1,
          103.2,
          102.5,
          100,
          100,
          102,
          99,
          98.1,
          99.6,
          96,
          96.5,
          99,
          98.4,
          95.5,
          95,
          95.1,
          101,
          100,
          104.5,
          102.2,
          102.3,
          101,
          100.8,
          98.8,
          98.9,
          97,
          95.9,
          95.8,
          95,
          95.5,
          95,
          96,
          96.4,
          96.5,
          97,
          91.2,
          87.3,
          85.7,
          84,
          81.7,
          81.8,
          83.7,
          82.9,
          83.1,
          82.2,
          83.6,
          82,
          82.5,
          80.1,
          79.1,
          77,
          79.2,
          78.9,
          79,
          79,
          78.5,
          77.9,
          78,
          79.1,
          79,
          78.3,
          78.3,
          78.1,
          78.4,
          78.8,
          81,
          82.2,
          81.4,
          81,
          81,
          80.5,
          80.8,
          81.1,
          81.2,
          82.1,
          82.7,
          82.3,
          80.5,
          79.5,
          81.7,
          81.3,
          82.2,
          81.7,
          80.7,
          79.5,
          78.8,
          79.3,
          77.5,
          77.7,
          76.2,
          78,
          78,
          77.9,
          80,
          79.7,
          80,
          79.8,
          79.1,
          80.4,
          80.5,
          79,
          78,
          77,
          78,
          78,
          77.9,
          77.8,
          77.4,
          77.6,
          77.7,
          77.7,
          78,
          78.5,
          78.8,
          79.3,
          78.9,
          78.8,
          78.5,
          78,
          78.1,
          78.1,
          78,
          76.4,
          76.6,
          76.7,
          76.6,
          76.6,
          75.6,
          75,
          75,
          74.2,
          74.6,
          73.8,
          73.6,
          73.4,
          73.5,
          72.6,
          72.7,
          72.3,
          67.5,
          69.8,
          70,
          70,
          69.9,
          69.5,
          69.5,
          69.6,
          68,
          68.8,
          68.2,
          68.5,
          66.5,
          67.3,
          66.1,
          66.5,
          67,
          64,
          64.7,
          66.6,
          66,
          66.4,
          65.4,
          64.6,
          65.3,
          64.8,
          65.8,
          66.2,
          66.4,
          65.9,
          67.3,
          68.1,
          67.9,
          66,
          65,
          64.9,
          65.9,
          65,
          63.6,
          63.6,
          63.7,
          64,
          63.3,
          62.5,
          62.9,
          64.4,
          64,
          64.1,
          63.4,
          63.9,
          62.5,
          62.9,
          63.9,
          63.1,
          63.3,
          62.6,
          62,
          61,
          57.5,
          54.6,
          55,
          55.5,
          57,
          60,
          60.1,
          60.2,
          60.2,
          60,
          60,
          60.4,
          59.7,
          56,
          58.4,
          58.5,
          58.6,
          56.8,
          56.5,
          56.1,
          54.8,
          55,
          55.7,
          55.4,
          55.4,
          55.4,
          55.1,
          54.3,
          53.4,
          53.3,
          53.7,
          53,
          54.3,
          55,
          57,
          60.4,
          64.6,
          65.6,
          64,
          61,
          59.7,
          61,
          65,
          65,
          69.4,
          69.6,
          66,
          68.8,
          68.1,
          66.6,
          71.2,
          69.9,
          67.8,
          63.1,
          61.6,
          60.8,
          60.6,
          58.4,
          56.5,
          55.9,
          54.9,
          55,
          55.1,
          52.9,
          53.4,
          53.5,
          53.6,
          53.8,
          56.8,
          56,
          56.2,
          56.1,
          55,
          54.5,
          55.1,
          55,
          55,
          54.8,
          55.2,
          56.7,
          57.4,
          59.2,
          57.7,
          57.1,
          55.2,
          55.8,
          56,
          56,
          55,
          54.4,
          54.2,
          54,
          53.4,
          52.9,
          52.9,
          53.4,
          53.5,
          54.1,
          54.3,
          53,
          53,
          52.9,
          52.5,
          52.6,
          52.7,
          52.8,
          52.7,
          52.6,
          52.7,
          53,
          53,
          53.1,
          53.3,
          53,
          54,
          53.3,
          53.2,
          52.8,
          52.8,
          52.8,
          52.8,
          53.3,
          53.3,
          53.4,
          53.5,
          53.7,
          55,
          58,
          56.8,
          55.5,
          54.5,
          54.4,
          53.8,
          53.6,
          53.1,
          53,
          52.9,
          52.9,
          52.8,
          52.6,
          52.6,
          52.7,
          52.6,
          52.5,
          51.9,
          50.5,
          52.1,
          51.3,
          50.7,
          50.9,
          50.6,
          50.6,
          50.5,
          51.7,
          54.4,
          52.9,
          53.2,
          53.2,
          52.5,
          52.1,
          52.6,
          52.6,
          52.6,
          52,
          52.7,
          52.4,
          52,
          52,
          52,
          52.1,
          53.2,
          52.8,
          52.4,
          52.3,
          53.4,
          54.1,
          53.8,
          53.5,
          53.5,
          52.1,
          52,
          52.4,
          52.4,
          52,
          52.2,
          52.4,
          52.2,
          51.8,
          51,
          51.1,
          51.3,
          51,
          50.4,
          50.1,
          50.9,
          50.8,
          51.4,
          51.5,
          51.4,
          52.9,
          52.7,
          52.1,
          52,
          52.1,
          52,
          51.5,
          51,
          51.1,
          51.5,
          55.1,
          58.9,
          58.3,
          58.2,
          62.2,
          63.9,
          67,
          65.8,
          67.9,
          72.6,
          73.3,
          70.7,
          75.6,
          71.9,
          66.9,
          65.8,
          64.5,
          65,
          64.2,
          63.5,
          64.7,
          63.4,
          62,
          62.1,
          62.3,
          61.6,
          60.8,
          59.1,
          59.1,
          60.3,
          59.2,
          55.5,
          53.6,
          53,
          51.7,
          53.5,
          52.2,
          50,
          46.5,
          45,
          45.2,
          45,
          46.85,
          46.9,
          44.5,
          46.1,
          45.6,
          45.95,
          45.2,
          44.9,
          45.45,
          46.5,
          46.1,
          45,
          44,
          43.8,
          43.2,
          43.35,
          43.4,
          43.45,
          44.7,
          41.6,
          41.6,
          41.5,
          40.5,
          40.4,
          41.45,
          41.6,
          42.1,
          42.05,
          43,
          45.4,
          44.95,
          44.8,
          44.95,
          45.4,
          45.1,
          42.2,
          42.7,
          42.6,
          42,
          41.3,
          41.35,
          41.85,
          42.4,
          42.55,
          41.75,
          42.1,
          42.95,
          42.8,
          42.8,
          42.8,
          42.95,
          44.05,
          44.25,
          43.9,
          43.8,
          43.7,
          43.2,
          43.2,
          43.25,
          43.2,
          43.15,
          43.4,
          43.55,
          43.6,
          44.45,
          44.6,
          44,
          44.15,
          44.15,
          44.1,
          44.35,
          43.9,
          43.6,
          43.65,
          43,
          43.05,
          43.15,
          43.2,
          43.35,
          43.3,
          43.3,
          43.1,
          43.15,
          42.8,
          42.8,
          42.65,
          42.7,
          42.5,
          42.35,
          42.1,
          42.2,
          42.3,
          42.4,
          42.55,
          43.95,
          47,
          48.5,
          47.25,
          47.6,
          45.2,
          44.6,
          45.15,
          45.6,
          45,
          45.25,
          45.25,
          45.3,
          45.3,
          45.6,
          44.8,
          44.35,
          44.15,
          45,
          45.95,
          44.4,
          46.1,
          47,
          46.5,
          46.5,
          46.6,
          46.85,
          47.05,
          47.05,
          47.6
         ]
        },
        {
         "mode": "lines",
         "name": "Balance",
         "type": "scatter",
         "x": [
          0,
          1058
         ],
         "y": [
          81.91,
          81.91
         ]
        },
        {
         "mode": "lines",
         "name": "Balance - HightSigma",
         "type": "scatter",
         "x": [
          0,
          1058
         ],
         "y": [
          55.83,
          55.83
         ]
        }
       ],
       "layout": {
        "template": {
         "data": {
          "bar": [
           {
            "error_x": {
             "color": "#2a3f5f"
            },
            "error_y": {
             "color": "#2a3f5f"
            },
            "marker": {
             "line": {
              "color": "#E5ECF6",
              "width": 0.5
             },
             "pattern": {
              "fillmode": "overlay",
              "size": 10,
              "solidity": 0.2
             }
            },
            "type": "bar"
           }
          ],
          "barpolar": [
           {
            "marker": {
             "line": {
              "color": "#E5ECF6",
              "width": 0.5
             },
             "pattern": {
              "fillmode": "overlay",
              "size": 10,
              "solidity": 0.2
             }
            },
            "type": "barpolar"
           }
          ],
          "carpet": [
           {
            "aaxis": {
             "endlinecolor": "#2a3f5f",
             "gridcolor": "white",
             "linecolor": "white",
             "minorgridcolor": "white",
             "startlinecolor": "#2a3f5f"
            },
            "baxis": {
             "endlinecolor": "#2a3f5f",
             "gridcolor": "white",
             "linecolor": "white",
             "minorgridcolor": "white",
             "startlinecolor": "#2a3f5f"
            },
            "type": "carpet"
           }
          ],
          "choropleth": [
           {
            "colorbar": {
             "outlinewidth": 0,
             "ticks": ""
            },
            "type": "choropleth"
           }
          ],
          "contour": [
           {
            "colorbar": {
             "outlinewidth": 0,
             "ticks": ""
            },
            "colorscale": [
             [
              0,
              "#0d0887"
             ],
             [
              0.1111111111111111,
              "#46039f"
             ],
             [
              0.2222222222222222,
              "#7201a8"
             ],
             [
              0.3333333333333333,
              "#9c179e"
             ],
             [
              0.4444444444444444,
              "#bd3786"
             ],
             [
              0.5555555555555556,
              "#d8576b"
             ],
             [
              0.6666666666666666,
              "#ed7953"
             ],
             [
              0.7777777777777778,
              "#fb9f3a"
             ],
             [
              0.8888888888888888,
              "#fdca26"
             ],
             [
              1,
              "#f0f921"
             ]
            ],
            "type": "contour"
           }
          ],
          "contourcarpet": [
           {
            "colorbar": {
             "outlinewidth": 0,
             "ticks": ""
            },
            "type": "contourcarpet"
           }
          ],
          "heatmap": [
           {
            "colorbar": {
             "outlinewidth": 0,
             "ticks": ""
            },
            "colorscale": [
             [
              0,
              "#0d0887"
             ],
             [
              0.1111111111111111,
              "#46039f"
             ],
             [
              0.2222222222222222,
              "#7201a8"
             ],
             [
              0.3333333333333333,
              "#9c179e"
             ],
             [
              0.4444444444444444,
              "#bd3786"
             ],
             [
              0.5555555555555556,
              "#d8576b"
             ],
             [
              0.6666666666666666,
              "#ed7953"
             ],
             [
              0.7777777777777778,
              "#fb9f3a"
             ],
             [
              0.8888888888888888,
              "#fdca26"
             ],
             [
              1,
              "#f0f921"
             ]
            ],
            "type": "heatmap"
           }
          ],
          "heatmapgl": [
           {
            "colorbar": {
             "outlinewidth": 0,
             "ticks": ""
            },
            "colorscale": [
             [
              0,
              "#0d0887"
             ],
             [
              0.1111111111111111,
              "#46039f"
             ],
             [
              0.2222222222222222,
              "#7201a8"
             ],
             [
              0.3333333333333333,
              "#9c179e"
             ],
             [
              0.4444444444444444,
              "#bd3786"
             ],
             [
              0.5555555555555556,
              "#d8576b"
             ],
             [
              0.6666666666666666,
              "#ed7953"
             ],
             [
              0.7777777777777778,
              "#fb9f3a"
             ],
             [
              0.8888888888888888,
              "#fdca26"
             ],
             [
              1,
              "#f0f921"
             ]
            ],
            "type": "heatmapgl"
           }
          ],
          "histogram": [
           {
            "marker": {
             "pattern": {
              "fillmode": "overlay",
              "size": 10,
              "solidity": 0.2
             }
            },
            "type": "histogram"
           }
          ],
          "histogram2d": [
           {
            "colorbar": {
             "outlinewidth": 0,
             "ticks": ""
            },
            "colorscale": [
             [
              0,
              "#0d0887"
             ],
             [
              0.1111111111111111,
              "#46039f"
             ],
             [
              0.2222222222222222,
              "#7201a8"
             ],
             [
              0.3333333333333333,
              "#9c179e"
             ],
             [
              0.4444444444444444,
              "#bd3786"
             ],
             [
              0.5555555555555556,
              "#d8576b"
             ],
             [
              0.6666666666666666,
              "#ed7953"
             ],
             [
              0.7777777777777778,
              "#fb9f3a"
             ],
             [
              0.8888888888888888,
              "#fdca26"
             ],
             [
              1,
              "#f0f921"
             ]
            ],
            "type": "histogram2d"
           }
          ],
          "histogram2dcontour": [
           {
            "colorbar": {
             "outlinewidth": 0,
             "ticks": ""
            },
            "colorscale": [
             [
              0,
              "#0d0887"
             ],
             [
              0.1111111111111111,
              "#46039f"
             ],
             [
              0.2222222222222222,
              "#7201a8"
             ],
             [
              0.3333333333333333,
              "#9c179e"
             ],
             [
              0.4444444444444444,
              "#bd3786"
             ],
             [
              0.5555555555555556,
              "#d8576b"
             ],
             [
              0.6666666666666666,
              "#ed7953"
             ],
             [
              0.7777777777777778,
              "#fb9f3a"
             ],
             [
              0.8888888888888888,
              "#fdca26"
             ],
             [
              1,
              "#f0f921"
             ]
            ],
            "type": "histogram2dcontour"
           }
          ],
          "mesh3d": [
           {
            "colorbar": {
             "outlinewidth": 0,
             "ticks": ""
            },
            "type": "mesh3d"
           }
          ],
          "parcoords": [
           {
            "line": {
             "colorbar": {
              "outlinewidth": 0,
              "ticks": ""
             }
            },
            "type": "parcoords"
           }
          ],
          "pie": [
           {
            "automargin": true,
            "type": "pie"
           }
          ],
          "scatter": [
           {
            "fillpattern": {
             "fillmode": "overlay",
             "size": 10,
             "solidity": 0.2
            },
            "type": "scatter"
           }
          ],
          "scatter3d": [
           {
            "line": {
             "colorbar": {
              "outlinewidth": 0,
              "ticks": ""
             }
            },
            "marker": {
             "colorbar": {
              "outlinewidth": 0,
              "ticks": ""
             }
            },
            "type": "scatter3d"
           }
          ],
          "scattercarpet": [
           {
            "marker": {
             "colorbar": {
              "outlinewidth": 0,
              "ticks": ""
             }
            },
            "type": "scattercarpet"
           }
          ],
          "scattergeo": [
           {
            "marker": {
             "colorbar": {
              "outlinewidth": 0,
              "ticks": ""
             }
            },
            "type": "scattergeo"
           }
          ],
          "scattergl": [
           {
            "marker": {
             "colorbar": {
              "outlinewidth": 0,
              "ticks": ""
             }
            },
            "type": "scattergl"
           }
          ],
          "scattermapbox": [
           {
            "marker": {
             "colorbar": {
              "outlinewidth": 0,
              "ticks": ""
             }
            },
            "type": "scattermapbox"
           }
          ],
          "scatterpolar": [
           {
            "marker": {
             "colorbar": {
              "outlinewidth": 0,
              "ticks": ""
             }
            },
            "type": "scatterpolar"
           }
          ],
          "scatterpolargl": [
           {
            "marker": {
             "colorbar": {
              "outlinewidth": 0,
              "ticks": ""
             }
            },
            "type": "scatterpolargl"
           }
          ],
          "scatterternary": [
           {
            "marker": {
             "colorbar": {
              "outlinewidth": 0,
              "ticks": ""
             }
            },
            "type": "scatterternary"
           }
          ],
          "surface": [
           {
            "colorbar": {
             "outlinewidth": 0,
             "ticks": ""
            },
            "colorscale": [
             [
              0,
              "#0d0887"
             ],
             [
              0.1111111111111111,
              "#46039f"
             ],
             [
              0.2222222222222222,
              "#7201a8"
             ],
             [
              0.3333333333333333,
              "#9c179e"
             ],
             [
              0.4444444444444444,
              "#bd3786"
             ],
             [
              0.5555555555555556,
              "#d8576b"
             ],
             [
              0.6666666666666666,
              "#ed7953"
             ],
             [
              0.7777777777777778,
              "#fb9f3a"
             ],
             [
              0.8888888888888888,
              "#fdca26"
             ],
             [
              1,
              "#f0f921"
             ]
            ],
            "type": "surface"
           }
          ],
          "table": [
           {
            "cells": {
             "fill": {
              "color": "#EBF0F8"
             },
             "line": {
              "color": "white"
             }
            },
            "header": {
             "fill": {
              "color": "#C8D4E3"
             },
             "line": {
              "color": "white"
             }
            },
            "type": "table"
           }
          ]
         },
         "layout": {
          "annotationdefaults": {
           "arrowcolor": "#2a3f5f",
           "arrowhead": 0,
           "arrowwidth": 1
          },
          "autotypenumbers": "strict",
          "coloraxis": {
           "colorbar": {
            "outlinewidth": 0,
            "ticks": ""
           }
          },
          "colorscale": {
           "diverging": [
            [
             0,
             "#8e0152"
            ],
            [
             0.1,
             "#c51b7d"
            ],
            [
             0.2,
             "#de77ae"
            ],
            [
             0.3,
             "#f1b6da"
            ],
            [
             0.4,
             "#fde0ef"
            ],
            [
             0.5,
             "#f7f7f7"
            ],
            [
             0.6,
             "#e6f5d0"
            ],
            [
             0.7,
             "#b8e186"
            ],
            [
             0.8,
             "#7fbc41"
            ],
            [
             0.9,
             "#4d9221"
            ],
            [
             1,
             "#276419"
            ]
           ],
           "sequential": [
            [
             0,
             "#0d0887"
            ],
            [
             0.1111111111111111,
             "#46039f"
            ],
            [
             0.2222222222222222,
             "#7201a8"
            ],
            [
             0.3333333333333333,
             "#9c179e"
            ],
            [
             0.4444444444444444,
             "#bd3786"
            ],
            [
             0.5555555555555556,
             "#d8576b"
            ],
            [
             0.6666666666666666,
             "#ed7953"
            ],
            [
             0.7777777777777778,
             "#fb9f3a"
            ],
            [
             0.8888888888888888,
             "#fdca26"
            ],
            [
             1,
             "#f0f921"
            ]
           ],
           "sequentialminus": [
            [
             0,
             "#0d0887"
            ],
            [
             0.1111111111111111,
             "#46039f"
            ],
            [
             0.2222222222222222,
             "#7201a8"
            ],
            [
             0.3333333333333333,
             "#9c179e"
            ],
            [
             0.4444444444444444,
             "#bd3786"
            ],
            [
             0.5555555555555556,
             "#d8576b"
            ],
            [
             0.6666666666666666,
             "#ed7953"
            ],
            [
             0.7777777777777778,
             "#fb9f3a"
            ],
            [
             0.8888888888888888,
             "#fdca26"
            ],
            [
             1,
             "#f0f921"
            ]
           ]
          },
          "colorway": [
           "#636efa",
           "#EF553B",
           "#00cc96",
           "#ab63fa",
           "#FFA15A",
           "#19d3f3",
           "#FF6692",
           "#B6E880",
           "#FF97FF",
           "#FECB52"
          ],
          "font": {
           "color": "#2a3f5f"
          },
          "geo": {
           "bgcolor": "white",
           "lakecolor": "white",
           "landcolor": "#E5ECF6",
           "showlakes": true,
           "showland": true,
           "subunitcolor": "white"
          },
          "hoverlabel": {
           "align": "left"
          },
          "hovermode": "closest",
          "mapbox": {
           "style": "light"
          },
          "paper_bgcolor": "white",
          "plot_bgcolor": "#E5ECF6",
          "polar": {
           "angularaxis": {
            "gridcolor": "white",
            "linecolor": "white",
            "ticks": ""
           },
           "bgcolor": "#E5ECF6",
           "radialaxis": {
            "gridcolor": "white",
            "linecolor": "white",
            "ticks": ""
           }
          },
          "scene": {
           "xaxis": {
            "backgroundcolor": "#E5ECF6",
            "gridcolor": "white",
            "gridwidth": 2,
            "linecolor": "white",
            "showbackground": true,
            "ticks": "",
            "zerolinecolor": "white"
           },
           "yaxis": {
            "backgroundcolor": "#E5ECF6",
            "gridcolor": "white",
            "gridwidth": 2,
            "linecolor": "white",
            "showbackground": true,
            "ticks": "",
            "zerolinecolor": "white"
           },
           "zaxis": {
            "backgroundcolor": "#E5ECF6",
            "gridcolor": "white",
            "gridwidth": 2,
            "linecolor": "white",
            "showbackground": true,
            "ticks": "",
            "zerolinecolor": "white"
           }
          },
          "shapedefaults": {
           "line": {
            "color": "#2a3f5f"
           }
          },
          "ternary": {
           "aaxis": {
            "gridcolor": "white",
            "linecolor": "white",
            "ticks": ""
           },
           "baxis": {
            "gridcolor": "white",
            "linecolor": "white",
            "ticks": ""
           },
           "bgcolor": "#E5ECF6",
           "caxis": {
            "gridcolor": "white",
            "linecolor": "white",
            "ticks": ""
           }
          },
          "title": {
           "x": 0.05
          },
          "xaxis": {
           "automargin": true,
           "gridcolor": "white",
           "linecolor": "white",
           "ticks": "",
           "title": {
            "standoff": 15
           },
           "zerolinecolor": "white",
           "zerolinewidth": 2
          },
          "yaxis": {
           "automargin": true,
           "gridcolor": "white",
           "linecolor": "white",
           "ticks": "",
           "title": {
            "standoff": 15
           },
           "zerolinecolor": "white",
           "zerolinewidth": 2
          }
         }
        }
       }
      }
     },
     "metadata": {},
     "output_type": "display_data"
    }
   ],
   "source": [
    "VIC = pd.read_csv('data/2024-03-28_VIC.csv')[::-1].reset_index(drop=True)\n",
    "\n",
    "fig_vic = go.Figure()\n",
    "\n",
    "fig_vic.add_trace(go.Scatter(y=VIC['VND'],\n",
    "                    mode='lines',\n",
    "                    name='lines'))\n",
    "\n",
    "fig_vic.add_trace(go.Scatter(x=[0, len(VIC)], y=[81.91, 81.91],\n",
    "                    mode='lines',\n",
    "                    name='Balance'))\n",
    "\n",
    "fig_vic.add_trace(go.Scatter(x=[0, len(VIC)], y=[55.83, 55.83],\n",
    "                    mode='lines',\n",
    "                    name='Balance - HightSigma'))\n",
    "\n",
    "fig_vic.show()"
   ]
  },
  {
   "cell_type": "markdown",
   "metadata": {},
   "source": [
    "Khong vao vi sigma qua cao ma lai khong co co hoi tang len diem can bang trong vai thang"
   ]
  },
  {
   "cell_type": "markdown",
   "metadata": {},
   "source": [
    "# SSB CO THE XEM XET\n",
    "\n",
    "Ngân hàng Thương mại cổ phần Đông Nam Á"
   ]
  },
  {
   "cell_type": "code",
   "execution_count": 9,
   "metadata": {},
   "outputs": [
    {
     "data": {
      "application/vnd.plotly.v1+json": {
       "config": {
        "plotlyServerURL": "https://plot.ly"
       },
       "data": [
        {
         "mode": "lines",
         "name": "lines",
         "type": "scatter",
         "y": [
          20.15,
          21.55,
          23.05,
          24.65,
          26.35,
          28.15,
          28.2,
          28.25,
          28.1,
          28,
          28,
          27.6,
          27.7,
          27.7,
          27.3,
          26.8,
          27,
          27.3,
          27.5,
          27.5,
          27.5,
          26.1,
          26.8,
          26.9,
          26.8,
          26.85,
          26.4,
          26.45,
          27.35,
          27.5,
          28,
          28,
          28,
          28.3,
          30.25,
          31.45,
          31.5,
          31.75,
          31.75,
          32,
          32.6,
          34.85,
          37.2,
          37.05,
          39,
          40.8,
          40.9,
          41.5,
          43,
          45.5,
          43.5,
          43,
          40.2,
          41.3,
          42.9,
          43,
          41.3,
          39.8,
          39.7,
          40.35,
          40,
          40.05,
          39.7,
          39.75,
          40.1,
          40.8,
          40.95,
          41.15,
          40.85,
          42.4,
          42.2,
          41.7,
          41.9,
          41.5,
          40.6,
          38,
          38.6,
          38.2,
          40.3,
          39.45,
          37,
          39.05,
          39,
          41,
          37.55,
          36.4,
          37.2,
          36.95,
          37,
          36.6,
          36.4,
          36.65,
          37,
          37.25,
          37.15,
          37.3,
          36.9,
          36.75,
          36.6,
          36.4,
          36.6,
          36.8,
          36.25,
          35.9,
          35.8,
          35.3,
          35.6,
          35.7,
          35.35,
          35.35,
          36,
          36,
          35.9,
          35.9,
          36,
          35.6,
          36,
          36,
          35.6,
          35.6,
          35.75,
          35.75,
          35.95,
          36,
          35.7,
          35.7,
          35.8,
          36,
          35.75,
          35.85,
          35.85,
          35.85,
          35.85,
          35.85,
          35.95,
          36.2,
          37.6,
          38,
          38,
          38,
          37.05,
          37.2,
          37.4,
          37.2,
          37.2,
          37.2,
          37,
          36.65,
          36.6,
          36.45,
          36.55,
          37.8,
          37.1,
          37.2,
          37.2,
          38.25,
          37.6,
          37.6,
          37.6,
          37.6,
          37.25,
          36.95,
          37.2,
          37.05,
          36.85,
          36.85,
          36.35,
          36.5,
          36.95,
          36.95,
          39.5,
          41,
          40.8,
          39.75,
          39.6,
          39.7,
          39.55,
          38.5,
          38,
          38.6,
          39.5,
          39.6,
          39.6,
          39.75,
          39.65,
          39.75,
          39.65,
          39.35,
          39.25,
          39.3,
          39.05,
          38.65,
          41.25,
          44,
          43.95,
          45,
          45.05,
          45.6,
          45.6,
          45,
          43.95,
          42.45,
          40.75,
          39.05,
          41,
          41.6,
          41.7,
          38.6,
          38.25,
          38.25,
          39.25,
          39.25,
          39.2,
          39.95,
          39.6,
          39,
          39.3,
          39.3,
          38.2,
          38.4,
          38.6,
          38.25,
          36.6,
          37.2,
          36.8,
          36.3,
          36.2,
          36.3,
          36,
          36.45,
          36.2,
          36.3,
          35.4,
          36.9,
          37.8,
          37.85,
          38,
          37.8,
          37.7,
          37.5,
          37.5,
          37.5,
          37.4,
          37.5,
          37.7,
          37.8,
          37.85,
          37.85,
          38.3,
          38.2,
          38.1,
          38.1,
          37.65,
          36.5,
          38.05,
          38.05,
          38.5,
          38.55,
          38.45,
          38.45,
          38.15,
          37.8,
          38,
          38.05,
          38.15,
          38,
          37.75,
          37.65,
          37.75,
          37.95,
          37.75,
          35.5,
          36.45,
          37.05,
          37.25,
          36.75,
          36.25,
          36.2,
          35.3,
          34.5,
          36,
          36,
          35,
          34.65,
          34.8,
          34.8,
          34.8,
          34.6,
          34.85,
          34.5,
          34.05,
          34.05,
          34.25,
          34.6,
          34.3,
          33.8,
          33.5,
          33.8,
          33.8,
          33.75,
          33.4,
          33.8,
          33.45,
          33.1,
          31.6,
          33,
          34,
          30.05,
          30,
          30,
          29.95,
          30.75,
          30.9,
          31.2,
          31.35,
          31.45,
          31.6,
          31.6,
          31.65,
          31.65,
          31.7,
          31.4,
          31.3,
          31.7,
          31.7,
          32,
          31.65,
          31.5,
          31.45,
          31.8,
          31.85,
          32,
          32,
          31.95,
          31.65,
          31.75,
          31.75,
          31.8,
          31.85,
          31.95,
          31.85,
          31.8,
          31.75,
          31.55,
          31.45,
          31.25,
          31.1,
          31.5,
          31.35,
          31.5,
          31.45,
          31.5,
          31.35,
          31.25,
          32.5,
          32.5,
          32.4,
          32.4,
          32.4,
          32.2,
          32.3,
          32.25,
          32,
          32,
          32,
          31.95,
          31.9,
          31.5,
          31.5,
          31.4,
          31.45,
          31.5,
          31.4,
          31.5,
          31.4,
          31.3,
          31.1,
          30.5,
          30.55,
          30.55,
          30.55,
          30.6,
          29.7,
          29.5,
          30,
          29.8,
          29.35,
          29.05,
          27.9,
          29.65,
          29.6,
          29.65,
          29.5,
          29.5,
          29.5,
          29.5,
          28.8,
          28.5,
          29,
          29,
          31,
          30.95,
          30.95,
          31,
          30.95,
          30.45,
          30.3,
          30,
          30.1,
          30.1,
          29.1,
          30.05,
          29.75,
          29.3,
          29.8,
          30.2,
          30,
          29.8,
          29.8,
          29.65,
          29.55,
          29.8,
          30.05,
          30.1,
          30.15,
          30.3,
          30.45,
          30.7,
          30.55,
          30.6,
          30.85,
          30.75,
          30.8,
          31,
          31,
          31.1,
          31.2,
          31.3,
          31.3,
          31.4,
          31.7,
          31.75,
          31.65,
          32,
          32.3,
          32.45,
          32.9,
          33.3,
          33.5,
          33.65,
          33.75,
          33.75,
          33.7,
          33.8,
          33.75,
          33.75,
          33.85,
          33.85,
          33.9,
          33.95,
          34.05,
          33.85,
          33.8,
          33.55,
          33.45,
          31.8,
          31.85,
          31.95,
          32,
          32,
          31.95,
          31.75,
          31.7,
          31.85,
          31.95,
          31.95,
          32.3,
          32.25,
          31.9,
          31.8,
          31.6,
          31.5,
          31.75,
          32.05,
          32,
          31.95,
          32.15,
          32.4,
          32.5,
          32.6,
          32.4,
          32.4,
          32.3,
          32.55,
          32.2,
          32.25,
          32.1,
          32.15,
          32.15,
          32.15,
          31.7,
          31.7,
          31.5,
          31.4,
          31.45,
          31.45,
          31.6,
          31.5,
          31.55,
          31.35,
          31.3,
          31.3,
          31.35,
          31.35,
          31.35,
          31.3,
          31.35,
          31.25,
          31.15,
          31.2,
          31.1,
          31.1,
          30.85,
          30.4,
          30.6,
          31.95,
          31.45,
          31.45,
          31.55,
          31.55,
          31.4,
          31.2,
          31,
          30.8,
          30.35,
          30.05,
          30.05,
          29.95,
          30.15,
          30,
          29.9,
          29.9,
          30.05,
          30.2,
          30.2,
          30.35,
          30.55,
          31.3,
          31.5,
          31.55,
          31.6,
          31.4,
          31.35,
          31.55,
          31.5,
          31.5,
          31.5,
          31.45,
          31.45,
          31.5,
          31.75,
          31.9,
          27.15,
          27.15,
          27.2,
          27.3,
          27.15,
          27.05,
          27.05,
          27.1,
          27.3,
          28.6,
          28.65,
          28.75,
          28.9,
          28.7,
          28.95,
          29,
          29.1,
          29.3,
          29.3,
          29.3,
          29.3,
          29.4,
          29.5,
          29.6,
          29.65,
          29.7,
          29.15,
          29.95,
          30.25,
          30.25,
          29,
          30.25,
          30.3,
          30,
          30,
          30.4,
          29.75,
          29.5,
          29.5,
          29.4,
          27.45,
          26.6,
          28.2,
          28.2,
          28.45,
          28.2,
          28.3,
          28.35,
          28.1,
          28.1,
          27.5,
          27.8,
          27.45,
          27.5,
          27,
          27.35,
          27.15,
          26.3,
          27,
          26.8,
          26.8,
          26.5,
          26.5,
          25.5,
          26,
          26.2,
          26.25,
          25,
          25,
          25,
          24.9,
          24.45,
          24.5,
          24.5,
          24.55,
          24.6,
          24.75,
          24.75,
          24.8,
          24.8,
          24.75,
          24.7,
          24.6,
          24.45,
          24.8,
          25.8,
          25.9,
          25.5,
          25.55,
          25.35,
          25.8,
          25.9,
          25.95,
          24.3,
          25.3,
          24.4,
          24.95,
          24.5,
          23.8,
          23,
          23.15,
          23.5,
          23.45,
          23.15,
          23.15,
          23.15,
          23.1,
          23,
          23.1,
          23.05,
          23.05,
          23.05,
          22.6,
          22.7,
          22.75,
          22.7,
          22.7,
          22.7,
          22.7,
          22.65,
          22.65,
          22.6,
          22.6,
          22.6,
          22.6,
          22.6,
          22.6,
          22.6,
          22.6,
          22.65,
          22.7,
          22.65,
          23.65,
          23.9,
          23.95,
          23.3,
          23.55,
          23.6,
          23.3,
          23.45,
          23.4,
          23.6,
          23.45,
          23.3,
          22.95,
          23.05,
          23.05,
          23.1,
          23.25,
          23.1,
          23.1,
          23.1,
          23.1,
          23,
          23,
          22.9,
          22.75,
          22.75,
          23,
          23,
          23.2,
          23.25,
          23.25,
          23.05,
          23,
          22.95,
          23,
          23,
          22.9,
          22.9,
          22.95,
          22.9,
          22.95,
          22.85,
          22.85,
          22.75,
          22.75,
          22.7,
          22.55,
          22.55,
          22.6,
          22.6,
          22.6,
          22.45,
          22.45,
          22.55,
          22.55,
          22.35,
          22.1,
          22.3,
          22.2,
          22.2
         ]
        },
        {
         "mode": "lines",
         "name": "Balance",
         "type": "scatter",
         "x": [
          0,
          754
         ],
         "y": [
          32.44,
          32.44
         ]
        },
        {
         "mode": "lines",
         "name": "Balance - HightSigma",
         "type": "scatter",
         "x": [
          0,
          754
         ],
         "y": [
          26.61,
          26.61
         ]
        }
       ],
       "layout": {
        "template": {
         "data": {
          "bar": [
           {
            "error_x": {
             "color": "#2a3f5f"
            },
            "error_y": {
             "color": "#2a3f5f"
            },
            "marker": {
             "line": {
              "color": "#E5ECF6",
              "width": 0.5
             },
             "pattern": {
              "fillmode": "overlay",
              "size": 10,
              "solidity": 0.2
             }
            },
            "type": "bar"
           }
          ],
          "barpolar": [
           {
            "marker": {
             "line": {
              "color": "#E5ECF6",
              "width": 0.5
             },
             "pattern": {
              "fillmode": "overlay",
              "size": 10,
              "solidity": 0.2
             }
            },
            "type": "barpolar"
           }
          ],
          "carpet": [
           {
            "aaxis": {
             "endlinecolor": "#2a3f5f",
             "gridcolor": "white",
             "linecolor": "white",
             "minorgridcolor": "white",
             "startlinecolor": "#2a3f5f"
            },
            "baxis": {
             "endlinecolor": "#2a3f5f",
             "gridcolor": "white",
             "linecolor": "white",
             "minorgridcolor": "white",
             "startlinecolor": "#2a3f5f"
            },
            "type": "carpet"
           }
          ],
          "choropleth": [
           {
            "colorbar": {
             "outlinewidth": 0,
             "ticks": ""
            },
            "type": "choropleth"
           }
          ],
          "contour": [
           {
            "colorbar": {
             "outlinewidth": 0,
             "ticks": ""
            },
            "colorscale": [
             [
              0,
              "#0d0887"
             ],
             [
              0.1111111111111111,
              "#46039f"
             ],
             [
              0.2222222222222222,
              "#7201a8"
             ],
             [
              0.3333333333333333,
              "#9c179e"
             ],
             [
              0.4444444444444444,
              "#bd3786"
             ],
             [
              0.5555555555555556,
              "#d8576b"
             ],
             [
              0.6666666666666666,
              "#ed7953"
             ],
             [
              0.7777777777777778,
              "#fb9f3a"
             ],
             [
              0.8888888888888888,
              "#fdca26"
             ],
             [
              1,
              "#f0f921"
             ]
            ],
            "type": "contour"
           }
          ],
          "contourcarpet": [
           {
            "colorbar": {
             "outlinewidth": 0,
             "ticks": ""
            },
            "type": "contourcarpet"
           }
          ],
          "heatmap": [
           {
            "colorbar": {
             "outlinewidth": 0,
             "ticks": ""
            },
            "colorscale": [
             [
              0,
              "#0d0887"
             ],
             [
              0.1111111111111111,
              "#46039f"
             ],
             [
              0.2222222222222222,
              "#7201a8"
             ],
             [
              0.3333333333333333,
              "#9c179e"
             ],
             [
              0.4444444444444444,
              "#bd3786"
             ],
             [
              0.5555555555555556,
              "#d8576b"
             ],
             [
              0.6666666666666666,
              "#ed7953"
             ],
             [
              0.7777777777777778,
              "#fb9f3a"
             ],
             [
              0.8888888888888888,
              "#fdca26"
             ],
             [
              1,
              "#f0f921"
             ]
            ],
            "type": "heatmap"
           }
          ],
          "heatmapgl": [
           {
            "colorbar": {
             "outlinewidth": 0,
             "ticks": ""
            },
            "colorscale": [
             [
              0,
              "#0d0887"
             ],
             [
              0.1111111111111111,
              "#46039f"
             ],
             [
              0.2222222222222222,
              "#7201a8"
             ],
             [
              0.3333333333333333,
              "#9c179e"
             ],
             [
              0.4444444444444444,
              "#bd3786"
             ],
             [
              0.5555555555555556,
              "#d8576b"
             ],
             [
              0.6666666666666666,
              "#ed7953"
             ],
             [
              0.7777777777777778,
              "#fb9f3a"
             ],
             [
              0.8888888888888888,
              "#fdca26"
             ],
             [
              1,
              "#f0f921"
             ]
            ],
            "type": "heatmapgl"
           }
          ],
          "histogram": [
           {
            "marker": {
             "pattern": {
              "fillmode": "overlay",
              "size": 10,
              "solidity": 0.2
             }
            },
            "type": "histogram"
           }
          ],
          "histogram2d": [
           {
            "colorbar": {
             "outlinewidth": 0,
             "ticks": ""
            },
            "colorscale": [
             [
              0,
              "#0d0887"
             ],
             [
              0.1111111111111111,
              "#46039f"
             ],
             [
              0.2222222222222222,
              "#7201a8"
             ],
             [
              0.3333333333333333,
              "#9c179e"
             ],
             [
              0.4444444444444444,
              "#bd3786"
             ],
             [
              0.5555555555555556,
              "#d8576b"
             ],
             [
              0.6666666666666666,
              "#ed7953"
             ],
             [
              0.7777777777777778,
              "#fb9f3a"
             ],
             [
              0.8888888888888888,
              "#fdca26"
             ],
             [
              1,
              "#f0f921"
             ]
            ],
            "type": "histogram2d"
           }
          ],
          "histogram2dcontour": [
           {
            "colorbar": {
             "outlinewidth": 0,
             "ticks": ""
            },
            "colorscale": [
             [
              0,
              "#0d0887"
             ],
             [
              0.1111111111111111,
              "#46039f"
             ],
             [
              0.2222222222222222,
              "#7201a8"
             ],
             [
              0.3333333333333333,
              "#9c179e"
             ],
             [
              0.4444444444444444,
              "#bd3786"
             ],
             [
              0.5555555555555556,
              "#d8576b"
             ],
             [
              0.6666666666666666,
              "#ed7953"
             ],
             [
              0.7777777777777778,
              "#fb9f3a"
             ],
             [
              0.8888888888888888,
              "#fdca26"
             ],
             [
              1,
              "#f0f921"
             ]
            ],
            "type": "histogram2dcontour"
           }
          ],
          "mesh3d": [
           {
            "colorbar": {
             "outlinewidth": 0,
             "ticks": ""
            },
            "type": "mesh3d"
           }
          ],
          "parcoords": [
           {
            "line": {
             "colorbar": {
              "outlinewidth": 0,
              "ticks": ""
             }
            },
            "type": "parcoords"
           }
          ],
          "pie": [
           {
            "automargin": true,
            "type": "pie"
           }
          ],
          "scatter": [
           {
            "fillpattern": {
             "fillmode": "overlay",
             "size": 10,
             "solidity": 0.2
            },
            "type": "scatter"
           }
          ],
          "scatter3d": [
           {
            "line": {
             "colorbar": {
              "outlinewidth": 0,
              "ticks": ""
             }
            },
            "marker": {
             "colorbar": {
              "outlinewidth": 0,
              "ticks": ""
             }
            },
            "type": "scatter3d"
           }
          ],
          "scattercarpet": [
           {
            "marker": {
             "colorbar": {
              "outlinewidth": 0,
              "ticks": ""
             }
            },
            "type": "scattercarpet"
           }
          ],
          "scattergeo": [
           {
            "marker": {
             "colorbar": {
              "outlinewidth": 0,
              "ticks": ""
             }
            },
            "type": "scattergeo"
           }
          ],
          "scattergl": [
           {
            "marker": {
             "colorbar": {
              "outlinewidth": 0,
              "ticks": ""
             }
            },
            "type": "scattergl"
           }
          ],
          "scattermapbox": [
           {
            "marker": {
             "colorbar": {
              "outlinewidth": 0,
              "ticks": ""
             }
            },
            "type": "scattermapbox"
           }
          ],
          "scatterpolar": [
           {
            "marker": {
             "colorbar": {
              "outlinewidth": 0,
              "ticks": ""
             }
            },
            "type": "scatterpolar"
           }
          ],
          "scatterpolargl": [
           {
            "marker": {
             "colorbar": {
              "outlinewidth": 0,
              "ticks": ""
             }
            },
            "type": "scatterpolargl"
           }
          ],
          "scatterternary": [
           {
            "marker": {
             "colorbar": {
              "outlinewidth": 0,
              "ticks": ""
             }
            },
            "type": "scatterternary"
           }
          ],
          "surface": [
           {
            "colorbar": {
             "outlinewidth": 0,
             "ticks": ""
            },
            "colorscale": [
             [
              0,
              "#0d0887"
             ],
             [
              0.1111111111111111,
              "#46039f"
             ],
             [
              0.2222222222222222,
              "#7201a8"
             ],
             [
              0.3333333333333333,
              "#9c179e"
             ],
             [
              0.4444444444444444,
              "#bd3786"
             ],
             [
              0.5555555555555556,
              "#d8576b"
             ],
             [
              0.6666666666666666,
              "#ed7953"
             ],
             [
              0.7777777777777778,
              "#fb9f3a"
             ],
             [
              0.8888888888888888,
              "#fdca26"
             ],
             [
              1,
              "#f0f921"
             ]
            ],
            "type": "surface"
           }
          ],
          "table": [
           {
            "cells": {
             "fill": {
              "color": "#EBF0F8"
             },
             "line": {
              "color": "white"
             }
            },
            "header": {
             "fill": {
              "color": "#C8D4E3"
             },
             "line": {
              "color": "white"
             }
            },
            "type": "table"
           }
          ]
         },
         "layout": {
          "annotationdefaults": {
           "arrowcolor": "#2a3f5f",
           "arrowhead": 0,
           "arrowwidth": 1
          },
          "autotypenumbers": "strict",
          "coloraxis": {
           "colorbar": {
            "outlinewidth": 0,
            "ticks": ""
           }
          },
          "colorscale": {
           "diverging": [
            [
             0,
             "#8e0152"
            ],
            [
             0.1,
             "#c51b7d"
            ],
            [
             0.2,
             "#de77ae"
            ],
            [
             0.3,
             "#f1b6da"
            ],
            [
             0.4,
             "#fde0ef"
            ],
            [
             0.5,
             "#f7f7f7"
            ],
            [
             0.6,
             "#e6f5d0"
            ],
            [
             0.7,
             "#b8e186"
            ],
            [
             0.8,
             "#7fbc41"
            ],
            [
             0.9,
             "#4d9221"
            ],
            [
             1,
             "#276419"
            ]
           ],
           "sequential": [
            [
             0,
             "#0d0887"
            ],
            [
             0.1111111111111111,
             "#46039f"
            ],
            [
             0.2222222222222222,
             "#7201a8"
            ],
            [
             0.3333333333333333,
             "#9c179e"
            ],
            [
             0.4444444444444444,
             "#bd3786"
            ],
            [
             0.5555555555555556,
             "#d8576b"
            ],
            [
             0.6666666666666666,
             "#ed7953"
            ],
            [
             0.7777777777777778,
             "#fb9f3a"
            ],
            [
             0.8888888888888888,
             "#fdca26"
            ],
            [
             1,
             "#f0f921"
            ]
           ],
           "sequentialminus": [
            [
             0,
             "#0d0887"
            ],
            [
             0.1111111111111111,
             "#46039f"
            ],
            [
             0.2222222222222222,
             "#7201a8"
            ],
            [
             0.3333333333333333,
             "#9c179e"
            ],
            [
             0.4444444444444444,
             "#bd3786"
            ],
            [
             0.5555555555555556,
             "#d8576b"
            ],
            [
             0.6666666666666666,
             "#ed7953"
            ],
            [
             0.7777777777777778,
             "#fb9f3a"
            ],
            [
             0.8888888888888888,
             "#fdca26"
            ],
            [
             1,
             "#f0f921"
            ]
           ]
          },
          "colorway": [
           "#636efa",
           "#EF553B",
           "#00cc96",
           "#ab63fa",
           "#FFA15A",
           "#19d3f3",
           "#FF6692",
           "#B6E880",
           "#FF97FF",
           "#FECB52"
          ],
          "font": {
           "color": "#2a3f5f"
          },
          "geo": {
           "bgcolor": "white",
           "lakecolor": "white",
           "landcolor": "#E5ECF6",
           "showlakes": true,
           "showland": true,
           "subunitcolor": "white"
          },
          "hoverlabel": {
           "align": "left"
          },
          "hovermode": "closest",
          "mapbox": {
           "style": "light"
          },
          "paper_bgcolor": "white",
          "plot_bgcolor": "#E5ECF6",
          "polar": {
           "angularaxis": {
            "gridcolor": "white",
            "linecolor": "white",
            "ticks": ""
           },
           "bgcolor": "#E5ECF6",
           "radialaxis": {
            "gridcolor": "white",
            "linecolor": "white",
            "ticks": ""
           }
          },
          "scene": {
           "xaxis": {
            "backgroundcolor": "#E5ECF6",
            "gridcolor": "white",
            "gridwidth": 2,
            "linecolor": "white",
            "showbackground": true,
            "ticks": "",
            "zerolinecolor": "white"
           },
           "yaxis": {
            "backgroundcolor": "#E5ECF6",
            "gridcolor": "white",
            "gridwidth": 2,
            "linecolor": "white",
            "showbackground": true,
            "ticks": "",
            "zerolinecolor": "white"
           },
           "zaxis": {
            "backgroundcolor": "#E5ECF6",
            "gridcolor": "white",
            "gridwidth": 2,
            "linecolor": "white",
            "showbackground": true,
            "ticks": "",
            "zerolinecolor": "white"
           }
          },
          "shapedefaults": {
           "line": {
            "color": "#2a3f5f"
           }
          },
          "ternary": {
           "aaxis": {
            "gridcolor": "white",
            "linecolor": "white",
            "ticks": ""
           },
           "baxis": {
            "gridcolor": "white",
            "linecolor": "white",
            "ticks": ""
           },
           "bgcolor": "#E5ECF6",
           "caxis": {
            "gridcolor": "white",
            "linecolor": "white",
            "ticks": ""
           }
          },
          "title": {
           "x": 0.05
          },
          "xaxis": {
           "automargin": true,
           "gridcolor": "white",
           "linecolor": "white",
           "ticks": "",
           "title": {
            "standoff": 15
           },
           "zerolinecolor": "white",
           "zerolinewidth": 2
          },
          "yaxis": {
           "automargin": true,
           "gridcolor": "white",
           "linecolor": "white",
           "ticks": "",
           "title": {
            "standoff": 15
           },
           "zerolinecolor": "white",
           "zerolinewidth": 2
          }
         }
        }
       }
      }
     },
     "metadata": {},
     "output_type": "display_data"
    }
   ],
   "source": [
    "SSB = pd.read_csv('data/2024-03-28_SSB.csv')[::-1].reset_index(drop=True)\n",
    "\n",
    "fig_ssb = go.Figure()\n",
    "\n",
    "fig_ssb.add_trace(go.Scatter(y=SSB['VND'],\n",
    "                    mode='lines',\n",
    "                    name='lines'))\n",
    "\n",
    "fig_ssb.add_trace(go.Scatter(x=[0, len(SSB)], y=[32.44, 32.44],\n",
    "                    mode='lines',\n",
    "                    name='Balance'))\n",
    "\n",
    "fig_ssb.add_trace(go.Scatter(x=[0, len(SSB)], y=[26.61, 26.61],\n",
    "                    mode='lines',\n",
    "                    name='Balance - HightSigma'))\n",
    "\n",
    "fig_ssb.show()"
   ]
  },
  {
   "cell_type": "markdown",
   "metadata": {},
   "source": [
    "# VHM\n",
    "\n",
    "Công ty cổ phần Vinhomes (HOSE)"
   ]
  },
  {
   "cell_type": "code",
   "execution_count": 10,
   "metadata": {},
   "outputs": [
    {
     "data": {
      "application/vnd.plotly.v1+json": {
       "config": {
        "plotlyServerURL": "https://plot.ly"
       },
       "data": [
        {
         "mode": "lines",
         "name": "lines",
         "type": "scatter",
         "y": [
          84.9,
          85.2,
          83.4,
          83.8,
          82.5,
          83.3,
          84.5,
          86.3,
          86.3,
          86.3,
          86.1,
          86,
          86,
          87.5,
          89.4,
          87.4,
          87.5,
          85.2,
          85.7,
          86,
          86.8,
          87,
          86.2,
          86.2,
          86.5,
          86,
          87.6,
          86.7,
          86,
          86,
          86.9,
          86.1,
          84,
          83.1,
          80.9,
          80.8,
          80.4,
          80.5,
          80.5,
          80.5,
          81,
          80.9,
          75.3,
          76.5,
          76.5,
          72,
          72,
          71.8,
          69.9,
          69.5,
          68.5,
          63.8,
          59.4,
          55.3,
          59.1,
          61,
          60,
          55.8,
          55,
          54.8,
          57.7,
          61.7,
          66,
          70,
          69,
          67.1,
          67.3,
          68,
          67.8,
          67.5,
          68.5,
          68.5,
          68,
          65.4,
          66.6,
          65,
          64.5,
          64.6,
          63.6,
          64.9,
          63.6,
          67,
          67.6,
          70.9,
          73.5,
          73.5,
          71.4,
          70.6,
          71.6,
          71.9,
          73.2,
          77.1,
          78,
          76.5,
          76.8,
          76.4,
          74.7,
          75,
          76.6,
          79.1,
          77.8,
          77.9,
          77.5,
          77.3,
          77.8,
          77.6,
          77.5,
          76.5,
          75,
          70,
          74.9,
          76,
          76.5,
          76.5,
          78.3,
          77.7,
          75.7,
          75.5,
          75.6,
          74,
          75.5,
          76.9,
          76.9,
          77.8,
          80.8,
          80.8,
          80.4,
          80.8,
          79.4,
          79.1,
          80.5,
          81.1,
          81.5,
          80.5,
          79.2,
          78.8,
          77.5,
          78.8,
          76,
          70.9,
          75.8,
          74,
          76.6,
          77.7,
          78.5,
          79,
          79.6,
          79.6,
          79.6,
          79.6,
          79.4,
          79.4,
          79.4,
          79.7,
          79.7,
          79.6,
          80,
          80,
          79.5,
          80,
          79.6,
          79.5,
          78.5,
          78.6,
          78.5,
          78.7,
          79.6,
          80,
          79.1,
          78.5,
          78.6,
          78.1,
          77.7,
          77.5,
          76.8,
          77.2,
          76.7,
          76.9,
          77.1,
          76.8,
          77.5,
          77.1,
          77.1,
          76.6,
          75.3,
          75.5,
          77.1,
          75.9,
          76,
          76.1,
          76.8,
          76.6,
          77,
          77.5,
          78.1,
          78.5,
          77.5,
          77,
          76.1,
          76.2,
          76.4,
          77.5,
          79.5,
          78.5,
          77.6,
          75.6,
          76.2,
          76,
          75.9,
          75.8,
          75.9,
          75.7,
          75.7,
          78,
          77.4,
          76.6,
          77.2,
          78.3,
          76.6,
          78.3,
          77.3,
          77.5,
          78.5,
          80.6,
          83.8,
          83.5,
          82.7,
          83,
          82.6,
          83.3,
          85.2,
          84.9,
          84.9,
          84.7,
          84.4,
          85,
          83.6,
          85,
          87,
          86,
          86.2,
          84.7,
          85.3,
          87.1,
          86.9,
          87.4,
          86.3,
          87.6,
          87.7,
          90.3,
          90.2,
          89.5,
          92,
          95.6,
          94.8,
          94.8,
          96.4,
          103.1,
          103.4,
          100.9,
          99.6,
          101.6,
          101,
          96.8,
          97.5,
          99,
          99.3,
          99.5,
          98,
          93.9,
          87.4,
          93.5,
          88.3,
          94.4,
          97.2,
          98.4,
          99.3,
          94.7,
          96.8,
          101,
          103.2,
          103.1,
          105.8,
          105.3,
          102.8,
          102.8,
          101.6,
          103,
          102.8,
          101.5,
          100,
          98.4,
          97.2,
          98.2,
          99.9,
          100,
          99.9,
          99.8,
          99.5,
          99.3,
          99.7,
          97.8,
          99.3,
          98.7,
          97.2,
          96.7,
          95.7,
          96.2,
          96.3,
          97.3,
          99,
          100.7,
          101.7,
          101.7,
          100.5,
          99.7,
          98.9,
          101.8,
          102.5,
          100.5,
          101.2,
          101,
          104.5,
          108.6,
          103.1,
          105,
          99.6,
          100,
          100.9,
          99.3,
          99.2,
          99.6,
          98.7,
          97.1,
          99.1,
          98,
          97.7,
          97,
          97.2,
          100.8,
          98.9,
          100.4,
          102,
          103.9,
          106,
          104.6,
          105.7,
          104.4,
          104.6,
          102.6,
          104,
          104.4,
          105.4,
          104.5,
          106,
          105.3,
          106.1,
          104.1,
          106,
          109.9,
          112.6,
          110,
          109,
          112.5,
          112,
          111.5,
          111.3,
          112.1,
          112.1,
          115.5,
          118.6,
          118,
          117.2,
          118,
          118.5,
          110.3,
          117,
          115,
          112.5,
          108,
          109.5,
          109.5,
          110.3,
          109,
          104.3,
          106.6,
          108,
          111,
          107.6,
          109.6,
          107.8,
          106.5,
          107.9,
          108.3,
          108.1,
          110.9,
          110.5,
          111.7,
          113.9,
          117.4,
          117,
          116,
          117,
          120,
          116,
          111,
          110,
          111,
          108.1,
          107.2,
          107.3,
          107,
          106.6,
          106.9,
          106.9,
          106.4,
          107,
          108.4,
          109.6,
          107.9,
          107.7,
          107.5,
          107,
          107,
          81.9,
          80.1,
          81.2,
          79.9,
          77.5,
          78,
          79.3,
          79.6,
          78.2,
          78.5,
          78.2,
          78.3,
          77,
          78,
          79.4,
          80.5,
          80,
          79.9,
          81,
          80.9,
          80,
          78.9,
          78.7,
          78.9,
          79.4,
          78.8,
          77.9,
          78,
          78.5,
          78.7,
          81,
          81,
          85.5,
          84.3,
          85,
          82.9,
          82.7,
          82,
          82.4,
          83,
          82.6,
          81.5,
          82,
          84,
          83,
          83.5,
          82.8,
          80.5,
          81,
          82.5,
          83.7,
          83.9,
          83.3,
          84.8,
          84.6,
          82.9,
          82.3,
          80.2,
          79.7,
          81.6,
          81,
          81.6,
          80.9,
          82.1,
          82.1,
          82.6,
          82.3,
          84.5,
          83.5,
          86,
          85.7,
          82.5,
          82.9,
          82.8,
          82.8,
          81.7,
          81.6,
          82,
          85.1,
          84,
          85.3,
          85.4,
          85.4,
          83.6,
          83.6,
          82.2,
          82.2,
          79.1,
          77,
          77.6,
          78.6,
          79.4,
          76.2,
          81,
          81.2,
          81,
          80.3,
          82.2,
          81.2,
          81.5,
          80.1,
          79.7,
          78.1,
          80,
          80,
          80.8,
          79.7,
          80,
          79.3,
          79.4,
          78.6,
          78.3,
          77.5,
          78,
          77.5,
          78,
          77.9,
          76.2,
          74.6,
          74,
          75.2,
          75,
          74.5,
          74.5,
          74.2,
          74,
          74.6,
          77.5,
          78,
          77.2,
          75.7,
          75.9,
          74.9,
          76.5,
          75.8,
          75.8,
          76.2,
          76.3,
          76.4,
          76.3,
          75,
          75.1,
          73,
          73.1,
          72.3,
          71.1,
          69.8,
          68.9,
          66.8,
          64,
          64.7,
          63,
          65,
          65,
          64.5,
          65,
          64.5,
          68.8,
          68.7,
          68,
          69.9,
          70.5,
          68.9,
          68,
          65.8,
          66.9,
          66.9,
          67,
          66.8,
          66.7,
          66.9,
          67.9,
          68.7,
          69.7,
          70.5,
          69.6,
          70.3,
          69.5,
          69.4,
          69.3,
          68.5,
          68.5,
          68.3,
          68.3,
          66,
          66,
          65.9,
          66,
          66,
          65,
          65,
          64.8,
          63.2,
          63.2,
          63.5,
          63.8,
          63.3,
          62.1,
          61.4,
          61,
          60.5,
          59.1,
          61,
          61,
          60.5,
          60.2,
          60.1,
          60.1,
          60,
          59,
          58.8,
          59.7,
          58.9,
          58.7,
          58.9,
          58.7,
          58.6,
          58.8,
          59.9,
          60,
          62.5,
          61.9,
          63,
          61.8,
          61.5,
          60.9,
          61.3,
          61.4,
          61.2,
          61.5,
          61.3,
          61.3,
          61.1,
          60.1,
          59.4,
          59.5,
          59.7,
          61,
          60.3,
          59.7,
          59.9,
          61,
          61,
          61.1,
          59.5,
          59.6,
          59.9,
          61.4,
          60.7,
          60,
          60.5,
          59.6,
          58.4,
          58.9,
          58.3,
          57.7,
          57.2,
          55.9,
          54.1,
          51.2,
          50.8,
          50.7,
          50.4,
          50.6,
          53.8,
          53.6,
          53.8,
          53.9,
          51.8,
          52.5,
          52.8,
          51.9,
          49.5,
          50.5,
          50,
          50,
          47.95,
          44.6,
          44.6,
          43.5,
          44,
          44.9,
          45,
          45,
          44.9,
          45,
          44.5,
          43.9,
          43.8,
          44.55,
          43.95,
          44.15,
          44,
          43.4,
          44.9,
          47.95,
          48,
          46.95,
          45.3,
          44.4,
          45,
          47,
          50.2,
          53.1,
          54.5,
          53.5,
          57.2,
          58.3,
          55,
          55.5,
          55.4,
          54.1,
          50.5,
          53,
          53,
          50.7,
          49.3,
          48.2,
          48.2,
          48.5,
          49,
          49.8,
          47,
          47.5,
          47.7,
          47.8,
          48,
          49.4,
          49,
          49.7,
          49.9,
          50.2,
          49.75,
          50.8,
          51.5,
          52,
          51.3,
          52,
          52.5,
          52.2,
          53.3,
          51.5,
          50.9,
          48,
          47.9,
          48.1,
          47.95,
          46.8,
          46.6,
          45.3,
          45.4,
          44.4,
          42.75,
          42.5,
          42.5,
          43.3,
          45.2,
          45.2,
          42.6,
          42,
          41,
          40.9,
          41.5,
          41.2,
          41.1,
          40.95,
          42.1,
          42.3,
          42.35,
          42.4,
          42.85,
          44.75,
          44.75,
          46,
          44.5,
          43.35,
          42.55,
          45.4,
          47.65,
          48,
          49,
          48.4,
          48,
          48,
          49.55,
          51.5,
          52.6,
          51,
          52.2,
          51.2,
          50.7,
          49.8,
          51.5,
          51.6,
          50.5,
          50,
          50.3,
          50.8,
          50.4,
          50.7,
          50.3,
          50.5,
          50.2,
          48,
          47.5,
          49.5,
          49.5,
          49,
          49.4,
          49.3,
          49.35,
          49.15,
          51.2,
          51.7,
          52.2,
          53.4,
          55,
          54.1,
          54.1,
          53.7,
          54.5,
          55,
          55,
          55.5,
          54.9,
          53.5,
          53,
          53.4,
          53.7,
          55,
          55.3,
          55.4,
          55.5,
          55.4,
          56.7,
          57,
          56.5,
          56,
          55,
          55.1,
          54.6,
          55.7,
          56,
          55.5,
          55.9,
          55.4,
          55,
          55,
          55.9,
          56.5,
          56.1,
          54.5,
          54,
          53.8,
          53.9,
          55.1,
          56.3,
          56.4,
          59,
          58.8,
          58.5,
          57.7,
          59,
          59.1,
          58.6,
          59,
          57.5,
          58.9,
          63,
          62.8,
          61.9,
          60.1,
          63,
          62.9,
          62.8,
          60.6,
          60.6,
          60.9,
          61.2,
          61.7,
          62.9,
          61,
          56.8,
          56,
          55.5,
          54.5,
          55.4,
          54.1,
          54.7,
          54.6,
          54.6,
          54.7,
          55.3,
          55.9,
          55.1,
          54,
          52.5,
          53.5,
          52.1,
          49,
          50.5,
          48.95,
          49.35,
          50.7,
          50.2,
          48,
          47,
          45,
          45.1,
          44.5,
          45.5,
          45.75,
          44.05,
          44.6,
          44.55,
          46.05,
          47,
          48,
          47.4,
          47.55,
          46.9,
          45.55,
          44.5,
          43.3,
          42.5,
          44.5,
          44.5,
          44.6,
          44.9,
          41.8,
          39.2,
          39.2,
          39,
          38.45,
          39.95,
          40.5,
          41,
          40,
          41,
          42.9,
          42.3,
          41.35,
          41,
          41.45,
          41.15,
          38.95,
          38.95,
          39.1,
          39,
          39,
          39.1,
          39.8,
          40.75,
          41.2,
          41.3,
          40.9,
          41.3,
          40.5,
          40.45,
          39.7,
          39.65,
          41,
          41.05,
          40.75,
          40.3,
          39.9,
          39.9,
          39.5,
          39.95,
          40.2,
          40.3,
          41.2,
          41.9,
          41.9,
          43.7,
          43.2,
          43,
          43.4,
          43.45,
          43.1,
          43.35,
          43,
          42.7,
          42,
          41.3,
          41.6,
          42.65,
          41.9,
          43.2,
          43.05,
          43,
          42.35,
          42.5,
          42.1,
          42,
          41.8,
          42,
          41.5,
          41.2,
          41.2,
          41.25,
          41,
          41.8,
          41.95,
          42.7,
          45.55,
          46.15,
          45,
          44.8,
          43.3,
          43.35,
          44.2,
          44.4,
          43.4,
          43.95,
          43.95,
          43.65,
          43.1,
          43.2,
          42.55,
          42.55,
          42.7,
          42.95,
          42.9,
          42.4,
          42.1,
          42.9,
          42.5,
          42.9,
          42.8,
          42.55,
          42.75,
          42.5,
          43.3
         ]
        },
        {
         "mode": "lines",
         "name": "Balance",
         "type": "scatter",
         "x": [
          0,
          1058
         ],
         "y": [
          69.23,
          69.23
         ]
        },
        {
         "mode": "lines",
         "name": "Balance - HightSigma",
         "type": "scatter",
         "x": [
          0,
          1058
         ],
         "y": [
          47.86,
          47.86
         ]
        }
       ],
       "layout": {
        "template": {
         "data": {
          "bar": [
           {
            "error_x": {
             "color": "#2a3f5f"
            },
            "error_y": {
             "color": "#2a3f5f"
            },
            "marker": {
             "line": {
              "color": "#E5ECF6",
              "width": 0.5
             },
             "pattern": {
              "fillmode": "overlay",
              "size": 10,
              "solidity": 0.2
             }
            },
            "type": "bar"
           }
          ],
          "barpolar": [
           {
            "marker": {
             "line": {
              "color": "#E5ECF6",
              "width": 0.5
             },
             "pattern": {
              "fillmode": "overlay",
              "size": 10,
              "solidity": 0.2
             }
            },
            "type": "barpolar"
           }
          ],
          "carpet": [
           {
            "aaxis": {
             "endlinecolor": "#2a3f5f",
             "gridcolor": "white",
             "linecolor": "white",
             "minorgridcolor": "white",
             "startlinecolor": "#2a3f5f"
            },
            "baxis": {
             "endlinecolor": "#2a3f5f",
             "gridcolor": "white",
             "linecolor": "white",
             "minorgridcolor": "white",
             "startlinecolor": "#2a3f5f"
            },
            "type": "carpet"
           }
          ],
          "choropleth": [
           {
            "colorbar": {
             "outlinewidth": 0,
             "ticks": ""
            },
            "type": "choropleth"
           }
          ],
          "contour": [
           {
            "colorbar": {
             "outlinewidth": 0,
             "ticks": ""
            },
            "colorscale": [
             [
              0,
              "#0d0887"
             ],
             [
              0.1111111111111111,
              "#46039f"
             ],
             [
              0.2222222222222222,
              "#7201a8"
             ],
             [
              0.3333333333333333,
              "#9c179e"
             ],
             [
              0.4444444444444444,
              "#bd3786"
             ],
             [
              0.5555555555555556,
              "#d8576b"
             ],
             [
              0.6666666666666666,
              "#ed7953"
             ],
             [
              0.7777777777777778,
              "#fb9f3a"
             ],
             [
              0.8888888888888888,
              "#fdca26"
             ],
             [
              1,
              "#f0f921"
             ]
            ],
            "type": "contour"
           }
          ],
          "contourcarpet": [
           {
            "colorbar": {
             "outlinewidth": 0,
             "ticks": ""
            },
            "type": "contourcarpet"
           }
          ],
          "heatmap": [
           {
            "colorbar": {
             "outlinewidth": 0,
             "ticks": ""
            },
            "colorscale": [
             [
              0,
              "#0d0887"
             ],
             [
              0.1111111111111111,
              "#46039f"
             ],
             [
              0.2222222222222222,
              "#7201a8"
             ],
             [
              0.3333333333333333,
              "#9c179e"
             ],
             [
              0.4444444444444444,
              "#bd3786"
             ],
             [
              0.5555555555555556,
              "#d8576b"
             ],
             [
              0.6666666666666666,
              "#ed7953"
             ],
             [
              0.7777777777777778,
              "#fb9f3a"
             ],
             [
              0.8888888888888888,
              "#fdca26"
             ],
             [
              1,
              "#f0f921"
             ]
            ],
            "type": "heatmap"
           }
          ],
          "heatmapgl": [
           {
            "colorbar": {
             "outlinewidth": 0,
             "ticks": ""
            },
            "colorscale": [
             [
              0,
              "#0d0887"
             ],
             [
              0.1111111111111111,
              "#46039f"
             ],
             [
              0.2222222222222222,
              "#7201a8"
             ],
             [
              0.3333333333333333,
              "#9c179e"
             ],
             [
              0.4444444444444444,
              "#bd3786"
             ],
             [
              0.5555555555555556,
              "#d8576b"
             ],
             [
              0.6666666666666666,
              "#ed7953"
             ],
             [
              0.7777777777777778,
              "#fb9f3a"
             ],
             [
              0.8888888888888888,
              "#fdca26"
             ],
             [
              1,
              "#f0f921"
             ]
            ],
            "type": "heatmapgl"
           }
          ],
          "histogram": [
           {
            "marker": {
             "pattern": {
              "fillmode": "overlay",
              "size": 10,
              "solidity": 0.2
             }
            },
            "type": "histogram"
           }
          ],
          "histogram2d": [
           {
            "colorbar": {
             "outlinewidth": 0,
             "ticks": ""
            },
            "colorscale": [
             [
              0,
              "#0d0887"
             ],
             [
              0.1111111111111111,
              "#46039f"
             ],
             [
              0.2222222222222222,
              "#7201a8"
             ],
             [
              0.3333333333333333,
              "#9c179e"
             ],
             [
              0.4444444444444444,
              "#bd3786"
             ],
             [
              0.5555555555555556,
              "#d8576b"
             ],
             [
              0.6666666666666666,
              "#ed7953"
             ],
             [
              0.7777777777777778,
              "#fb9f3a"
             ],
             [
              0.8888888888888888,
              "#fdca26"
             ],
             [
              1,
              "#f0f921"
             ]
            ],
            "type": "histogram2d"
           }
          ],
          "histogram2dcontour": [
           {
            "colorbar": {
             "outlinewidth": 0,
             "ticks": ""
            },
            "colorscale": [
             [
              0,
              "#0d0887"
             ],
             [
              0.1111111111111111,
              "#46039f"
             ],
             [
              0.2222222222222222,
              "#7201a8"
             ],
             [
              0.3333333333333333,
              "#9c179e"
             ],
             [
              0.4444444444444444,
              "#bd3786"
             ],
             [
              0.5555555555555556,
              "#d8576b"
             ],
             [
              0.6666666666666666,
              "#ed7953"
             ],
             [
              0.7777777777777778,
              "#fb9f3a"
             ],
             [
              0.8888888888888888,
              "#fdca26"
             ],
             [
              1,
              "#f0f921"
             ]
            ],
            "type": "histogram2dcontour"
           }
          ],
          "mesh3d": [
           {
            "colorbar": {
             "outlinewidth": 0,
             "ticks": ""
            },
            "type": "mesh3d"
           }
          ],
          "parcoords": [
           {
            "line": {
             "colorbar": {
              "outlinewidth": 0,
              "ticks": ""
             }
            },
            "type": "parcoords"
           }
          ],
          "pie": [
           {
            "automargin": true,
            "type": "pie"
           }
          ],
          "scatter": [
           {
            "fillpattern": {
             "fillmode": "overlay",
             "size": 10,
             "solidity": 0.2
            },
            "type": "scatter"
           }
          ],
          "scatter3d": [
           {
            "line": {
             "colorbar": {
              "outlinewidth": 0,
              "ticks": ""
             }
            },
            "marker": {
             "colorbar": {
              "outlinewidth": 0,
              "ticks": ""
             }
            },
            "type": "scatter3d"
           }
          ],
          "scattercarpet": [
           {
            "marker": {
             "colorbar": {
              "outlinewidth": 0,
              "ticks": ""
             }
            },
            "type": "scattercarpet"
           }
          ],
          "scattergeo": [
           {
            "marker": {
             "colorbar": {
              "outlinewidth": 0,
              "ticks": ""
             }
            },
            "type": "scattergeo"
           }
          ],
          "scattergl": [
           {
            "marker": {
             "colorbar": {
              "outlinewidth": 0,
              "ticks": ""
             }
            },
            "type": "scattergl"
           }
          ],
          "scattermapbox": [
           {
            "marker": {
             "colorbar": {
              "outlinewidth": 0,
              "ticks": ""
             }
            },
            "type": "scattermapbox"
           }
          ],
          "scatterpolar": [
           {
            "marker": {
             "colorbar": {
              "outlinewidth": 0,
              "ticks": ""
             }
            },
            "type": "scatterpolar"
           }
          ],
          "scatterpolargl": [
           {
            "marker": {
             "colorbar": {
              "outlinewidth": 0,
              "ticks": ""
             }
            },
            "type": "scatterpolargl"
           }
          ],
          "scatterternary": [
           {
            "marker": {
             "colorbar": {
              "outlinewidth": 0,
              "ticks": ""
             }
            },
            "type": "scatterternary"
           }
          ],
          "surface": [
           {
            "colorbar": {
             "outlinewidth": 0,
             "ticks": ""
            },
            "colorscale": [
             [
              0,
              "#0d0887"
             ],
             [
              0.1111111111111111,
              "#46039f"
             ],
             [
              0.2222222222222222,
              "#7201a8"
             ],
             [
              0.3333333333333333,
              "#9c179e"
             ],
             [
              0.4444444444444444,
              "#bd3786"
             ],
             [
              0.5555555555555556,
              "#d8576b"
             ],
             [
              0.6666666666666666,
              "#ed7953"
             ],
             [
              0.7777777777777778,
              "#fb9f3a"
             ],
             [
              0.8888888888888888,
              "#fdca26"
             ],
             [
              1,
              "#f0f921"
             ]
            ],
            "type": "surface"
           }
          ],
          "table": [
           {
            "cells": {
             "fill": {
              "color": "#EBF0F8"
             },
             "line": {
              "color": "white"
             }
            },
            "header": {
             "fill": {
              "color": "#C8D4E3"
             },
             "line": {
              "color": "white"
             }
            },
            "type": "table"
           }
          ]
         },
         "layout": {
          "annotationdefaults": {
           "arrowcolor": "#2a3f5f",
           "arrowhead": 0,
           "arrowwidth": 1
          },
          "autotypenumbers": "strict",
          "coloraxis": {
           "colorbar": {
            "outlinewidth": 0,
            "ticks": ""
           }
          },
          "colorscale": {
           "diverging": [
            [
             0,
             "#8e0152"
            ],
            [
             0.1,
             "#c51b7d"
            ],
            [
             0.2,
             "#de77ae"
            ],
            [
             0.3,
             "#f1b6da"
            ],
            [
             0.4,
             "#fde0ef"
            ],
            [
             0.5,
             "#f7f7f7"
            ],
            [
             0.6,
             "#e6f5d0"
            ],
            [
             0.7,
             "#b8e186"
            ],
            [
             0.8,
             "#7fbc41"
            ],
            [
             0.9,
             "#4d9221"
            ],
            [
             1,
             "#276419"
            ]
           ],
           "sequential": [
            [
             0,
             "#0d0887"
            ],
            [
             0.1111111111111111,
             "#46039f"
            ],
            [
             0.2222222222222222,
             "#7201a8"
            ],
            [
             0.3333333333333333,
             "#9c179e"
            ],
            [
             0.4444444444444444,
             "#bd3786"
            ],
            [
             0.5555555555555556,
             "#d8576b"
            ],
            [
             0.6666666666666666,
             "#ed7953"
            ],
            [
             0.7777777777777778,
             "#fb9f3a"
            ],
            [
             0.8888888888888888,
             "#fdca26"
            ],
            [
             1,
             "#f0f921"
            ]
           ],
           "sequentialminus": [
            [
             0,
             "#0d0887"
            ],
            [
             0.1111111111111111,
             "#46039f"
            ],
            [
             0.2222222222222222,
             "#7201a8"
            ],
            [
             0.3333333333333333,
             "#9c179e"
            ],
            [
             0.4444444444444444,
             "#bd3786"
            ],
            [
             0.5555555555555556,
             "#d8576b"
            ],
            [
             0.6666666666666666,
             "#ed7953"
            ],
            [
             0.7777777777777778,
             "#fb9f3a"
            ],
            [
             0.8888888888888888,
             "#fdca26"
            ],
            [
             1,
             "#f0f921"
            ]
           ]
          },
          "colorway": [
           "#636efa",
           "#EF553B",
           "#00cc96",
           "#ab63fa",
           "#FFA15A",
           "#19d3f3",
           "#FF6692",
           "#B6E880",
           "#FF97FF",
           "#FECB52"
          ],
          "font": {
           "color": "#2a3f5f"
          },
          "geo": {
           "bgcolor": "white",
           "lakecolor": "white",
           "landcolor": "#E5ECF6",
           "showlakes": true,
           "showland": true,
           "subunitcolor": "white"
          },
          "hoverlabel": {
           "align": "left"
          },
          "hovermode": "closest",
          "mapbox": {
           "style": "light"
          },
          "paper_bgcolor": "white",
          "plot_bgcolor": "#E5ECF6",
          "polar": {
           "angularaxis": {
            "gridcolor": "white",
            "linecolor": "white",
            "ticks": ""
           },
           "bgcolor": "#E5ECF6",
           "radialaxis": {
            "gridcolor": "white",
            "linecolor": "white",
            "ticks": ""
           }
          },
          "scene": {
           "xaxis": {
            "backgroundcolor": "#E5ECF6",
            "gridcolor": "white",
            "gridwidth": 2,
            "linecolor": "white",
            "showbackground": true,
            "ticks": "",
            "zerolinecolor": "white"
           },
           "yaxis": {
            "backgroundcolor": "#E5ECF6",
            "gridcolor": "white",
            "gridwidth": 2,
            "linecolor": "white",
            "showbackground": true,
            "ticks": "",
            "zerolinecolor": "white"
           },
           "zaxis": {
            "backgroundcolor": "#E5ECF6",
            "gridcolor": "white",
            "gridwidth": 2,
            "linecolor": "white",
            "showbackground": true,
            "ticks": "",
            "zerolinecolor": "white"
           }
          },
          "shapedefaults": {
           "line": {
            "color": "#2a3f5f"
           }
          },
          "ternary": {
           "aaxis": {
            "gridcolor": "white",
            "linecolor": "white",
            "ticks": ""
           },
           "baxis": {
            "gridcolor": "white",
            "linecolor": "white",
            "ticks": ""
           },
           "bgcolor": "#E5ECF6",
           "caxis": {
            "gridcolor": "white",
            "linecolor": "white",
            "ticks": ""
           }
          },
          "title": {
           "x": 0.05
          },
          "xaxis": {
           "automargin": true,
           "gridcolor": "white",
           "linecolor": "white",
           "ticks": "",
           "title": {
            "standoff": 15
           },
           "zerolinecolor": "white",
           "zerolinewidth": 2
          },
          "yaxis": {
           "automargin": true,
           "gridcolor": "white",
           "linecolor": "white",
           "ticks": "",
           "title": {
            "standoff": 15
           },
           "zerolinecolor": "white",
           "zerolinewidth": 2
          }
         }
        }
       }
      }
     },
     "metadata": {},
     "output_type": "display_data"
    }
   ],
   "source": [
    "VHM = pd.read_csv('data/2024-03-28_VHM.csv')[::-1].reset_index(drop=True)\n",
    "\n",
    "fig_vhm = go.Figure()\n",
    "\n",
    "fig_vhm.add_trace(go.Scatter(y=VHM['VND'],\n",
    "                    mode='lines',\n",
    "                    name='lines'))\n",
    "\n",
    "fig_vhm.add_trace(go.Scatter(x=[0, len(VHM)], y=[69.23, 69.23],\n",
    "                    mode='lines',\n",
    "                    name='Balance'))\n",
    "\n",
    "fig_vhm.add_trace(go.Scatter(x=[0, len(VHM)], y=[47.86, 47.86],\n",
    "                    mode='lines',\n",
    "                    name='Balance - HightSigma'))\n",
    "\n",
    "fig_vhm.show()"
   ]
  },
  {
   "cell_type": "markdown",
   "metadata": {},
   "source": [
    "Voi kha nang tang 10.2577 % tu gia len vi tri canbang - sigma. Day la mot co phieu toi uu cho viec dau tu trung han."
   ]
  },
  {
   "cell_type": "markdown",
   "metadata": {},
   "source": [
    "#### Autoregressions"
   ]
  },
  {
   "cell_type": "code",
   "execution_count": 11,
   "metadata": {},
   "outputs": [],
   "source": [
    "import seaborn as sns\n",
    "from statsmodels.tsa.api import acf, graphics, pacf\n",
    "from statsmodels.tsa.ar_model import AutoReg, ar_select_order\n",
    "from sklearn.metrics import mean_squared_error"
   ]
  },
  {
   "cell_type": "code",
   "execution_count": 12,
   "metadata": {},
   "outputs": [],
   "source": [
    "total = 4*30\n",
    "data_short = VHM['VND'][len(VHM)-total:].reset_index(drop=True)\n",
    "x_short = np.arange(1, len(data_short)+1)"
   ]
  },
  {
   "cell_type": "code",
   "execution_count": 13,
   "metadata": {},
   "outputs": [],
   "source": [
    "test_size = int(0.2*len(data_short))\n",
    "\n",
    "x_train = x_short[:len(x_short) - test_size]\n",
    "y_train = data_short[:len(data_short) - test_size]\n",
    "\n",
    "x_test = x_short[len(x_short) - test_size:]\n",
    "y_test = data_short[len(data_short) - test_size:]"
   ]
  },
  {
   "cell_type": "code",
   "execution_count": 14,
   "metadata": {},
   "outputs": [
    {
     "data": {
      "text/plain": [
       "[<matplotlib.lines.Line2D at 0x78357f136320>]"
      ]
     },
     "execution_count": 14,
     "metadata": {},
     "output_type": "execute_result"
    },
    {
     "data": {
      "image/png": "[encoded data removed]",
      "text/plain": [
       "<Figure size 640x480 with 1 Axes>"
      ]
     },
     "metadata": {},
     "output_type": "display_data"
    }
   ],
   "source": [
    "mod = AutoReg(y_train, lags=3)  # Assuming lag order is 3\n",
    "# Fit the model\n",
    "res = mod.fit()\n",
    "# Predict using x_test\n",
    "predictions = res.predict(start=len(y_train), end=len(y_train) + len(x_test))\n",
    "\n",
    "\n",
    "plt.plot(x_test, y_test, c='r')\n",
    "plt.plot(predictions)"
   ]
  },
  {
   "cell_type": "code",
   "execution_count": 15,
   "metadata": {},
   "outputs": [
    {
     "name": "stdout",
     "output_type": "stream",
     "text": [
      "Best Lag(s): [1]\n"
     ]
    }
   ],
   "source": [
    "MSE_ar = []\n",
    "\n",
    "for i in range(1, 31):\n",
    "    # Instantiate the AutoReg model\n",
    "    mod = AutoReg(y_train, lags=i)\n",
    "    # Fit the model\n",
    "    res = mod.fit()\n",
    "    # Predict using x_test\n",
    "    predictions = res.predict(start=len(y_train), end=len(y_train) + len(x_test) - 1)\n",
    "    # Calculate mean squared error\n",
    "    mse = mean_squared_error(y_test, predictions)\n",
    "    MSE_ar.append(mse)\n",
    "\n",
    "best_lag = np.where(MSE_ar == np.min(MSE_ar))[0] + 1\n",
    "print('Best Lag(s):', best_lag)"
   ]
  },
  {
   "cell_type": "code",
   "execution_count": 16,
   "metadata": {},
   "outputs": [
    {
     "data": {
      "application/vnd.plotly.v1+json": {
       "config": {
        "plotlyServerURL": "https://plot.ly"
       },
       "data": [
        {
         "mode": "lines",
         "name": "Original Data",
         "type": "scatter",
         "x": [
          0,
          1,
          2,
          3,
          4,
          5,
          6,
          7,
          8,
          9,
          10,
          11,
          12,
          13,
          14,
          15,
          16,
          17,
          18,
          19,
          20,
          21,
          22,
          23,
          24,
          25,
          26,
          27,
          28,
          29,
          30,
          31,
          32,
          33,
          34,
          35,
          36,
          37,
          38,
          39,
          40,
          41,
          42,
          43,
          44,
          45,
          46,
          47,
          48,
          49,
          50,
          51,
          52,
          53,
          54,
          55,
          56,
          57,
          58,
          59,
          60,
          61,
          62,
          63,
          64,
          65,
          66,
          67,
          68,
          69,
          70,
          71,
          72,
          73,
          74,
          75,
          76,
          77,
          78,
          79,
          80,
          81,
          82,
          83,
          84,
          85,
          86,
          87,
          88,
          89,
          90,
          91,
          92,
          93,
          94,
          95,
          96,
          97,
          98,
          99,
          100,
          101,
          102,
          103,
          104,
          105,
          106,
          107,
          108,
          109,
          110,
          111,
          112,
          113,
          114,
          115,
          116,
          117,
          118,
          119,
          120,
          121,
          122,
          123,
          124,
          125,
          126,
          127,
          128,
          129,
          130,
          131,
          132,
          133,
          134,
          135,
          136,
          137,
          138,
          139,
          140,
          141,
          142,
          143,
          144,
          145,
          146,
          147,
          148,
          149,
          150,
          151,
          152,
          153,
          154,
          155,
          156,
          157,
          158,
          159,
          160,
          161,
          162,
          163,
          164,
          165,
          166,
          167,
          168,
          169,
          170,
          171,
          172,
          173,
          174,
          175,
          176,
          177,
          178,
          179,
          180,
          181,
          182,
          183,
          184,
          185,
          186,
          187,
          188,
          189,
          190,
          191,
          192,
          193,
          194,
          195,
          196,
          197,
          198,
          199,
          200,
          201,
          202,
          203,
          204,
          205,
          206,
          207,
          208,
          209,
          210,
          211,
          212,
          213,
          214,
          215,
          216,
          217,
          218,
          219,
          220,
          221,
          222,
          223,
          224,
          225,
          226,
          227,
          228,
          229,
          230,
          231,
          232,
          233,
          234,
          235,
          236,
          237,
          238,
          239,
          240,
          241,
          242,
          243,
          244,
          245,
          246,
          247,
          248,
          249,
          250,
          251,
          252,
          253,
          254,
          255,
          256,
          257,
          258,
          259,
          260,
          261,
          262,
          263,
          264,
          265,
          266,
          267,
          268,
          269,
          270,
          271,
          272,
          273,
          274,
          275,
          276,
          277,
          278,
          279,
          280,
          281,
          282,
          283,
          284,
          285,
          286,
          287,
          288,
          289,
          290,
          291,
          292,
          293,
          294,
          295,
          296,
          297,
          298,
          299,
          300,
          301,
          302,
          303,
          304,
          305,
          306,
          307,
          308,
          309,
          310,
          311,
          312,
          313,
          314,
          315,
          316,
          317,
          318,
          319,
          320,
          321,
          322,
          323,
          324,
          325,
          326,
          327,
          328,
          329,
          330,
          331,
          332,
          333,
          334,
          335,
          336,
          337,
          338,
          339,
          340,
          341,
          342,
          343,
          344,
          345,
          346,
          347,
          348,
          349,
          350,
          351,
          352,
          353,
          354,
          355,
          356,
          357,
          358,
          359,
          360,
          361,
          362,
          363,
          364,
          365,
          366,
          367,
          368,
          369,
          370,
          371,
          372,
          373,
          374,
          375,
          376,
          377,
          378,
          379,
          380,
          381,
          382,
          383,
          384,
          385,
          386,
          387,
          388,
          389,
          390,
          391,
          392,
          393,
          394,
          395,
          396,
          397,
          398,
          399,
          400,
          401,
          402,
          403,
          404,
          405,
          406,
          407,
          408,
          409,
          410,
          411,
          412,
          413,
          414,
          415,
          416,
          417,
          418,
          419,
          420,
          421,
          422,
          423,
          424,
          425,
          426,
          427,
          428,
          429,
          430,
          431,
          432,
          433,
          434,
          435,
          436,
          437,
          438,
          439,
          440,
          441,
          442,
          443,
          444,
          445,
          446,
          447,
          448,
          449,
          450,
          451,
          452,
          453,
          454,
          455,
          456,
          457,
          458,
          459,
          460,
          461,
          462,
          463,
          464,
          465,
          466,
          467,
          468,
          469,
          470,
          471,
          472,
          473,
          474,
          475,
          476,
          477,
          478,
          479,
          480,
          481,
          482,
          483,
          484,
          485,
          486,
          487,
          488,
          489,
          490,
          491,
          492,
          493,
          494,
          495,
          496,
          497,
          498,
          499,
          500,
          501,
          502,
          503,
          504,
          505,
          506,
          507,
          508,
          509,
          510,
          511,
          512,
          513,
          514,
          515,
          516,
          517,
          518,
          519,
          520,
          521,
          522,
          523,
          524,
          525,
          526,
          527,
          528,
          529,
          530,
          531,
          532,
          533,
          534,
          535,
          536,
          537,
          538,
          539,
          540,
          541,
          542,
          543,
          544,
          545,
          546,
          547,
          548,
          549,
          550,
          551,
          552,
          553,
          554,
          555,
          556,
          557,
          558,
          559,
          560,
          561,
          562,
          563,
          564,
          565,
          566,
          567,
          568,
          569,
          570,
          571,
          572,
          573,
          574,
          575,
          576,
          577,
          578,
          579,
          580,
          581,
          582,
          583,
          584,
          585,
          586,
          587,
          588,
          589,
          590,
          591,
          592,
          593,
          594,
          595,
          596,
          597,
          598,
          599,
          600,
          601,
          602,
          603,
          604,
          605,
          606,
          607,
          608,
          609,
          610,
          611,
          612,
          613,
          614,
          615,
          616,
          617,
          618,
          619,
          620,
          621,
          622,
          623,
          624,
          625,
          626,
          627,
          628,
          629,
          630,
          631,
          632,
          633,
          634,
          635,
          636,
          637,
          638,
          639,
          640,
          641,
          642,
          643,
          644,
          645,
          646,
          647,
          648,
          649,
          650,
          651,
          652,
          653,
          654,
          655,
          656,
          657,
          658,
          659,
          660,
          661,
          662,
          663,
          664,
          665,
          666,
          667,
          668,
          669,
          670,
          671,
          672,
          673,
          674,
          675,
          676,
          677,
          678,
          679,
          680,
          681,
          682,
          683,
          684,
          685,
          686,
          687,
          688,
          689,
          690,
          691,
          692,
          693,
          694,
          695,
          696,
          697,
          698,
          699,
          700,
          701,
          702,
          703,
          704,
          705,
          706,
          707,
          708,
          709,
          710,
          711,
          712,
          713,
          714,
          715,
          716,
          717,
          718,
          719,
          720,
          721,
          722,
          723,
          724,
          725,
          726,
          727,
          728,
          729,
          730,
          731,
          732,
          733,
          734,
          735,
          736,
          737,
          738,
          739,
          740,
          741,
          742,
          743,
          744,
          745,
          746,
          747,
          748,
          749,
          750,
          751,
          752,
          753,
          754,
          755,
          756,
          757,
          758,
          759,
          760,
          761,
          762,
          763,
          764,
          765,
          766,
          767,
          768,
          769,
          770,
          771,
          772,
          773,
          774,
          775,
          776,
          777,
          778,
          779,
          780,
          781,
          782,
          783,
          784,
          785,
          786,
          787,
          788,
          789,
          790,
          791,
          792,
          793,
          794,
          795,
          796,
          797,
          798,
          799,
          800,
          801,
          802,
          803,
          804,
          805,
          806,
          807,
          808,
          809,
          810,
          811,
          812,
          813,
          814,
          815,
          816,
          817,
          818,
          819,
          820,
          821,
          822,
          823,
          824,
          825,
          826,
          827,
          828,
          829,
          830,
          831,
          832,
          833,
          834,
          835,
          836,
          837,
          838,
          839,
          840,
          841,
          842,
          843,
          844,
          845,
          846,
          847,
          848,
          849,
          850,
          851,
          852,
          853,
          854,
          855,
          856,
          857,
          858,
          859,
          860,
          861,
          862,
          863,
          864,
          865,
          866,
          867,
          868,
          869,
          870,
          871,
          872,
          873,
          874,
          875,
          876,
          877,
          878,
          879,
          880,
          881,
          882,
          883,
          884,
          885,
          886,
          887,
          888,
          889,
          890,
          891,
          892,
          893,
          894,
          895,
          896,
          897,
          898,
          899,
          900,
          901,
          902,
          903,
          904,
          905,
          906,
          907,
          908,
          909,
          910,
          911,
          912,
          913,
          914,
          915,
          916,
          917,
          918,
          919,
          920,
          921,
          922,
          923,
          924,
          925,
          926,
          927,
          928,
          929,
          930,
          931,
          932,
          933,
          934,
          935,
          936,
          937,
          938,
          939,
          940,
          941,
          942,
          943,
          944,
          945,
          946,
          947,
          948,
          949,
          950,
          951,
          952,
          953,
          954,
          955,
          956,
          957,
          958,
          959,
          960,
          961,
          962,
          963,
          964,
          965,
          966,
          967,
          968,
          969,
          970,
          971,
          972,
          973,
          974,
          975,
          976,
          977,
          978,
          979,
          980,
          981,
          982,
          983,
          984,
          985,
          986,
          987,
          988,
          989,
          990,
          991,
          992,
          993,
          994,
          995,
          996,
          997,
          998,
          999,
          1000,
          1001,
          1002,
          1003,
          1004,
          1005,
          1006,
          1007,
          1008,
          1009,
          1010,
          1011,
          1012,
          1013,
          1014,
          1015,
          1016,
          1017,
          1018,
          1019,
          1020,
          1021,
          1022,
          1023,
          1024,
          1025,
          1026,
          1027,
          1028,
          1029,
          1030,
          1031,
          1032,
          1033,
          1034,
          1035,
          1036,
          1037,
          1038,
          1039,
          1040,
          1041,
          1042,
          1043,
          1044,
          1045,
          1046,
          1047,
          1048,
          1049,
          1050,
          1051,
          1052,
          1053,
          1054,
          1055,
          1056,
          1057
         ],
         "y": [
          84.9,
          85.2,
          83.4,
          83.8,
          82.5,
          83.3,
          84.5,
          86.3,
          86.3,
          86.3,
          86.1,
          86,
          86,
          87.5,
          89.4,
          87.4,
          87.5,
          85.2,
          85.7,
          86,
          86.8,
          87,
          86.2,
          86.2,
          86.5,
          86,
          87.6,
          86.7,
          86,
          86,
          86.9,
          86.1,
          84,
          83.1,
          80.9,
          80.8,
          80.4,
          80.5,
          80.5,
          80.5,
          81,
          80.9,
          75.3,
          76.5,
          76.5,
          72,
          72,
          71.8,
          69.9,
          69.5,
          68.5,
          63.8,
          59.4,
          55.3,
          59.1,
          61,
          60,
          55.8,
          55,
          54.8,
          57.7,
          61.7,
          66,
          70,
          69,
          67.1,
          67.3,
          68,
          67.8,
          67.5,
          68.5,
          68.5,
          68,
          65.4,
          66.6,
          65,
          64.5,
          64.6,
          63.6,
          64.9,
          63.6,
          67,
          67.6,
          70.9,
          73.5,
          73.5,
          71.4,
          70.6,
          71.6,
          71.9,
          73.2,
          77.1,
          78,
          76.5,
          76.8,
          76.4,
          74.7,
          75,
          76.6,
          79.1,
          77.8,
          77.9,
          77.5,
          77.3,
          77.8,
          77.6,
          77.5,
          76.5,
          75,
          70,
          74.9,
          76,
          76.5,
          76.5,
          78.3,
          77.7,
          75.7,
          75.5,
          75.6,
          74,
          75.5,
          76.9,
          76.9,
          77.8,
          80.8,
          80.8,
          80.4,
          80.8,
          79.4,
          79.1,
          80.5,
          81.1,
          81.5,
          80.5,
          79.2,
          78.8,
          77.5,
          78.8,
          76,
          70.9,
          75.8,
          74,
          76.6,
          77.7,
          78.5,
          79,
          79.6,
          79.6,
          79.6,
          79.6,
          79.4,
          79.4,
          79.4,
          79.7,
          79.7,
          79.6,
          80,
          80,
          79.5,
          80,
          79.6,
          79.5,
          78.5,
          78.6,
          78.5,
          78.7,
          79.6,
          80,
          79.1,
          78.5,
          78.6,
          78.1,
          77.7,
          77.5,
          76.8,
          77.2,
          76.7,
          76.9,
          77.1,
          76.8,
          77.5,
          77.1,
          77.1,
          76.6,
          75.3,
          75.5,
          77.1,
          75.9,
          76,
          76.1,
          76.8,
          76.6,
          77,
          77.5,
          78.1,
          78.5,
          77.5,
          77,
          76.1,
          76.2,
          76.4,
          77.5,
          79.5,
          78.5,
          77.6,
          75.6,
          76.2,
          76,
          75.9,
          75.8,
          75.9,
          75.7,
          75.7,
          78,
          77.4,
          76.6,
          77.2,
          78.3,
          76.6,
          78.3,
          77.3,
          77.5,
          78.5,
          80.6,
          83.8,
          83.5,
          82.7,
          83,
          82.6,
          83.3,
          85.2,
          84.9,
          84.9,
          84.7,
          84.4,
          85,
          83.6,
          85,
          87,
          86,
          86.2,
          84.7,
          85.3,
          87.1,
          86.9,
          87.4,
          86.3,
          87.6,
          87.7,
          90.3,
          90.2,
          89.5,
          92,
          95.6,
          94.8,
          94.8,
          96.4,
          103.1,
          103.4,
          100.9,
          99.6,
          101.6,
          101,
          96.8,
          97.5,
          99,
          99.3,
          99.5,
          98,
          93.9,
          87.4,
          93.5,
          88.3,
          94.4,
          97.2,
          98.4,
          99.3,
          94.7,
          96.8,
          101,
          103.2,
          103.1,
          105.8,
          105.3,
          102.8,
          102.8,
          101.6,
          103,
          102.8,
          101.5,
          100,
          98.4,
          97.2,
          98.2,
          99.9,
          100,
          99.9,
          99.8,
          99.5,
          99.3,
          99.7,
          97.8,
          99.3,
          98.7,
          97.2,
          96.7,
          95.7,
          96.2,
          96.3,
          97.3,
          99,
          100.7,
          101.7,
          101.7,
          100.5,
          99.7,
          98.9,
          101.8,
          102.5,
          100.5,
          101.2,
          101,
          104.5,
          108.6,
          103.1,
          105,
          99.6,
          100,
          100.9,
          99.3,
          99.2,
          99.6,
          98.7,
          97.1,
          99.1,
          98,
          97.7,
          97,
          97.2,
          100.8,
          98.9,
          100.4,
          102,
          103.9,
          106,
          104.6,
          105.7,
          104.4,
          104.6,
          102.6,
          104,
          104.4,
          105.4,
          104.5,
          106,
          105.3,
          106.1,
          104.1,
          106,
          109.9,
          112.6,
          110,
          109,
          112.5,
          112,
          111.5,
          111.3,
          112.1,
          112.1,
          115.5,
          118.6,
          118,
          117.2,
          118,
          118.5,
          110.3,
          117,
          115,
          112.5,
          108,
          109.5,
          109.5,
          110.3,
          109,
          104.3,
          106.6,
          108,
          111,
          107.6,
          109.6,
          107.8,
          106.5,
          107.9,
          108.3,
          108.1,
          110.9,
          110.5,
          111.7,
          113.9,
          117.4,
          117,
          116,
          117,
          120,
          116,
          111,
          110,
          111,
          108.1,
          107.2,
          107.3,
          107,
          106.6,
          106.9,
          106.9,
          106.4,
          107,
          108.4,
          109.6,
          107.9,
          107.7,
          107.5,
          107,
          107,
          81.9,
          80.1,
          81.2,
          79.9,
          77.5,
          78,
          79.3,
          79.6,
          78.2,
          78.5,
          78.2,
          78.3,
          77,
          78,
          79.4,
          80.5,
          80,
          79.9,
          81,
          80.9,
          80,
          78.9,
          78.7,
          78.9,
          79.4,
          78.8,
          77.9,
          78,
          78.5,
          78.7,
          81,
          81,
          85.5,
          84.3,
          85,
          82.9,
          82.7,
          82,
          82.4,
          83,
          82.6,
          81.5,
          82,
          84,
          83,
          83.5,
          82.8,
          80.5,
          81,
          82.5,
          83.7,
          83.9,
          83.3,
          84.8,
          84.6,
          82.9,
          82.3,
          80.2,
          79.7,
          81.6,
          81,
          81.6,
          80.9,
          82.1,
          82.1,
          82.6,
          82.3,
          84.5,
          83.5,
          86,
          85.7,
          82.5,
          82.9,
          82.8,
          82.8,
          81.7,
          81.6,
          82,
          85.1,
          84,
          85.3,
          85.4,
          85.4,
          83.6,
          83.6,
          82.2,
          82.2,
          79.1,
          77,
          77.6,
          78.6,
          79.4,
          76.2,
          81,
          81.2,
          81,
          80.3,
          82.2,
          81.2,
          81.5,
          80.1,
          79.7,
          78.1,
          80,
          80,
          80.8,
          79.7,
          80,
          79.3,
          79.4,
          78.6,
          78.3,
          77.5,
          78,
          77.5,
          78,
          77.9,
          76.2,
          74.6,
          74,
          75.2,
          75,
          74.5,
          74.5,
          74.2,
          74,
          74.6,
          77.5,
          78,
          77.2,
          75.7,
          75.9,
          74.9,
          76.5,
          75.8,
          75.8,
          76.2,
          76.3,
          76.4,
          76.3,
          75,
          75.1,
          73,
          73.1,
          72.3,
          71.1,
          69.8,
          68.9,
          66.8,
          64,
          64.7,
          63,
          65,
          65,
          64.5,
          65,
          64.5,
          68.8,
          68.7,
          68,
          69.9,
          70.5,
          68.9,
          68,
          65.8,
          66.9,
          66.9,
          67,
          66.8,
          66.7,
          66.9,
          67.9,
          68.7,
          69.7,
          70.5,
          69.6,
          70.3,
          69.5,
          69.4,
          69.3,
          68.5,
          68.5,
          68.3,
          68.3,
          66,
          66,
          65.9,
          66,
          66,
          65,
          65,
          64.8,
          63.2,
          63.2,
          63.5,
          63.8,
          63.3,
          62.1,
          61.4,
          61,
          60.5,
          59.1,
          61,
          61,
          60.5,
          60.2,
          60.1,
          60.1,
          60,
          59,
          58.8,
          59.7,
          58.9,
          58.7,
          58.9,
          58.7,
          58.6,
          58.8,
          59.9,
          60,
          62.5,
          61.9,
          63,
          61.8,
          61.5,
          60.9,
          61.3,
          61.4,
          61.2,
          61.5,
          61.3,
          61.3,
          61.1,
          60.1,
          59.4,
          59.5,
          59.7,
          61,
          60.3,
          59.7,
          59.9,
          61,
          61,
          61.1,
          59.5,
          59.6,
          59.9,
          61.4,
          60.7,
          60,
          60.5,
          59.6,
          58.4,
          58.9,
          58.3,
          57.7,
          57.2,
          55.9,
          54.1,
          51.2,
          50.8,
          50.7,
          50.4,
          50.6,
          53.8,
          53.6,
          53.8,
          53.9,
          51.8,
          52.5,
          52.8,
          51.9,
          49.5,
          50.5,
          50,
          50,
          47.95,
          44.6,
          44.6,
          43.5,
          44,
          44.9,
          45,
          45,
          44.9,
          45,
          44.5,
          43.9,
          43.8,
          44.55,
          43.95,
          44.15,
          44,
          43.4,
          44.9,
          47.95,
          48,
          46.95,
          45.3,
          44.4,
          45,
          47,
          50.2,
          53.1,
          54.5,
          53.5,
          57.2,
          58.3,
          55,
          55.5,
          55.4,
          54.1,
          50.5,
          53,
          53,
          50.7,
          49.3,
          48.2,
          48.2,
          48.5,
          49,
          49.8,
          47,
          47.5,
          47.7,
          47.8,
          48,
          49.4,
          49,
          49.7,
          49.9,
          50.2,
          49.75,
          50.8,
          51.5,
          52,
          51.3,
          52,
          52.5,
          52.2,
          53.3,
          51.5,
          50.9,
          48,
          47.9,
          48.1,
          47.95,
          46.8,
          46.6,
          45.3,
          45.4,
          44.4,
          42.75,
          42.5,
          42.5,
          43.3,
          45.2,
          45.2,
          42.6,
          42,
          41,
          40.9,
          41.5,
          41.2,
          41.1,
          40.95,
          42.1,
          42.3,
          42.35,
          42.4,
          42.85,
          44.75,
          44.75,
          46,
          44.5,
          43.35,
          42.55,
          45.4,
          47.65,
          48,
          49,
          48.4,
          48,
          48,
          49.55,
          51.5,
          52.6,
          51,
          52.2,
          51.2,
          50.7,
          49.8,
          51.5,
          51.6,
          50.5,
          50,
          50.3,
          50.8,
          50.4,
          50.7,
          50.3,
          50.5,
          50.2,
          48,
          47.5,
          49.5,
          49.5,
          49,
          49.4,
          49.3,
          49.35,
          49.15,
          51.2,
          51.7,
          52.2,
          53.4,
          55,
          54.1,
          54.1,
          53.7,
          54.5,
          55,
          55,
          55.5,
          54.9,
          53.5,
          53,
          53.4,
          53.7,
          55,
          55.3,
          55.4,
          55.5,
          55.4,
          56.7,
          57,
          56.5,
          56,
          55,
          55.1,
          54.6,
          55.7,
          56,
          55.5,
          55.9,
          55.4,
          55,
          55,
          55.9,
          56.5,
          56.1,
          54.5,
          54,
          53.8,
          53.9,
          55.1,
          56.3,
          56.4,
          59,
          58.8,
          58.5,
          57.7,
          59,
          59.1,
          58.6,
          59,
          57.5,
          58.9,
          63,
          62.8,
          61.9,
          60.1,
          63,
          62.9,
          62.8,
          60.6,
          60.6,
          60.9,
          61.2,
          61.7,
          62.9,
          61,
          56.8,
          56,
          55.5,
          54.5,
          55.4,
          54.1,
          54.7,
          54.6,
          54.6,
          54.7,
          55.3,
          55.9,
          55.1,
          54,
          52.5,
          53.5,
          52.1,
          49,
          50.5,
          48.95,
          49.35,
          50.7,
          50.2,
          48,
          47,
          45,
          45.1,
          44.5,
          45.5,
          45.75,
          44.05,
          44.6,
          44.55,
          46.05,
          47,
          48,
          47.4,
          47.55,
          46.9,
          45.55,
          44.5,
          43.3,
          42.5,
          44.5,
          44.5,
          44.6,
          44.9,
          41.8,
          39.2,
          39.2,
          39,
          38.45,
          39.95,
          40.5,
          41,
          40,
          41,
          42.9,
          42.3,
          41.35,
          41,
          41.45,
          41.15,
          38.95,
          38.95,
          39.1,
          39,
          39,
          39.1,
          39.8,
          40.75,
          41.2,
          41.3,
          40.9,
          41.3,
          40.5,
          40.45,
          39.7,
          39.65,
          41,
          41.05,
          40.75,
          40.3,
          39.9,
          39.9,
          39.5,
          39.95,
          40.2,
          40.3,
          41.2,
          41.9,
          41.9,
          43.7,
          43.2,
          43,
          43.4,
          43.45,
          43.1,
          43.35,
          43,
          42.7,
          42,
          41.3,
          41.6,
          42.65,
          41.9,
          43.2,
          43.05,
          43,
          42.35,
          42.5,
          42.1,
          42,
          41.8,
          42,
          41.5,
          41.2,
          41.2,
          41.25,
          41,
          41.8,
          41.95,
          42.7,
          45.55,
          46.15,
          45,
          44.8,
          43.3,
          43.35,
          44.2,
          44.4,
          43.4,
          43.95,
          43.95,
          43.65,
          43.1,
          43.2,
          42.55,
          42.55,
          42.7,
          42.95,
          42.9,
          42.4,
          42.1,
          42.9,
          42.5,
          42.9,
          42.8,
          42.55,
          42.75,
          42.5,
          43.3
         ]
        },
        {
         "mode": "lines",
         "name": "Short Data for Fitting",
         "type": "scatter",
         "x": [
          938,
          939,
          940,
          941,
          942,
          943,
          944,
          945,
          946,
          947,
          948,
          949,
          950,
          951,
          952,
          953,
          954,
          955,
          956,
          957,
          958,
          959,
          960,
          961,
          962,
          963,
          964,
          965,
          966,
          967,
          968,
          969,
          970,
          971,
          972,
          973,
          974,
          975,
          976,
          977,
          978,
          979,
          980,
          981,
          982,
          983,
          984,
          985,
          986,
          987,
          988,
          989,
          990,
          991,
          992,
          993,
          994,
          995,
          996,
          997,
          998,
          999,
          1000,
          1001,
          1002,
          1003,
          1004,
          1005,
          1006,
          1007,
          1008,
          1009,
          1010,
          1011,
          1012,
          1013,
          1014,
          1015,
          1016,
          1017,
          1018,
          1019,
          1020,
          1021,
          1022,
          1023,
          1024,
          1025,
          1026,
          1027,
          1028,
          1029,
          1030,
          1031,
          1032,
          1033,
          1034,
          1035,
          1036,
          1037,
          1038,
          1039,
          1040,
          1041,
          1042,
          1043,
          1044,
          1045,
          1046,
          1047,
          1048,
          1049,
          1050,
          1051,
          1052,
          1053,
          1054,
          1055,
          1056,
          1057
         ],
         "y": [
          44.55,
          46.05,
          47,
          48,
          47.4,
          47.55,
          46.9,
          45.55,
          44.5,
          43.3,
          42.5,
          44.5,
          44.5,
          44.6,
          44.9,
          41.8,
          39.2,
          39.2,
          39,
          38.45,
          39.95,
          40.5,
          41,
          40,
          41,
          42.9,
          42.3,
          41.35,
          41,
          41.45,
          41.15,
          38.95,
          38.95,
          39.1,
          39,
          39,
          39.1,
          39.8,
          40.75,
          41.2,
          41.3,
          40.9,
          41.3,
          40.5,
          40.45,
          39.7,
          39.65,
          41,
          41.05,
          40.75,
          40.3,
          39.9,
          39.9,
          39.5,
          39.95,
          40.2,
          40.3,
          41.2,
          41.9,
          41.9,
          43.7,
          43.2,
          43,
          43.4,
          43.45,
          43.1,
          43.35,
          43,
          42.7,
          42,
          41.3,
          41.6,
          42.65,
          41.9,
          43.2,
          43.05,
          43,
          42.35,
          42.5,
          42.1,
          42,
          41.8,
          42,
          41.5,
          41.2,
          41.2,
          41.25,
          41,
          41.8,
          41.95,
          42.7,
          45.55,
          46.15,
          45,
          44.8,
          43.3,
          43.35,
          44.2,
          44.4,
          43.4,
          43.95,
          43.95,
          43.65,
          43.1,
          43.2,
          42.55,
          42.55,
          42.7,
          42.95,
          42.9,
          42.4,
          42.1,
          42.9,
          42.5,
          42.9,
          42.8,
          42.55,
          42.75,
          42.5,
          43.3
         ]
        },
        {
         "mode": "lines",
         "name": "Predictions",
         "type": "scatter",
         "x": [
          1057,
          1058,
          1059,
          1060,
          1061,
          1062,
          1063,
          1064,
          1065,
          1066,
          1067,
          1068,
          1069,
          1070,
          1071,
          1072,
          1073,
          1074,
          1075,
          1076,
          1077,
          1078,
          1079,
          1080,
          1081,
          1082,
          1083,
          1084,
          1085,
          1086,
          1087
         ],
         "y": [
          43.19575109504902,
          43.100794728145544,
          43.014302581108154,
          42.93552017037479,
          42.86376026553305,
          42.798396894509494,
          42.7388598831243,
          42.68462988137908,
          42.63523383309141,
          42.59024084935704,
          42.54925844984337,
          42.51192913912654,
          42.477927288206885,
          42.44695629399987,
          42.41874599202433,
          42.39305029971843,
          42.36964506982575,
          42.3483261351262,
          42.32890752745571,
          42.31121985547891,
          42.29510882706391,
          42.28043390336964,
          42.2670670729051,
          42.25489173486655,
          42.243801682011735,
          42.233700174198724,
          42.22449909450756,
          42.216118180583585,
          42.20848432449728,
          42.20153093501313
         ]
        },
        {
         "mode": "lines",
         "name": "Balance - HightSigma",
         "type": "scatter",
         "x": [
          0,
          1088
         ],
         "y": [
          47.86,
          47.86
         ]
        }
       ],
       "layout": {
        "template": {
         "data": {
          "bar": [
           {
            "error_x": {
             "color": "#2a3f5f"
            },
            "error_y": {
             "color": "#2a3f5f"
            },
            "marker": {
             "line": {
              "color": "#E5ECF6",
              "width": 0.5
             },
             "pattern": {
              "fillmode": "overlay",
              "size": 10,
              "solidity": 0.2
             }
            },
            "type": "bar"
           }
          ],
          "barpolar": [
           {
            "marker": {
             "line": {
              "color": "#E5ECF6",
              "width": 0.5
             },
             "pattern": {
              "fillmode": "overlay",
              "size": 10,
              "solidity": 0.2
             }
            },
            "type": "barpolar"
           }
          ],
          "carpet": [
           {
            "aaxis": {
             "endlinecolor": "#2a3f5f",
             "gridcolor": "white",
             "linecolor": "white",
             "minorgridcolor": "white",
             "startlinecolor": "#2a3f5f"
            },
            "baxis": {
             "endlinecolor": "#2a3f5f",
             "gridcolor": "white",
             "linecolor": "white",
             "minorgridcolor": "white",
             "startlinecolor": "#2a3f5f"
            },
            "type": "carpet"
           }
          ],
          "choropleth": [
           {
            "colorbar": {
             "outlinewidth": 0,
             "ticks": ""
            },
            "type": "choropleth"
           }
          ],
          "contour": [
           {
            "colorbar": {
             "outlinewidth": 0,
             "ticks": ""
            },
            "colorscale": [
             [
              0,
              "#0d0887"
             ],
             [
              0.1111111111111111,
              "#46039f"
             ],
             [
              0.2222222222222222,
              "#7201a8"
             ],
             [
              0.3333333333333333,
              "#9c179e"
             ],
             [
              0.4444444444444444,
              "#bd3786"
             ],
             [
              0.5555555555555556,
              "#d8576b"
             ],
             [
              0.6666666666666666,
              "#ed7953"
             ],
             [
              0.7777777777777778,
              "#fb9f3a"
             ],
             [
              0.8888888888888888,
              "#fdca26"
             ],
             [
              1,
              "#f0f921"
             ]
            ],
            "type": "contour"
           }
          ],
          "contourcarpet": [
           {
            "colorbar": {
             "outlinewidth": 0,
             "ticks": ""
            },
            "type": "contourcarpet"
           }
          ],
          "heatmap": [
           {
            "colorbar": {
             "outlinewidth": 0,
             "ticks": ""
            },
            "colorscale": [
             [
              0,
              "#0d0887"
             ],
             [
              0.1111111111111111,
              "#46039f"
             ],
             [
              0.2222222222222222,
              "#7201a8"
             ],
             [
              0.3333333333333333,
              "#9c179e"
             ],
             [
              0.4444444444444444,
              "#bd3786"
             ],
             [
              0.5555555555555556,
              "#d8576b"
             ],
             [
              0.6666666666666666,
              "#ed7953"
             ],
             [
              0.7777777777777778,
              "#fb9f3a"
             ],
             [
              0.8888888888888888,
              "#fdca26"
             ],
             [
              1,
              "#f0f921"
             ]
            ],
            "type": "heatmap"
           }
          ],
          "heatmapgl": [
           {
            "colorbar": {
             "outlinewidth": 0,
             "ticks": ""
            },
            "colorscale": [
             [
              0,
              "#0d0887"
             ],
             [
              0.1111111111111111,
              "#46039f"
             ],
             [
              0.2222222222222222,
              "#7201a8"
             ],
             [
              0.3333333333333333,
              "#9c179e"
             ],
             [
              0.4444444444444444,
              "#bd3786"
             ],
             [
              0.5555555555555556,
              "#d8576b"
             ],
             [
              0.6666666666666666,
              "#ed7953"
             ],
             [
              0.7777777777777778,
              "#fb9f3a"
             ],
             [
              0.8888888888888888,
              "#fdca26"
             ],
             [
              1,
              "#f0f921"
             ]
            ],
            "type": "heatmapgl"
           }
          ],
          "histogram": [
           {
            "marker": {
             "pattern": {
              "fillmode": "overlay",
              "size": 10,
              "solidity": 0.2
             }
            },
            "type": "histogram"
           }
          ],
          "histogram2d": [
           {
            "colorbar": {
             "outlinewidth": 0,
             "ticks": ""
            },
            "colorscale": [
             [
              0,
              "#0d0887"
             ],
             [
              0.1111111111111111,
              "#46039f"
             ],
             [
              0.2222222222222222,
              "#7201a8"
             ],
             [
              0.3333333333333333,
              "#9c179e"
             ],
             [
              0.4444444444444444,
              "#bd3786"
             ],
             [
              0.5555555555555556,
              "#d8576b"
             ],
             [
              0.6666666666666666,
              "#ed7953"
             ],
             [
              0.7777777777777778,
              "#fb9f3a"
             ],
             [
              0.8888888888888888,
              "#fdca26"
             ],
             [
              1,
              "#f0f921"
             ]
            ],
            "type": "histogram2d"
           }
          ],
          "histogram2dcontour": [
           {
            "colorbar": {
             "outlinewidth": 0,
             "ticks": ""
            },
            "colorscale": [
             [
              0,
              "#0d0887"
             ],
             [
              0.1111111111111111,
              "#46039f"
             ],
             [
              0.2222222222222222,
              "#7201a8"
             ],
             [
              0.3333333333333333,
              "#9c179e"
             ],
             [
              0.4444444444444444,
              "#bd3786"
             ],
             [
              0.5555555555555556,
              "#d8576b"
             ],
             [
              0.6666666666666666,
              "#ed7953"
             ],
             [
              0.7777777777777778,
              "#fb9f3a"
             ],
             [
              0.8888888888888888,
              "#fdca26"
             ],
             [
              1,
              "#f0f921"
             ]
            ],
            "type": "histogram2dcontour"
           }
          ],
          "mesh3d": [
           {
            "colorbar": {
             "outlinewidth": 0,
             "ticks": ""
            },
            "type": "mesh3d"
           }
          ],
          "parcoords": [
           {
            "line": {
             "colorbar": {
              "outlinewidth": 0,
              "ticks": ""
             }
            },
            "type": "parcoords"
           }
          ],
          "pie": [
           {
            "automargin": true,
            "type": "pie"
           }
          ],
          "scatter": [
           {
            "fillpattern": {
             "fillmode": "overlay",
             "size": 10,
             "solidity": 0.2
            },
            "type": "scatter"
           }
          ],
          "scatter3d": [
           {
            "line": {
             "colorbar": {
              "outlinewidth": 0,
              "ticks": ""
             }
            },
            "marker": {
             "colorbar": {
              "outlinewidth": 0,
              "ticks": ""
             }
            },
            "type": "scatter3d"
           }
          ],
          "scattercarpet": [
           {
            "marker": {
             "colorbar": {
              "outlinewidth": 0,
              "ticks": ""
             }
            },
            "type": "scattercarpet"
           }
          ],
          "scattergeo": [
           {
            "marker": {
             "colorbar": {
              "outlinewidth": 0,
              "ticks": ""
             }
            },
            "type": "scattergeo"
           }
          ],
          "scattergl": [
           {
            "marker": {
             "colorbar": {
              "outlinewidth": 0,
              "ticks": ""
             }
            },
            "type": "scattergl"
           }
          ],
          "scattermapbox": [
           {
            "marker": {
             "colorbar": {
              "outlinewidth": 0,
              "ticks": ""
             }
            },
            "type": "scattermapbox"
           }
          ],
          "scatterpolar": [
           {
            "marker": {
             "colorbar": {
              "outlinewidth": 0,
              "ticks": ""
             }
            },
            "type": "scatterpolar"
           }
          ],
          "scatterpolargl": [
           {
            "marker": {
             "colorbar": {
              "outlinewidth": 0,
              "ticks": ""
             }
            },
            "type": "scatterpolargl"
           }
          ],
          "scatterternary": [
           {
            "marker": {
             "colorbar": {
              "outlinewidth": 0,
              "ticks": ""
             }
            },
            "type": "scatterternary"
           }
          ],
          "surface": [
           {
            "colorbar": {
             "outlinewidth": 0,
             "ticks": ""
            },
            "colorscale": [
             [
              0,
              "#0d0887"
             ],
             [
              0.1111111111111111,
              "#46039f"
             ],
             [
              0.2222222222222222,
              "#7201a8"
             ],
             [
              0.3333333333333333,
              "#9c179e"
             ],
             [
              0.4444444444444444,
              "#bd3786"
             ],
             [
              0.5555555555555556,
              "#d8576b"
             ],
             [
              0.6666666666666666,
              "#ed7953"
             ],
             [
              0.7777777777777778,
              "#fb9f3a"
             ],
             [
              0.8888888888888888,
              "#fdca26"
             ],
             [
              1,
              "#f0f921"
             ]
            ],
            "type": "surface"
           }
          ],
          "table": [
           {
            "cells": {
             "fill": {
              "color": "#EBF0F8"
             },
             "line": {
              "color": "white"
             }
            },
            "header": {
             "fill": {
              "color": "#C8D4E3"
             },
             "line": {
              "color": "white"
             }
            },
            "type": "table"
           }
          ]
         },
         "layout": {
          "annotationdefaults": {
           "arrowcolor": "#2a3f5f",
           "arrowhead": 0,
           "arrowwidth": 1
          },
          "autotypenumbers": "strict",
          "coloraxis": {
           "colorbar": {
            "outlinewidth": 0,
            "ticks": ""
           }
          },
          "colorscale": {
           "diverging": [
            [
             0,
             "#8e0152"
            ],
            [
             0.1,
             "#c51b7d"
            ],
            [
             0.2,
             "#de77ae"
            ],
            [
             0.3,
             "#f1b6da"
            ],
            [
             0.4,
             "#fde0ef"
            ],
            [
             0.5,
             "#f7f7f7"
            ],
            [
             0.6,
             "#e6f5d0"
            ],
            [
             0.7,
             "#b8e186"
            ],
            [
             0.8,
             "#7fbc41"
            ],
            [
             0.9,
             "#4d9221"
            ],
            [
             1,
             "#276419"
            ]
           ],
           "sequential": [
            [
             0,
             "#0d0887"
            ],
            [
             0.1111111111111111,
             "#46039f"
            ],
            [
             0.2222222222222222,
             "#7201a8"
            ],
            [
             0.3333333333333333,
             "#9c179e"
            ],
            [
             0.4444444444444444,
             "#bd3786"
            ],
            [
             0.5555555555555556,
             "#d8576b"
            ],
            [
             0.6666666666666666,
             "#ed7953"
            ],
            [
             0.7777777777777778,
             "#fb9f3a"
            ],
            [
             0.8888888888888888,
             "#fdca26"
            ],
            [
             1,
             "#f0f921"
            ]
           ],
           "sequentialminus": [
            [
             0,
             "#0d0887"
            ],
            [
             0.1111111111111111,
             "#46039f"
            ],
            [
             0.2222222222222222,
             "#7201a8"
            ],
            [
             0.3333333333333333,
             "#9c179e"
            ],
            [
             0.4444444444444444,
             "#bd3786"
            ],
            [
             0.5555555555555556,
             "#d8576b"
            ],
            [
             0.6666666666666666,
             "#ed7953"
            ],
            [
             0.7777777777777778,
             "#fb9f3a"
            ],
            [
             0.8888888888888888,
             "#fdca26"
            ],
            [
             1,
             "#f0f921"
            ]
           ]
          },
          "colorway": [
           "#636efa",
           "#EF553B",
           "#00cc96",
           "#ab63fa",
           "#FFA15A",
           "#19d3f3",
           "#FF6692",
           "#B6E880",
           "#FF97FF",
           "#FECB52"
          ],
          "font": {
           "color": "#2a3f5f"
          },
          "geo": {
           "bgcolor": "white",
           "lakecolor": "white",
           "landcolor": "#E5ECF6",
           "showlakes": true,
           "showland": true,
           "subunitcolor": "white"
          },
          "hoverlabel": {
           "align": "left"
          },
          "hovermode": "closest",
          "mapbox": {
           "style": "light"
          },
          "paper_bgcolor": "white",
          "plot_bgcolor": "#E5ECF6",
          "polar": {
           "angularaxis": {
            "gridcolor": "white",
            "linecolor": "white",
            "ticks": ""
           },
           "bgcolor": "#E5ECF6",
           "radialaxis": {
            "gridcolor": "white",
            "linecolor": "white",
            "ticks": ""
           }
          },
          "scene": {
           "xaxis": {
            "backgroundcolor": "#E5ECF6",
            "gridcolor": "white",
            "gridwidth": 2,
            "linecolor": "white",
            "showbackground": true,
            "ticks": "",
            "zerolinecolor": "white"
           },
           "yaxis": {
            "backgroundcolor": "#E5ECF6",
            "gridcolor": "white",
            "gridwidth": 2,
            "linecolor": "white",
            "showbackground": true,
            "ticks": "",
            "zerolinecolor": "white"
           },
           "zaxis": {
            "backgroundcolor": "#E5ECF6",
            "gridcolor": "white",
            "gridwidth": 2,
            "linecolor": "white",
            "showbackground": true,
            "ticks": "",
            "zerolinecolor": "white"
           }
          },
          "shapedefaults": {
           "line": {
            "color": "#2a3f5f"
           }
          },
          "ternary": {
           "aaxis": {
            "gridcolor": "white",
            "linecolor": "white",
            "ticks": ""
           },
           "baxis": {
            "gridcolor": "white",
            "linecolor": "white",
            "ticks": ""
           },
           "bgcolor": "#E5ECF6",
           "caxis": {
            "gridcolor": "white",
            "linecolor": "white",
            "ticks": ""
           }
          },
          "title": {
           "x": 0.05
          },
          "xaxis": {
           "automargin": true,
           "gridcolor": "white",
           "linecolor": "white",
           "ticks": "",
           "title": {
            "standoff": 15
           },
           "zerolinecolor": "white",
           "zerolinewidth": 2
          },
          "yaxis": {
           "automargin": true,
           "gridcolor": "white",
           "linecolor": "white",
           "ticks": "",
           "title": {
            "standoff": 15
           },
           "zerolinecolor": "white",
           "zerolinewidth": 2
          }
         }
        },
        "title": {
         "text": "AutoRegressive Model Predictions"
        },
        "xaxis": {
         "title": {
          "text": "Time"
         }
        },
        "yaxis": {
         "title": {
          "text": "Value"
         }
        }
       }
      }
     },
     "metadata": {},
     "output_type": "display_data"
    }
   ],
   "source": [
    "mod_op = AutoReg(data_short, lags=1)\n",
    "res_op = mod_op.fit()\n",
    "predictions_op = res_op.predict(start=len(data_short), end=len(data_short) + 29)  # Adjusted end index\n",
    "\n",
    "fig_fit = go.Figure()\n",
    "\n",
    "# Plot original data\n",
    "fig_fit.add_trace(go.Scatter(x=np.arange(len(VHM)), y=VHM['VND'], mode='lines', name='Original Data'))\n",
    "\n",
    "# Plot the shorter data used for fitting the model\n",
    "x_data_short = np.arange(len(VHM) - total, len(VHM))\n",
    "fig_fit.add_trace(go.Scatter(x=x_data_short, y=data_short, mode='lines', name='Short Data for Fitting'))\n",
    "\n",
    "# Plot predicted values\n",
    "x_predict = np.arange(x_data_short[-1], x_data_short[-1] + 31)\n",
    "fig_fit.add_trace(go.Scatter(x=x_predict, y=predictions_op, mode='lines', name='Predictions'))\n",
    "\n",
    "fig_fit.add_trace(go.Scatter(x=[0, len(VHM)+30], y=[47.86, 47.86],\n",
    "                    mode='lines',\n",
    "                    name='Balance - HightSigma'))\n",
    "\n",
    "\n",
    "fig_fit.update_layout(title='AutoRegressive Model Predictions', xaxis_title='Time', yaxis_title='Value')\n",
    "\n",
    "fig_fit.show()"
   ]
  },
  {
   "cell_type": "code",
   "execution_count": 17,
   "metadata": {},
   "outputs": [
    {
     "name": "stdout",
     "output_type": "stream",
     "text": [
      "42.50463640538317 42.20153093501313 43.19575109504902\n"
     ]
    }
   ],
   "source": [
    "print(np.mean(predictions_op), np.min(predictions_op), np.max(predictions_op))"
   ]
  },
  {
   "cell_type": "code",
   "execution_count": 19,
   "metadata": {},
   "outputs": [
    {
     "data": {
      "text/plain": [
       "[<matplotlib.lines.Line2D at 0x78357ee99c90>]"
      ]
     },
     "execution_count": 19,
     "metadata": {},
     "output_type": "execute_result"
    },
    {
     "data": {
      "image/png": "[encoded data removed]",
      "text/plain": [
       "<Figure size 640x480 with 1 Axes>"
      ]
     },
     "metadata": {},
     "output_type": "display_data"
    }
   ],
   "source": [
    "total_2 = 12*30\n",
    "data_short_2 = VHM['VND'][len(VHM)-total_2:].reset_index(drop=True)\n",
    "\n",
    "plt.plot(data_short_2)"
   ]
  },
  {
   "cell_type": "code",
   "execution_count": 49,
   "metadata": {},
   "outputs": [
    {
     "data": {
      "text/plain": [
       "[<matplotlib.lines.Line2D at 0x78357c324f10>]"
      ]
     },
     "execution_count": 49,
     "metadata": {},
     "output_type": "execute_result"
    },
    {
     "data": {
      "image/png": "[encoded data removed]",
      "text/plain": [
       "<Figure size 640x480 with 1 Axes>"
      ]
     },
     "metadata": {},
     "output_type": "display_data"
    }
   ],
   "source": [
    "delta = []\n",
    "for i in range(len(data_short_2)-1):\n",
    "    delta.append(np.abs(data_short_2[i+1] - data_short_2[i]))\n",
    "\n",
    "plt.plot(delta)\n",
    "plt.plot(data_short_2)"
   ]
  },
  {
   "cell_type": "code",
   "execution_count": 50,
   "metadata": {},
   "outputs": [
    {
     "data": {
      "image/png": "[encoded data removed]",
      "text/plain": [
       "<Figure size 640x480 with 1 Axes>"
      ]
     },
     "metadata": {},
     "output_type": "display_data"
    }
   ],
   "source": [
    "plt.hist(delta, bins=50)\n",
    "plt.show()"
   ]
  },
  {
   "cell_type": "code",
   "execution_count": 51,
   "metadata": {},
   "outputs": [],
   "source": [
    "def check_outlier(data, low_th, high_th):\n",
    "   Q3 = np.percentile(data, high_th, method='midpoint')\n",
    "   Q1 = np.percentile(data, low_th, method='midpoint')\n",
    "   IQR = Q3 - Q1\n",
    "   lower = Q1 - 1.5*IQR\n",
    "   upper = Q3 + 1.5*IQR\n",
    "   mask = (data > upper) | (data < lower)\n",
    "   return mask\n",
    "\n",
    "def resample(data, total_size=50000):\n",
    "    result = []\n",
    "    while len(result) < total_size:\n",
    "        indices = np.random.randint(low=0, high=len(data), size=len(data))\n",
    "        sample = data[indices]\n",
    "        result.append(np.mean(sample))\n",
    "    mask = check_outlier(result, 5, 95)\n",
    "    result = np.delete(result, np.where(mask))\n",
    "    return result\n",
    "\n",
    "delta_resample = resample(np.array(delta))"
   ]
  },
  {
   "cell_type": "code",
   "execution_count": 54,
   "metadata": {},
   "outputs": [
    {
     "data": {
      "image/png": "[encoded data removed]",
      "text/plain": [
       "<Figure size 640x480 with 1 Axes>"
      ]
     },
     "metadata": {},
     "output_type": "display_data"
    },
    {
     "name": "stdout",
     "output_type": "stream",
     "text": [
      "0.8344011142061281\n"
     ]
    }
   ],
   "source": [
    "plt.hist(delta_resample, bins=50)\n",
    "plt.title('Delta VHM')\n",
    "plt.show()\n",
    "print(np.percentile(delta_resample, 90, method='midpoint'))"
   ]
  },
  {
   "cell_type": "markdown",
   "metadata": {},
   "source": [
    "# VNM\n",
    "\n",
    "Công ty Cổ phần Sữa Việt Nam (HOSE)"
   ]
  },
  {
   "cell_type": "code",
   "execution_count": 18,
   "metadata": {},
   "outputs": [
    {
     "data": {
      "application/vnd.plotly.v1+json": {
       "config": {
        "plotlyServerURL": "https://plot.ly"
       },
       "data": [
        {
         "mode": "lines",
         "name": "lines",
         "type": "scatter",
         "y": [
          117.9,
          118.3,
          117.4,
          118.5,
          118.8,
          118.6,
          118.9,
          117.4,
          117.8,
          117.8,
          118.2,
          118.6,
          119,
          121,
          121.3,
          116.6,
          108.5,
          108.3,
          105,
          106.6,
          107.5,
          110.2,
          109,
          107.2,
          107.2,
          106.9,
          106.6,
          107.5,
          105.5,
          106.4,
          106.4,
          108.5,
          106.4,
          108,
          105,
          107.4,
          104.5,
          104.5,
          105.3,
          104.8,
          104.5,
          104.2,
          97,
          101.7,
          101.6,
          100.9,
          99.1,
          97,
          96,
          95,
          89,
          90,
          83.7,
          86.1,
          92,
          94,
          94.1,
          91.2,
          91,
          94,
          95,
          96.2,
          98.5,
          99,
          100.1,
          99.6,
          99.1,
          99,
          99.2,
          99.3,
          99.3,
          100,
          96.8,
          97.5,
          96.1,
          102.8,
          102.8,
          100.5,
          99,
          97.6,
          100.5,
          101.5,
          103.4,
          105,
          108.5,
          113.9,
          113.7,
          113,
          110.8,
          111.1,
          112.6,
          114,
          115,
          114.4,
          117.6,
          117.6,
          115,
          114.8,
          115,
          116.1,
          116,
          116.6,
          117.8,
          119.2,
          122.8,
          125,
          123,
          122.3,
          118,
          112,
          117,
          115.6,
          115.2,
          115,
          115.4,
          116,
          117.1,
          116.4,
          115.9,
          111.9,
          112.7,
          114.7,
          113,
          114.1,
          116.5,
          116,
          115.5,
          115.9,
          115.3,
          114.8,
          115.2,
          116,
          117.5,
          116.8,
          115.7,
          116,
          114.1,
          114.2,
          111.1,
          103.4,
          109.9,
          106,
          109,
          107,
          109.2,
          111.3,
          112.1,
          114.8,
          115.5,
          114.5,
          114.5,
          115.6,
          116.4,
          116.7,
          117,
          115.6,
          115.3,
          115.2,
          115.6,
          116.5,
          117.3,
          117.1,
          117.2,
          119.3,
          121,
          123.2,
          124.7,
          125,
          126,
          124.2,
          123.8,
          124.7,
          123.8,
          124.2,
          124.8,
          124.2,
          124.5,
          126.4,
          130.1,
          129.6,
          129.2,
          127.3,
          127.7,
          128.3,
          109.2,
          108.9,
          109.3,
          108,
          107.3,
          107,
          108,
          106.9,
          106.7,
          107,
          107.1,
          107.4,
          107.5,
          107.4,
          107.7,
          106.2,
          106.4,
          106.7,
          110,
          110.5,
          109.6,
          107.4,
          106.9,
          108,
          107.6,
          107.7,
          108,
          108.8,
          108.8,
          108.8,
          107.5,
          107.5,
          107,
          107.4,
          107.1,
          107.6,
          109.4,
          109.7,
          110.9,
          110.6,
          109.6,
          110.5,
          109.9,
          109.8,
          108.2,
          109.7,
          109,
          109.5,
          109,
          110,
          109.2,
          109.7,
          112,
          112.6,
          113.4,
          111.2,
          111.6,
          110.4,
          110.4,
          111,
          109.9,
          110.2,
          108.7,
          109,
          108.7,
          109.2,
          108.8,
          108.8,
          109.3,
          110.8,
          109.8,
          110.4,
          112,
          115.9,
          116.3,
          114.5,
          113.1,
          113.9,
          113.3,
          107.7,
          109,
          110.3,
          108.7,
          108.2,
          106.7,
          103.3,
          96.1,
          102.8,
          102.7,
          106.4,
          109.7,
          108.8,
          109.6,
          105.3,
          108,
          108.7,
          109,
          108,
          107.5,
          107,
          105.8,
          104.6,
          104.8,
          105.6,
          104.9,
          104.5,
          103.4,
          103,
          102.2,
          100.5,
          101.1,
          102.8,
          102.2,
          102.2,
          101,
          100.5,
          102.5,
          101.7,
          100.8,
          100.2,
          98.7,
          98.5,
          97.4,
          99,
          99.2,
          98.4,
          101,
          102.7,
          102.6,
          101.5,
          100.1,
          99.9,
          99.8,
          100,
          100,
          99.3,
          99.1,
          96.9,
          96.1,
          99.3,
          98,
          99.5,
          96,
          95.7,
          93.7,
          93.5,
          91.6,
          92,
          89.6,
          87,
          93,
          91.2,
          91.8,
          90.5,
          89.5,
          87.2,
          87,
          87.5,
          88,
          89.2,
          91.2,
          90.5,
          91,
          90.5,
          91.1,
          90.5,
          89.9,
          89.4,
          90.2,
          89.5,
          89.4,
          89.7,
          89.1,
          92.2,
          92,
          92.5,
          92.9,
          91.8,
          91,
          92.1,
          90.6,
          90.6,
          90,
          88.7,
          89.7,
          89.2,
          91,
          90.4,
          90.9,
          90.1,
          89.2,
          87,
          89.8,
          88.4,
          87,
          86.3,
          84.3,
          85,
          85.2,
          85.9,
          85,
          85.9,
          85.3,
          86.8,
          87.6,
          88.9,
          87.5,
          86.9,
          86.8,
          86.1,
          86.5,
          87.1,
          87.1,
          86.6,
          87.2,
          87.7,
          89.4,
          90.9,
          90.5,
          89.9,
          89.5,
          89.3,
          90,
          90.3,
          87.8,
          86,
          86.3,
          86.9,
          87,
          87,
          87.4,
          87.4,
          88.1,
          88.3,
          86.3,
          85.4,
          85.2,
          86.5,
          87.2,
          87,
          86.1,
          86.4,
          86.5,
          88.7,
          88.8,
          91.5,
          90.8,
          90.7,
          88.8,
          89.3,
          89.6,
          89.6,
          89.8,
          90.2,
          89.6,
          89.3,
          88.8,
          89.6,
          90,
          90.4,
          90.1,
          90,
          90,
          89.8,
          90.3,
          90,
          89.1,
          90.5,
          90.1,
          89.6,
          90.4,
          90.6,
          90.7,
          90,
          89.2,
          88.2,
          88.4,
          89.2,
          90.8,
          89.8,
          89.7,
          89.6,
          89.3,
          89,
          88.6,
          88.8,
          88,
          86.1,
          86.2,
          86.3,
          87.5,
          87.5,
          88.3,
          87.5,
          87.6,
          87.5,
          87.4,
          85.8,
          85.3,
          86.5,
          86,
          87,
          86.3,
          86.4,
          86.3,
          86.3,
          86.6,
          85.7,
          85.7,
          85.5,
          85.4,
          84.7,
          86,
          86.1,
          85.5,
          85.2,
          85.3,
          86.4,
          86.7,
          86.2,
          85.4,
          85.2,
          83.7,
          83.7,
          83.1,
          83.1,
          84.7,
          82.9,
          83.4,
          83.4,
          83,
          82.6,
          81,
          79.2,
          79.7,
          83.1,
          83.1,
          83.5,
          82,
          82.8,
          82.7,
          82,
          81.1,
          81.2,
          80.4,
          80.8,
          80.6,
          81,
          80,
          80,
          78.6,
          78.9,
          78.4,
          79.2,
          78.5,
          78.4,
          77.9,
          76.8,
          76.1,
          75.1,
          77.1,
          78,
          77.2,
          77.2,
          77.3,
          76.4,
          76,
          77.6,
          76.9,
          76.1,
          75.6,
          75.2,
          73.4,
          75.5,
          76.2,
          80.9,
          81.7,
          82.2,
          80.4,
          79.3,
          78.5,
          77.3,
          76.8,
          77.2,
          76.3,
          76.5,
          77,
          76,
          75.6,
          75,
          75.9,
          73.5,
          75.9,
          75,
          74.3,
          74.2,
          72.5,
          72.1,
          70.2,
          70,
          70.6,
          69.5,
          66.5,
          66.1,
          65.8,
          70,
          70.3,
          69,
          68.1,
          66.3,
          68.9,
          71.9,
          71.3,
          73,
          72.5,
          71.7,
          71.9,
          71.1,
          70.3,
          70.8,
          70.6,
          71,
          70.2,
          69.5,
          66.4,
          66.1,
          64.5,
          68,
          66.7,
          69,
          73.7,
          70.6,
          70.7,
          71.5,
          71.1,
          70.8,
          72.3,
          72.2,
          73.7,
          75.1,
          73.1,
          70.7,
          73,
          73,
          73,
          73.3,
          72.5,
          72.4,
          71.6,
          71.7,
          72.8,
          73,
          73.2,
          72,
          72.9,
          72,
          72.2,
          72.6,
          72.8,
          73.5,
          73.4,
          73.4,
          73.3,
          72.6,
          72.2,
          72,
          72.5,
          71.1,
          71.9,
          71.5,
          71.8,
          72.6,
          73.4,
          74.1,
          73.7,
          75.8,
          77.7,
          77.9,
          76.9,
          75.5,
          76,
          75.5,
          77.5,
          77.8,
          75.7,
          75.7,
          75.9,
          75.3,
          75.7,
          74,
          74.5,
          76,
          75.2,
          75.8,
          76.9,
          76.9,
          76.7,
          74,
          72.4,
          71.8,
          72.7,
          72.3,
          71,
          70.9,
          71.6,
          70,
          69.8,
          70.5,
          70.2,
          71.6,
          73.8,
          74,
          74.1,
          76.5,
          76.6,
          77.5,
          77,
          74,
          76,
          76,
          78.5,
          78,
          78.5,
          80.2,
          78.3,
          80,
          80,
          82.2,
          82.4,
          80.9,
          78.4,
          78.4,
          79,
          77,
          74.5,
          76,
          77,
          77.9,
          79.5,
          79.4,
          81.2,
          82.2,
          81.7,
          83,
          82.8,
          82.4,
          84,
          85,
          82.5,
          82.5,
          81,
          80,
          78.5,
          78,
          77.5,
          77.6,
          78,
          77,
          78.7,
          79.7,
          77,
          76.2,
          76,
          76.6,
          77,
          77,
          76.1,
          78.5,
          79.3,
          81.2,
          79.8,
          80.7,
          81,
          79.4,
          80,
          80.6,
          79.4,
          80.9,
          81.3,
          81.3,
          80,
          79.4,
          77.1,
          77.2,
          76.7,
          76,
          77.4,
          76.1,
          75.8,
          75,
          75.9,
          75.3,
          74.7,
          76,
          76.5,
          76,
          77.5,
          77.2,
          75.5,
          75.7,
          74.7,
          75.2,
          75.5,
          76.9,
          76.5,
          76,
          75,
          75.8,
          76.5,
          76.5,
          76.9,
          76.9,
          76.6,
          77.1,
          76.4,
          74.5,
          74.3,
          74.4,
          74.4,
          75.3,
          75,
          74.6,
          74.4,
          74.9,
          75,
          74.4,
          74.4,
          74.2,
          74.5,
          74.3,
          74.7,
          74.4,
          74.4,
          74.3,
          73.5,
          72.8,
          71.7,
          73,
          72,
          71.9,
          70.9,
          70.5,
          69.9,
          71,
          69.5,
          70,
          68.6,
          68.8,
          70.4,
          70.7,
          70.5,
          70,
          69.6,
          69,
          69.7,
          69,
          69.2,
          68.6,
          68.2,
          67,
          66.3,
          67.1,
          67.1,
          67.1,
          66.5,
          66.1,
          66.1,
          65.9,
          66.5,
          66.4,
          66.2,
          65.5,
          65.8,
          67.9,
          67.6,
          67.1,
          66.3,
          66.1,
          65.8,
          65.5,
          66.3,
          66.9,
          69.1,
          70.6,
          70.5,
          70.6,
          71.9,
          71,
          70.7,
          70.6,
          69.8,
          70.5,
          70.9,
          72.1,
          72.8,
          73.5,
          73.1,
          73.3,
          72.3,
          72.4,
          72.6,
          72.6,
          73.5,
          73.6,
          74.5,
          75,
          75.7,
          77.4,
          78,
          76,
          76.1,
          72.6,
          73,
          74.9,
          74.5,
          73.1,
          73.1,
          73.5,
          73.4,
          72.8,
          73.1,
          73.6,
          73.3,
          72.9,
          72.7,
          73.5,
          74.7,
          74.9,
          77.9,
          77.4,
          77.8,
          77.8,
          80.1,
          80,
          79.5,
          80,
          79.5,
          80.3,
          79.1,
          79.4,
          79.5,
          78.9,
          78.9,
          78.3,
          78,
          77.5,
          77.6,
          76.1,
          76.6,
          74.8,
          74.2,
          75.6,
          74,
          74.4,
          72.7,
          74.2,
          73.7,
          74.4,
          74.4,
          75.5,
          75.8,
          75.2,
          74.8,
          73.9,
          71.4,
          72.3,
          70.2,
          70.3,
          69,
          67,
          68,
          67.6,
          68,
          70.4,
          70.9,
          70,
          71,
          70.8,
          71.4,
          70.7,
          69.6,
          68.7,
          68.9,
          70.7,
          70.3,
          70,
          69.3,
          69.5,
          69.4,
          68.7,
          68.3,
          68.1,
          68.5,
          68.4,
          67.4,
          68.4,
          68.8,
          68.1,
          68.5,
          68.4,
          69,
          70,
          69.4,
          68.2,
          68.4,
          68.1,
          67,
          67,
          68.1,
          67.8,
          67.6,
          67.9,
          68,
          67.5,
          68.5,
          67.6,
          68.3,
          69,
          69,
          68.8,
          68.2,
          68.1,
          67.5,
          67.9,
          67.2,
          67,
          67.4,
          67.1,
          67.4,
          68,
          68.3,
          67.7,
          67.3,
          66.9,
          67,
          67,
          66.9,
          67,
          67.5,
          67.4,
          68,
          67.6,
          67.6,
          67.6,
          70,
          71.9,
          71.5,
          71.3,
          71.6,
          71,
          71,
          72,
          72.2,
          72,
          71.5,
          72,
          73,
          71.8,
          72,
          70,
          70.3,
          70,
          70.8,
          70.5,
          68.8,
          67.9,
          67.8,
          68,
          68.4,
          67.8,
          67.3,
          67.7,
          67.7,
          67.7
         ]
        },
        {
         "mode": "lines",
         "name": "Balance",
         "type": "scatter",
         "x": [
          0,
          1058
         ],
         "y": [
          87.17,
          87.17
         ]
        },
        {
         "mode": "lines",
         "name": "Balance - HightSigma",
         "type": "scatter",
         "x": [
          0,
          1058
         ],
         "y": [
          69.8,
          69.8
         ]
        }
       ],
       "layout": {
        "template": {
         "data": {
          "bar": [
           {
            "error_x": {
             "color": "#2a3f5f"
            },
            "error_y": {
             "color": "#2a3f5f"
            },
            "marker": {
             "line": {
              "color": "#E5ECF6",
              "width": 0.5
             },
             "pattern": {
              "fillmode": "overlay",
              "size": 10,
              "solidity": 0.2
             }
            },
            "type": "bar"
           }
          ],
          "barpolar": [
           {
            "marker": {
             "line": {
              "color": "#E5ECF6",
              "width": 0.5
             },
             "pattern": {
              "fillmode": "overlay",
              "size": 10,
              "solidity": 0.2
             }
            },
            "type": "barpolar"
           }
          ],
          "carpet": [
           {
            "aaxis": {
             "endlinecolor": "#2a3f5f",
             "gridcolor": "white",
             "linecolor": "white",
             "minorgridcolor": "white",
             "startlinecolor": "#2a3f5f"
            },
            "baxis": {
             "endlinecolor": "#2a3f5f",
             "gridcolor": "white",
             "linecolor": "white",
             "minorgridcolor": "white",
             "startlinecolor": "#2a3f5f"
            },
            "type": "carpet"
           }
          ],
          "choropleth": [
           {
            "colorbar": {
             "outlinewidth": 0,
             "ticks": ""
            },
            "type": "choropleth"
           }
          ],
          "contour": [
           {
            "colorbar": {
             "outlinewidth": 0,
             "ticks": ""
            },
            "colorscale": [
             [
              0,
              "#0d0887"
             ],
             [
              0.1111111111111111,
              "#46039f"
             ],
             [
              0.2222222222222222,
              "#7201a8"
             ],
             [
              0.3333333333333333,
              "#9c179e"
             ],
             [
              0.4444444444444444,
              "#bd3786"
             ],
             [
              0.5555555555555556,
              "#d8576b"
             ],
             [
              0.6666666666666666,
              "#ed7953"
             ],
             [
              0.7777777777777778,
              "#fb9f3a"
             ],
             [
              0.8888888888888888,
              "#fdca26"
             ],
             [
              1,
              "#f0f921"
             ]
            ],
            "type": "contour"
           }
          ],
          "contourcarpet": [
           {
            "colorbar": {
             "outlinewidth": 0,
             "ticks": ""
            },
            "type": "contourcarpet"
           }
          ],
          "heatmap": [
           {
            "colorbar": {
             "outlinewidth": 0,
             "ticks": ""
            },
            "colorscale": [
             [
              0,
              "#0d0887"
             ],
             [
              0.1111111111111111,
              "#46039f"
             ],
             [
              0.2222222222222222,
              "#7201a8"
             ],
             [
              0.3333333333333333,
              "#9c179e"
             ],
             [
              0.4444444444444444,
              "#bd3786"
             ],
             [
              0.5555555555555556,
              "#d8576b"
             ],
             [
              0.6666666666666666,
              "#ed7953"
             ],
             [
              0.7777777777777778,
              "#fb9f3a"
             ],
             [
              0.8888888888888888,
              "#fdca26"
             ],
             [
              1,
              "#f0f921"
             ]
            ],
            "type": "heatmap"
           }
          ],
          "heatmapgl": [
           {
            "colorbar": {
             "outlinewidth": 0,
             "ticks": ""
            },
            "colorscale": [
             [
              0,
              "#0d0887"
             ],
             [
              0.1111111111111111,
              "#46039f"
             ],
             [
              0.2222222222222222,
              "#7201a8"
             ],
             [
              0.3333333333333333,
              "#9c179e"
             ],
             [
              0.4444444444444444,
              "#bd3786"
             ],
             [
              0.5555555555555556,
              "#d8576b"
             ],
             [
              0.6666666666666666,
              "#ed7953"
             ],
             [
              0.7777777777777778,
              "#fb9f3a"
             ],
             [
              0.8888888888888888,
              "#fdca26"
             ],
             [
              1,
              "#f0f921"
             ]
            ],
            "type": "heatmapgl"
           }
          ],
          "histogram": [
           {
            "marker": {
             "pattern": {
              "fillmode": "overlay",
              "size": 10,
              "solidity": 0.2
             }
            },
            "type": "histogram"
           }
          ],
          "histogram2d": [
           {
            "colorbar": {
             "outlinewidth": 0,
             "ticks": ""
            },
            "colorscale": [
             [
              0,
              "#0d0887"
             ],
             [
              0.1111111111111111,
              "#46039f"
             ],
             [
              0.2222222222222222,
              "#7201a8"
             ],
             [
              0.3333333333333333,
              "#9c179e"
             ],
             [
              0.4444444444444444,
              "#bd3786"
             ],
             [
              0.5555555555555556,
              "#d8576b"
             ],
             [
              0.6666666666666666,
              "#ed7953"
             ],
             [
              0.7777777777777778,
              "#fb9f3a"
             ],
             [
              0.8888888888888888,
              "#fdca26"
             ],
             [
              1,
              "#f0f921"
             ]
            ],
            "type": "histogram2d"
           }
          ],
          "histogram2dcontour": [
           {
            "colorbar": {
             "outlinewidth": 0,
             "ticks": ""
            },
            "colorscale": [
             [
              0,
              "#0d0887"
             ],
             [
              0.1111111111111111,
              "#46039f"
             ],
             [
              0.2222222222222222,
              "#7201a8"
             ],
             [
              0.3333333333333333,
              "#9c179e"
             ],
             [
              0.4444444444444444,
              "#bd3786"
             ],
             [
              0.5555555555555556,
              "#d8576b"
             ],
             [
              0.6666666666666666,
              "#ed7953"
             ],
             [
              0.7777777777777778,
              "#fb9f3a"
             ],
             [
              0.8888888888888888,
              "#fdca26"
             ],
             [
              1,
              "#f0f921"
             ]
            ],
            "type": "histogram2dcontour"
           }
          ],
          "mesh3d": [
           {
            "colorbar": {
             "outlinewidth": 0,
             "ticks": ""
            },
            "type": "mesh3d"
           }
          ],
          "parcoords": [
           {
            "line": {
             "colorbar": {
              "outlinewidth": 0,
              "ticks": ""
             }
            },
            "type": "parcoords"
           }
          ],
          "pie": [
           {
            "automargin": true,
            "type": "pie"
           }
          ],
          "scatter": [
           {
            "fillpattern": {
             "fillmode": "overlay",
             "size": 10,
             "solidity": 0.2
            },
            "type": "scatter"
           }
          ],
          "scatter3d": [
           {
            "line": {
             "colorbar": {
              "outlinewidth": 0,
              "ticks": ""
             }
            },
            "marker": {
             "colorbar": {
              "outlinewidth": 0,
              "ticks": ""
             }
            },
            "type": "scatter3d"
           }
          ],
          "scattercarpet": [
           {
            "marker": {
             "colorbar": {
              "outlinewidth": 0,
              "ticks": ""
             }
            },
            "type": "scattercarpet"
           }
          ],
          "scattergeo": [
           {
            "marker": {
             "colorbar": {
              "outlinewidth": 0,
              "ticks": ""
             }
            },
            "type": "scattergeo"
           }
          ],
          "scattergl": [
           {
            "marker": {
             "colorbar": {
              "outlinewidth": 0,
              "ticks": ""
             }
            },
            "type": "scattergl"
           }
          ],
          "scattermapbox": [
           {
            "marker": {
             "colorbar": {
              "outlinewidth": 0,
              "ticks": ""
             }
            },
            "type": "scattermapbox"
           }
          ],
          "scatterpolar": [
           {
            "marker": {
             "colorbar": {
              "outlinewidth": 0,
              "ticks": ""
             }
            },
            "type": "scatterpolar"
           }
          ],
          "scatterpolargl": [
           {
            "marker": {
             "colorbar": {
              "outlinewidth": 0,
              "ticks": ""
             }
            },
            "type": "scatterpolargl"
           }
          ],
          "scatterternary": [
           {
            "marker": {
             "colorbar": {
              "outlinewidth": 0,
              "ticks": ""
             }
            },
            "type": "scatterternary"
           }
          ],
          "surface": [
           {
            "colorbar": {
             "outlinewidth": 0,
             "ticks": ""
            },
            "colorscale": [
             [
              0,
              "#0d0887"
             ],
             [
              0.1111111111111111,
              "#46039f"
             ],
             [
              0.2222222222222222,
              "#7201a8"
             ],
             [
              0.3333333333333333,
              "#9c179e"
             ],
             [
              0.4444444444444444,
              "#bd3786"
             ],
             [
              0.5555555555555556,
              "#d8576b"
             ],
             [
              0.6666666666666666,
              "#ed7953"
             ],
             [
              0.7777777777777778,
              "#fb9f3a"
             ],
             [
              0.8888888888888888,
              "#fdca26"
             ],
             [
              1,
              "#f0f921"
             ]
            ],
            "type": "surface"
           }
          ],
          "table": [
           {
            "cells": {
             "fill": {
              "color": "#EBF0F8"
             },
             "line": {
              "color": "white"
             }
            },
            "header": {
             "fill": {
              "color": "#C8D4E3"
             },
             "line": {
              "color": "white"
             }
            },
            "type": "table"
           }
          ]
         },
         "layout": {
          "annotationdefaults": {
           "arrowcolor": "#2a3f5f",
           "arrowhead": 0,
           "arrowwidth": 1
          },
          "autotypenumbers": "strict",
          "coloraxis": {
           "colorbar": {
            "outlinewidth": 0,
            "ticks": ""
           }
          },
          "colorscale": {
           "diverging": [
            [
             0,
             "#8e0152"
            ],
            [
             0.1,
             "#c51b7d"
            ],
            [
             0.2,
             "#de77ae"
            ],
            [
             0.3,
             "#f1b6da"
            ],
            [
             0.4,
             "#fde0ef"
            ],
            [
             0.5,
             "#f7f7f7"
            ],
            [
             0.6,
             "#e6f5d0"
            ],
            [
             0.7,
             "#b8e186"
            ],
            [
             0.8,
             "#7fbc41"
            ],
            [
             0.9,
             "#4d9221"
            ],
            [
             1,
             "#276419"
            ]
           ],
           "sequential": [
            [
             0,
             "#0d0887"
            ],
            [
             0.1111111111111111,
             "#46039f"
            ],
            [
             0.2222222222222222,
             "#7201a8"
            ],
            [
             0.3333333333333333,
             "#9c179e"
            ],
            [
             0.4444444444444444,
             "#bd3786"
            ],
            [
             0.5555555555555556,
             "#d8576b"
            ],
            [
             0.6666666666666666,
             "#ed7953"
            ],
            [
             0.7777777777777778,
             "#fb9f3a"
            ],
            [
             0.8888888888888888,
             "#fdca26"
            ],
            [
             1,
             "#f0f921"
            ]
           ],
           "sequentialminus": [
            [
             0,
             "#0d0887"
            ],
            [
             0.1111111111111111,
             "#46039f"
            ],
            [
             0.2222222222222222,
             "#7201a8"
            ],
            [
             0.3333333333333333,
             "#9c179e"
            ],
            [
             0.4444444444444444,
             "#bd3786"
            ],
            [
             0.5555555555555556,
             "#d8576b"
            ],
            [
             0.6666666666666666,
             "#ed7953"
            ],
            [
             0.7777777777777778,
             "#fb9f3a"
            ],
            [
             0.8888888888888888,
             "#fdca26"
            ],
            [
             1,
             "#f0f921"
            ]
           ]
          },
          "colorway": [
           "#636efa",
           "#EF553B",
           "#00cc96",
           "#ab63fa",
           "#FFA15A",
           "#19d3f3",
           "#FF6692",
           "#B6E880",
           "#FF97FF",
           "#FECB52"
          ],
          "font": {
           "color": "#2a3f5f"
          },
          "geo": {
           "bgcolor": "white",
           "lakecolor": "white",
           "landcolor": "#E5ECF6",
           "showlakes": true,
           "showland": true,
           "subunitcolor": "white"
          },
          "hoverlabel": {
           "align": "left"
          },
          "hovermode": "closest",
          "mapbox": {
           "style": "light"
          },
          "paper_bgcolor": "white",
          "plot_bgcolor": "#E5ECF6",
          "polar": {
           "angularaxis": {
            "gridcolor": "white",
            "linecolor": "white",
            "ticks": ""
           },
           "bgcolor": "#E5ECF6",
           "radialaxis": {
            "gridcolor": "white",
            "linecolor": "white",
            "ticks": ""
           }
          },
          "scene": {
           "xaxis": {
            "backgroundcolor": "#E5ECF6",
            "gridcolor": "white",
            "gridwidth": 2,
            "linecolor": "white",
            "showbackground": true,
            "ticks": "",
            "zerolinecolor": "white"
           },
           "yaxis": {
            "backgroundcolor": "#E5ECF6",
            "gridcolor": "white",
            "gridwidth": 2,
            "linecolor": "white",
            "showbackground": true,
            "ticks": "",
            "zerolinecolor": "white"
           },
           "zaxis": {
            "backgroundcolor": "#E5ECF6",
            "gridcolor": "white",
            "gridwidth": 2,
            "linecolor": "white",
            "showbackground": true,
            "ticks": "",
            "zerolinecolor": "white"
           }
          },
          "shapedefaults": {
           "line": {
            "color": "#2a3f5f"
           }
          },
          "ternary": {
           "aaxis": {
            "gridcolor": "white",
            "linecolor": "white",
            "ticks": ""
           },
           "baxis": {
            "gridcolor": "white",
            "linecolor": "white",
            "ticks": ""
           },
           "bgcolor": "#E5ECF6",
           "caxis": {
            "gridcolor": "white",
            "linecolor": "white",
            "ticks": ""
           }
          },
          "title": {
           "x": 0.05
          },
          "xaxis": {
           "automargin": true,
           "gridcolor": "white",
           "linecolor": "white",
           "ticks": "",
           "title": {
            "standoff": 15
           },
           "zerolinecolor": "white",
           "zerolinewidth": 2
          },
          "yaxis": {
           "automargin": true,
           "gridcolor": "white",
           "linecolor": "white",
           "ticks": "",
           "title": {
            "standoff": 15
           },
           "zerolinecolor": "white",
           "zerolinewidth": 2
          }
         }
        }
       }
      }
     },
     "metadata": {},
     "output_type": "display_data"
    }
   ],
   "source": [
    "VNM = pd.read_csv('data/2024-03-28_VNM.csv')[::-1].reset_index(drop=True)\n",
    "\n",
    "fig_vnm = go.Figure()\n",
    "\n",
    "fig_vnm.add_trace(go.Scatter(y=VNM['VND'],\n",
    "                    mode='lines',\n",
    "                    name='lines'))\n",
    "\n",
    "fig_vnm.add_trace(go.Scatter(x=[0, len(VNM)], y=[87.17, 87.17],\n",
    "                    mode='lines',\n",
    "                    name='Balance'))\n",
    "\n",
    "fig_vnm.add_trace(go.Scatter(x=[0, len(VNM)], y=[69.8, 69.8],\n",
    "                    mode='lines',\n",
    "                    name='Balance - HightSigma'))\n",
    "\n",
    "fig_vnm.show()"
   ]
  },
  {
   "cell_type": "code",
   "execution_count": null,
   "metadata": {},
   "outputs": [],
   "source": []
  }
 ],
 "metadata": {
  "kernelspec": {
   "display_name": "Python 3",
   "language": "python",
   "name": "python3"
  },
  "language_info": {
   "codemirror_mode": {
    "name": "ipython",
    "version": 3
   },
   "file_extension": ".py",
   "mimetype": "text/x-python",
   "name": "python",
   "nbconvert_exporter": "python",
   "pygments_lexer": "ipython3",
   "version": "3.10.12"
  }
 },
 "nbformat": 4,
 "nbformat_minor": 2
}
